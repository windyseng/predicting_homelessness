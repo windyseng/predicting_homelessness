{
 "cells": [
  {
   "cell_type": "markdown",
   "metadata": {},
   "source": [
    "# Data Visualization"
   ]
  },
  {
   "cell_type": "code",
   "execution_count": 193,
   "metadata": {},
   "outputs": [
    {
     "data": {
      "text/html": [
       "        <script type=\"text/javascript\">\n",
       "        window.PlotlyConfig = {MathJaxConfig: 'local'};\n",
       "        if (window.MathJax) {MathJax.Hub.Config({SVG: {font: \"STIX-Web\"}});}\n",
       "        if (typeof require !== 'undefined') {\n",
       "        require.undef(\"plotly\");\n",
       "        requirejs.config({\n",
       "            paths: {\n",
       "                'plotly': ['https://cdn.plot.ly/plotly-latest.min']\n",
       "            }\n",
       "        });\n",
       "        require(['plotly'], function(Plotly) {\n",
       "            window._Plotly = Plotly;\n",
       "        });\n",
       "        }\n",
       "        </script>\n",
       "        "
      ]
     },
     "metadata": {},
     "output_type": "display_data"
    }
   ],
   "source": [
    "import pandas as pd\n",
    "import numpy as np\n",
    "import plotly.express as px\n",
    "import plotly.graph_objects as go\n",
    "from plotly.offline import plot, iplot, init_notebook_mode\n",
    "import plotly.graph_objs as go\n",
    "init_notebook_mode(connected=True)\n",
    "#!pip install plotly-geo"
   ]
  },
  {
   "cell_type": "code",
   "execution_count": 194,
   "metadata": {},
   "outputs": [],
   "source": [
    "DF = pd.read_csv('State_Homeless.csv')"
   ]
  },
  {
   "cell_type": "code",
   "execution_count": 195,
   "metadata": {},
   "outputs": [
    {
     "data": {
      "text/html": [
       "<div>\n",
       "<style scoped>\n",
       "    .dataframe tbody tr th:only-of-type {\n",
       "        vertical-align: middle;\n",
       "    }\n",
       "\n",
       "    .dataframe tbody tr th {\n",
       "        vertical-align: top;\n",
       "    }\n",
       "\n",
       "    .dataframe thead th {\n",
       "        text-align: right;\n",
       "    }\n",
       "</style>\n",
       "<table border=\"1\" class=\"dataframe\">\n",
       "  <thead>\n",
       "    <tr style=\"text-align: right;\">\n",
       "      <th></th>\n",
       "      <th>State</th>\n",
       "      <th>Total Homeless</th>\n",
       "      <th>Homeless Families</th>\n",
       "      <th>Homeless Veterans</th>\n",
       "      <th>Year</th>\n",
       "    </tr>\n",
       "  </thead>\n",
       "  <tbody>\n",
       "    <tr>\n",
       "      <th>0</th>\n",
       "      <td>AK</td>\n",
       "      <td>1940</td>\n",
       "      <td>413</td>\n",
       "      <td>168</td>\n",
       "      <td>2016</td>\n",
       "    </tr>\n",
       "    <tr>\n",
       "      <th>1</th>\n",
       "      <td>AL</td>\n",
       "      <td>4111</td>\n",
       "      <td>1092</td>\n",
       "      <td>373</td>\n",
       "      <td>2016</td>\n",
       "    </tr>\n",
       "    <tr>\n",
       "      <th>2</th>\n",
       "      <td>AR</td>\n",
       "      <td>2463</td>\n",
       "      <td>625</td>\n",
       "      <td>222</td>\n",
       "      <td>2016</td>\n",
       "    </tr>\n",
       "    <tr>\n",
       "      <th>3</th>\n",
       "      <td>AZ</td>\n",
       "      <td>9707</td>\n",
       "      <td>3048</td>\n",
       "      <td>1036</td>\n",
       "      <td>2016</td>\n",
       "    </tr>\n",
       "    <tr>\n",
       "      <th>4</th>\n",
       "      <td>CA</td>\n",
       "      <td>118142</td>\n",
       "      <td>20482</td>\n",
       "      <td>9612</td>\n",
       "      <td>2016</td>\n",
       "    </tr>\n",
       "  </tbody>\n",
       "</table>\n",
       "</div>"
      ],
      "text/plain": [
       "  State Total Homeless Homeless Families Homeless Veterans  Year\n",
       "0    AK          1940               413               168   2016\n",
       "1    AL          4111              1092               373   2016\n",
       "2    AR          2463               625               222   2016\n",
       "3    AZ          9707              3048              1036   2016\n",
       "4    CA        118142             20482              9612   2016"
      ]
     },
     "execution_count": 195,
     "metadata": {},
     "output_type": "execute_result"
    }
   ],
   "source": [
    "DF.head()"
   ]
  },
  {
   "cell_type": "code",
   "execution_count": 196,
   "metadata": {},
   "outputs": [],
   "source": [
    "df1 = pd.read_csv('statelatlong.csv')"
   ]
  },
  {
   "cell_type": "code",
   "execution_count": 197,
   "metadata": {},
   "outputs": [
    {
     "data": {
      "text/html": [
       "<div>\n",
       "<style scoped>\n",
       "    .dataframe tbody tr th:only-of-type {\n",
       "        vertical-align: middle;\n",
       "    }\n",
       "\n",
       "    .dataframe tbody tr th {\n",
       "        vertical-align: top;\n",
       "    }\n",
       "\n",
       "    .dataframe thead th {\n",
       "        text-align: right;\n",
       "    }\n",
       "</style>\n",
       "<table border=\"1\" class=\"dataframe\">\n",
       "  <thead>\n",
       "    <tr style=\"text-align: right;\">\n",
       "      <th></th>\n",
       "      <th>State_Abr</th>\n",
       "      <th>Latitude</th>\n",
       "      <th>Longitude</th>\n",
       "      <th>State</th>\n",
       "    </tr>\n",
       "  </thead>\n",
       "  <tbody>\n",
       "    <tr>\n",
       "      <th>0</th>\n",
       "      <td>AL</td>\n",
       "      <td>32.601011</td>\n",
       "      <td>-86.680736</td>\n",
       "      <td>Alabama</td>\n",
       "    </tr>\n",
       "    <tr>\n",
       "      <th>1</th>\n",
       "      <td>AK</td>\n",
       "      <td>61.302501</td>\n",
       "      <td>-158.775020</td>\n",
       "      <td>Alaska</td>\n",
       "    </tr>\n",
       "    <tr>\n",
       "      <th>2</th>\n",
       "      <td>AZ</td>\n",
       "      <td>34.168219</td>\n",
       "      <td>-111.930907</td>\n",
       "      <td>Arizona</td>\n",
       "    </tr>\n",
       "    <tr>\n",
       "      <th>3</th>\n",
       "      <td>AR</td>\n",
       "      <td>34.751928</td>\n",
       "      <td>-92.131378</td>\n",
       "      <td>Arkansas</td>\n",
       "    </tr>\n",
       "    <tr>\n",
       "      <th>4</th>\n",
       "      <td>CA</td>\n",
       "      <td>37.271875</td>\n",
       "      <td>-119.270415</td>\n",
       "      <td>California</td>\n",
       "    </tr>\n",
       "  </tbody>\n",
       "</table>\n",
       "</div>"
      ],
      "text/plain": [
       "  State_Abr   Latitude   Longitude       State\n",
       "0        AL  32.601011  -86.680736     Alabama\n",
       "1        AK  61.302501 -158.775020      Alaska\n",
       "2        AZ  34.168219 -111.930907     Arizona\n",
       "3        AR  34.751928  -92.131378    Arkansas\n",
       "4        CA  37.271875 -119.270415  California"
      ]
     },
     "execution_count": 197,
     "metadata": {},
     "output_type": "execute_result"
    }
   ],
   "source": [
    "df1.head()"
   ]
  },
  {
   "cell_type": "code",
   "execution_count": 198,
   "metadata": {},
   "outputs": [],
   "source": [
    "df = pd.merge(DF, df1, left_on='State', right_on='State_Abr')"
   ]
  },
  {
   "cell_type": "code",
   "execution_count": 199,
   "metadata": {},
   "outputs": [
    {
     "data": {
      "text/html": [
       "<div>\n",
       "<style scoped>\n",
       "    .dataframe tbody tr th:only-of-type {\n",
       "        vertical-align: middle;\n",
       "    }\n",
       "\n",
       "    .dataframe tbody tr th {\n",
       "        vertical-align: top;\n",
       "    }\n",
       "\n",
       "    .dataframe thead th {\n",
       "        text-align: right;\n",
       "    }\n",
       "</style>\n",
       "<table border=\"1\" class=\"dataframe\">\n",
       "  <thead>\n",
       "    <tr style=\"text-align: right;\">\n",
       "      <th></th>\n",
       "      <th>State_x</th>\n",
       "      <th>Total Homeless</th>\n",
       "      <th>Homeless Families</th>\n",
       "      <th>Homeless Veterans</th>\n",
       "      <th>Year</th>\n",
       "      <th>State_Abr</th>\n",
       "      <th>Latitude</th>\n",
       "      <th>Longitude</th>\n",
       "      <th>State_y</th>\n",
       "    </tr>\n",
       "  </thead>\n",
       "  <tbody>\n",
       "    <tr>\n",
       "      <th>0</th>\n",
       "      <td>AK</td>\n",
       "      <td>1940</td>\n",
       "      <td>413</td>\n",
       "      <td>168</td>\n",
       "      <td>2016</td>\n",
       "      <td>AK</td>\n",
       "      <td>61.302501</td>\n",
       "      <td>-158.77502</td>\n",
       "      <td>Alaska</td>\n",
       "    </tr>\n",
       "  </tbody>\n",
       "</table>\n",
       "</div>"
      ],
      "text/plain": [
       "  State_x Total Homeless Homeless Families Homeless Veterans  Year State_Abr  \\\n",
       "0      AK          1940               413               168   2016        AK   \n",
       "\n",
       "    Latitude  Longitude State_y  \n",
       "0  61.302501 -158.77502  Alaska  "
      ]
     },
     "execution_count": 199,
     "metadata": {},
     "output_type": "execute_result"
    }
   ],
   "source": [
    "df.head(1)"
   ]
  },
  {
   "cell_type": "code",
   "execution_count": 200,
   "metadata": {},
   "outputs": [],
   "source": [
    "df.drop('State_x', axis=1, inplace=True)\n",
    "df.rename({'State_y': 'State_Name'}, axis=1, inplace=True)"
   ]
  },
  {
   "cell_type": "code",
   "execution_count": 201,
   "metadata": {
    "scrolled": true
   },
   "outputs": [
    {
     "data": {
      "text/html": [
       "<div>\n",
       "<style scoped>\n",
       "    .dataframe tbody tr th:only-of-type {\n",
       "        vertical-align: middle;\n",
       "    }\n",
       "\n",
       "    .dataframe tbody tr th {\n",
       "        vertical-align: top;\n",
       "    }\n",
       "\n",
       "    .dataframe thead th {\n",
       "        text-align: right;\n",
       "    }\n",
       "</style>\n",
       "<table border=\"1\" class=\"dataframe\">\n",
       "  <thead>\n",
       "    <tr style=\"text-align: right;\">\n",
       "      <th></th>\n",
       "      <th>Total Homeless</th>\n",
       "      <th>Homeless Families</th>\n",
       "      <th>Homeless Veterans</th>\n",
       "      <th>Year</th>\n",
       "      <th>State_Abr</th>\n",
       "      <th>Latitude</th>\n",
       "      <th>Longitude</th>\n",
       "      <th>State_Name</th>\n",
       "    </tr>\n",
       "  </thead>\n",
       "  <tbody>\n",
       "    <tr>\n",
       "      <th>0</th>\n",
       "      <td>1940</td>\n",
       "      <td>413</td>\n",
       "      <td>168</td>\n",
       "      <td>2016</td>\n",
       "      <td>AK</td>\n",
       "      <td>61.302501</td>\n",
       "      <td>-158.77502</td>\n",
       "      <td>Alaska</td>\n",
       "    </tr>\n",
       "    <tr>\n",
       "      <th>1</th>\n",
       "      <td>1956</td>\n",
       "      <td>614</td>\n",
       "      <td>180</td>\n",
       "      <td>2015</td>\n",
       "      <td>AK</td>\n",
       "      <td>61.302501</td>\n",
       "      <td>-158.77502</td>\n",
       "      <td>Alaska</td>\n",
       "    </tr>\n",
       "    <tr>\n",
       "      <th>2</th>\n",
       "      <td>1784</td>\n",
       "      <td>575</td>\n",
       "      <td>178</td>\n",
       "      <td>2014</td>\n",
       "      <td>AK</td>\n",
       "      <td>61.302501</td>\n",
       "      <td>-158.77502</td>\n",
       "      <td>Alaska</td>\n",
       "    </tr>\n",
       "    <tr>\n",
       "      <th>3</th>\n",
       "      <td>1946</td>\n",
       "      <td>196</td>\n",
       "      <td>210</td>\n",
       "      <td>2013</td>\n",
       "      <td>AK</td>\n",
       "      <td>61.302501</td>\n",
       "      <td>-158.77502</td>\n",
       "      <td>Alaska</td>\n",
       "    </tr>\n",
       "    <tr>\n",
       "      <th>4</th>\n",
       "      <td>1913</td>\n",
       "      <td>216</td>\n",
       "      <td>256</td>\n",
       "      <td>2012</td>\n",
       "      <td>AK</td>\n",
       "      <td>61.302501</td>\n",
       "      <td>-158.77502</td>\n",
       "      <td>Alaska</td>\n",
       "    </tr>\n",
       "  </tbody>\n",
       "</table>\n",
       "</div>"
      ],
      "text/plain": [
       "  Total Homeless Homeless Families Homeless Veterans  Year State_Abr  \\\n",
       "0          1940               413               168   2016        AK   \n",
       "1          1956               614               180   2015        AK   \n",
       "2          1784               575               178   2014        AK   \n",
       "3          1946               196               210   2013        AK   \n",
       "4          1913               216               256   2012        AK   \n",
       "\n",
       "    Latitude  Longitude State_Name  \n",
       "0  61.302501 -158.77502     Alaska  \n",
       "1  61.302501 -158.77502     Alaska  \n",
       "2  61.302501 -158.77502     Alaska  \n",
       "3  61.302501 -158.77502     Alaska  \n",
       "4  61.302501 -158.77502     Alaska  "
      ]
     },
     "execution_count": 201,
     "metadata": {},
     "output_type": "execute_result"
    }
   ],
   "source": [
    "df.head()"
   ]
  },
  {
   "cell_type": "code",
   "execution_count": 202,
   "metadata": {},
   "outputs": [],
   "source": [
    "#df['text'] = df['State_Name'].astype(str) + '<br>Total Homeless: ' + df['Total Homeless'].astype(str) + '<br>Homeless Families: ' + df['Homeless Families'].astype(str) + '<br>Homeless Veterans: ' + df['Homeless Veterans'].astype(str)"
   ]
  },
  {
   "cell_type": "code",
   "execution_count": 203,
   "metadata": {},
   "outputs": [],
   "source": [
    "for col in df.columns:\n",
    "    df[col] = df[col].astype(str)"
   ]
  },
  {
   "cell_type": "code",
   "execution_count": 204,
   "metadata": {},
   "outputs": [],
   "source": [
    "#token = 'pk.eyJ1IjoiamVubWMiLCJhIjoiY2p5cmZzeW83MDk3NDNubno5NjdxZGJjOSJ9.Nr_qwIlXTvGIT8bmynuKUQ'"
   ]
  },
  {
   "cell_type": "code",
   "execution_count": 205,
   "metadata": {},
   "outputs": [],
   "source": [
    "mapbox = 'https://api.mapbox.com/tokens/v2/jenmc?access_token=pk.eyJ1IjoiamVubWMiLCJhIjoiY2p5cmZzeW83MDk3NDNubno5NjdxZGJjOSJ9.Nr_qwIlXTvGIT8bmynuKUQ'\n",
    "#example API Call"
   ]
  },
  {
   "cell_type": "code",
   "execution_count": 206,
   "metadata": {
    "scrolled": true
   },
   "outputs": [
    {
     "name": "stdout",
     "output_type": "stream",
     "text": [
      "<class 'pandas.core.frame.DataFrame'>\n",
      "Int64Index: 510 entries, 0 to 509\n",
      "Data columns (total 8 columns):\n",
      "Total Homeless       510 non-null object\n",
      "Homeless Families    510 non-null object\n",
      "Homeless Veterans    510 non-null object\n",
      "Year                 510 non-null object\n",
      "State_Abr            510 non-null object\n",
      "Latitude             510 non-null object\n",
      "Longitude            510 non-null object\n",
      "State_Name           510 non-null object\n",
      "dtypes: object(8)\n",
      "memory usage: 35.9+ KB\n"
     ]
    }
   ],
   "source": [
    "df.info()"
   ]
  },
  {
   "cell_type": "code",
   "execution_count": 207,
   "metadata": {},
   "outputs": [],
   "source": [
    "df['Total Homeless'] = df['Total Homeless'].apply(lambda x: int(x))"
   ]
  },
  {
   "cell_type": "code",
   "execution_count": 208,
   "metadata": {},
   "outputs": [],
   "source": [
    "df['Homeless Families'] = df['Homeless Families'].apply(lambda x: int(x))"
   ]
  },
  {
   "cell_type": "code",
   "execution_count": 209,
   "metadata": {},
   "outputs": [],
   "source": [
    "df['Homeless Veterans'] = df['Homeless Veterans'].apply(lambda x: int(x))"
   ]
  },
  {
   "cell_type": "code",
   "execution_count": 210,
   "metadata": {},
   "outputs": [],
   "source": [
    "df['Year'] = df['Year'].apply(lambda x: int(x))"
   ]
  },
  {
   "cell_type": "code",
   "execution_count": 211,
   "metadata": {},
   "outputs": [],
   "source": [
    "df['Latitude']  =df['Latitude'].apply(lambda x: float(x))"
   ]
  },
  {
   "cell_type": "code",
   "execution_count": 212,
   "metadata": {},
   "outputs": [],
   "source": [
    "df['Longitude']  = df['Longitude'].apply(lambda x: float(x))"
   ]
  },
  {
   "cell_type": "code",
   "execution_count": null,
   "metadata": {},
   "outputs": [],
   "source": []
  },
  {
   "cell_type": "code",
   "execution_count": 213,
   "metadata": {
    "scrolled": true
   },
   "outputs": [
    {
     "data": {
      "application/vnd.plotly.v1+json": {
       "config": {
        "plotlyServerURL": "https://plot.ly"
       },
       "data": [
        {
         "hoverlabel": {
          "namelength": 0
         },
         "hovertemplate": "Year=2016<br>Latitude=%{lat}<br>Longitude=%{lon}<br>Total Homeless=%{marker.color}",
         "lat": [
          61.3025006,
          32.601011199999995,
          34.7519275,
          34.1682185,
          37.2718745,
          38.9979339,
          41.518783500000005,
          38.899348700000004,
          39.145251,
          27.9757279,
          32.6781248,
          20.46,
          41.9383166,
          45.4945756,
          39.739318,
          39.7662195,
          38.4987789,
          37.8222935,
          30.9733766,
          42.062939799999995,
          38.806352399999994,
          45.2185133,
          44.9435598,
          46.4418595,
          38.3046615,
          32.5851062,
          46.6797995,
          35.2145629,
          47.467881899999995,
          41.5008195,
          44.00123060000001,
          40.1430058,
          34.1662325,
          38.502032,
          40.7056258,
          40.1903624,
          35.309765399999996,
          44.1419049,
          40.99459279999999,
          41.5827282,
          33.62505,
          44.2126995,
          35.830521000000005,
          31.1693363,
          39.4997605,
          38.0033855,
          43.8717545,
          38.899348700000004,
          44.7862968,
          38.920170500000005,
          43.000325
         ],
         "legendgroup": "",
         "lon": [
          -158.7750198,
          -86.6807365,
          -92.13137840000002,
          -111.930907,
          -119.2704153,
          -105.55056699999999,
          -72.75750699999999,
          -77.0145666,
          -75.41892059999999,
          -83.8330166,
          -83.22297569999999,
          -157.505,
          -93.389798,
          -114.1424303,
          -89.504139,
          -86.441277,
          -98.32007790000002,
          -85.76823990000001,
          -91.42990970000001,
          -71.718067,
          -77.2684162,
          -69.0148656,
          -86.41580490000001,
          -93.3655146,
          -92.437099,
          -89.8772196,
          -110.04478300000001,
          -79.8912675,
          -100.3022655,
          -99.680902,
          -71.57992309999999,
          -74.7311156,
          -106.02606850000001,
          -117.0230604,
          -73.97968,
          -82.6692525,
          -98.71655849999999,
          -120.5380993,
          -77.6046984,
          -71.5064508,
          -80.9470381,
          -100.24716409999999,
          -85.97859890000001,
          -100.0768425,
          -111.547028,
          -79.4587861,
          -72.4477828,
          -77.0145665,
          -89.82670490000001,
          -80.1816905,
          -107.5545669
         ],
         "marker": {
          "color": [
           1940,
           4111,
           2463,
           9707,
           118142,
           10550,
           3902,
           8350,
           1070,
           33559,
           12909,
           7921,
           3064,
           2247,
           11590,
           5798,
           2255,
           4237,
           3994,
           19608,
           7689,
           2241,
           9316,
           7341,
           6194,
           1738,
           1418,
           9559,
           923,
           2754,
           1366,
           8895,
           2263,
           7398,
           86352,
           10404,
           4107,
           13238,
           15339,
           1160,
           5051,
           1072,
           8779,
           23122,
           2807,
           6268,
           1117,
           20827,
           5685,
           1387,
           857
          ],
          "coloraxis": "coloraxis"
         },
         "mode": "markers",
         "name": "",
         "showlegend": false,
         "subplot": "mapbox",
         "type": "scattermapbox"
        }
       ],
       "frames": [
        {
         "data": [
          {
           "hoverlabel": {
            "namelength": 0
           },
           "hovertemplate": "Year=2016<br>Latitude=%{lat}<br>Longitude=%{lon}<br>Total Homeless=%{marker.color}",
           "lat": [
            61.3025006,
            32.601011199999995,
            34.7519275,
            34.1682185,
            37.2718745,
            38.9979339,
            41.518783500000005,
            38.899348700000004,
            39.145251,
            27.9757279,
            32.6781248,
            20.46,
            41.9383166,
            45.4945756,
            39.739318,
            39.7662195,
            38.4987789,
            37.8222935,
            30.9733766,
            42.062939799999995,
            38.806352399999994,
            45.2185133,
            44.9435598,
            46.4418595,
            38.3046615,
            32.5851062,
            46.6797995,
            35.2145629,
            47.467881899999995,
            41.5008195,
            44.00123060000001,
            40.1430058,
            34.1662325,
            38.502032,
            40.7056258,
            40.1903624,
            35.309765399999996,
            44.1419049,
            40.99459279999999,
            41.5827282,
            33.62505,
            44.2126995,
            35.830521000000005,
            31.1693363,
            39.4997605,
            38.0033855,
            43.8717545,
            38.899348700000004,
            44.7862968,
            38.920170500000005,
            43.000325
           ],
           "legendgroup": "",
           "lon": [
            -158.7750198,
            -86.6807365,
            -92.13137840000002,
            -111.930907,
            -119.2704153,
            -105.55056699999999,
            -72.75750699999999,
            -77.0145666,
            -75.41892059999999,
            -83.8330166,
            -83.22297569999999,
            -157.505,
            -93.389798,
            -114.1424303,
            -89.504139,
            -86.441277,
            -98.32007790000002,
            -85.76823990000001,
            -91.42990970000001,
            -71.718067,
            -77.2684162,
            -69.0148656,
            -86.41580490000001,
            -93.3655146,
            -92.437099,
            -89.8772196,
            -110.04478300000001,
            -79.8912675,
            -100.3022655,
            -99.680902,
            -71.57992309999999,
            -74.7311156,
            -106.02606850000001,
            -117.0230604,
            -73.97968,
            -82.6692525,
            -98.71655849999999,
            -120.5380993,
            -77.6046984,
            -71.5064508,
            -80.9470381,
            -100.24716409999999,
            -85.97859890000001,
            -100.0768425,
            -111.547028,
            -79.4587861,
            -72.4477828,
            -77.0145665,
            -89.82670490000001,
            -80.1816905,
            -107.5545669
           ],
           "marker": {
            "color": [
             1940,
             4111,
             2463,
             9707,
             118142,
             10550,
             3902,
             8350,
             1070,
             33559,
             12909,
             7921,
             3064,
             2247,
             11590,
             5798,
             2255,
             4237,
             3994,
             19608,
             7689,
             2241,
             9316,
             7341,
             6194,
             1738,
             1418,
             9559,
             923,
             2754,
             1366,
             8895,
             2263,
             7398,
             86352,
             10404,
             4107,
             13238,
             15339,
             1160,
             5051,
             1072,
             8779,
             23122,
             2807,
             6268,
             1117,
             20827,
             5685,
             1387,
             857
            ],
            "coloraxis": "coloraxis"
           },
           "mode": "markers",
           "name": "",
           "showlegend": false,
           "subplot": "mapbox",
           "type": "scattermapbox"
          }
         ],
         "name": "2016"
        },
        {
         "data": [
          {
           "hoverlabel": {
            "namelength": 0
           },
           "hovertemplate": "Year=2015<br>Latitude=%{lat}<br>Longitude=%{lon}<br>Total Homeless=%{marker.color}",
           "lat": [
            61.3025006,
            32.601011199999995,
            34.7519275,
            34.1682185,
            37.2718745,
            38.9979339,
            41.518783500000005,
            38.899348700000004,
            39.145251,
            27.9757279,
            32.6781248,
            20.46,
            41.9383166,
            45.4945756,
            39.739318,
            39.7662195,
            38.4987789,
            37.8222935,
            30.9733766,
            42.062939799999995,
            38.806352399999994,
            45.2185133,
            44.9435598,
            46.4418595,
            38.3046615,
            32.5851062,
            46.6797995,
            35.2145629,
            47.467881899999995,
            41.5008195,
            44.00123060000001,
            40.1430058,
            34.1662325,
            38.502032,
            40.7056258,
            40.1903624,
            35.309765399999996,
            44.1419049,
            40.99459279999999,
            41.5827282,
            33.62505,
            44.2126995,
            35.830521000000005,
            31.1693363,
            39.4997605,
            38.0033855,
            43.8717545,
            38.899348700000004,
            44.7862968,
            38.920170500000005,
            43.000325
           ],
           "legendgroup": "",
           "lon": [
            -158.7750198,
            -86.6807365,
            -92.13137840000002,
            -111.930907,
            -119.2704153,
            -105.55056699999999,
            -72.75750699999999,
            -77.0145666,
            -75.41892059999999,
            -83.8330166,
            -83.22297569999999,
            -157.505,
            -93.389798,
            -114.1424303,
            -89.504139,
            -86.441277,
            -98.32007790000002,
            -85.76823990000001,
            -91.42990970000001,
            -71.718067,
            -77.2684162,
            -69.0148656,
            -86.41580490000001,
            -93.3655146,
            -92.437099,
            -89.8772196,
            -110.04478300000001,
            -79.8912675,
            -100.3022655,
            -99.680902,
            -71.57992309999999,
            -74.7311156,
            -106.02606850000001,
            -117.0230604,
            -73.97968,
            -82.6692525,
            -98.71655849999999,
            -120.5380993,
            -77.6046984,
            -71.5064508,
            -80.9470381,
            -100.24716409999999,
            -85.97859890000001,
            -100.0768425,
            -111.547028,
            -79.4587861,
            -72.4477828,
            -77.0145665,
            -89.82670490000001,
            -80.1816905,
            -107.5545669
           ],
           "marker": {
            "color": [
             1956,
             3970,
             2560,
             9896,
             115738,
             9953,
             4047,
             7298,
             953,
             35900,
             13790,
             7620,
             3081,
             1966,
             13177,
             5863,
             2588,
             4538,
             4081,
             21135,
             8390,
             2372,
             10516,
             7546,
             6482,
             1983,
             1709,
             10685,
             1305,
             2744,
             1445,
             10098,
             2629,
             8743,
             88250,
             11182,
             3777,
             13226,
             15421,
             1111,
             5354,
             1036,
             9123,
             23678,
             3025,
             7001,
             1523,
             19419,
             6057,
             1835,
             798
            ],
            "coloraxis": "coloraxis"
           },
           "mode": "markers",
           "name": "",
           "showlegend": false,
           "subplot": "mapbox",
           "type": "scattermapbox"
          }
         ],
         "name": "2015"
        },
        {
         "data": [
          {
           "hoverlabel": {
            "namelength": 0
           },
           "hovertemplate": "Year=2014<br>Latitude=%{lat}<br>Longitude=%{lon}<br>Total Homeless=%{marker.color}",
           "lat": [
            61.3025006,
            32.601011199999995,
            34.7519275,
            34.1682185,
            37.2718745,
            38.9979339,
            41.518783500000005,
            38.899348700000004,
            39.145251,
            27.9757279,
            32.6781248,
            20.46,
            41.9383166,
            45.4945756,
            39.739318,
            39.7662195,
            38.4987789,
            37.8222935,
            30.9733766,
            42.062939799999995,
            38.806352399999994,
            45.2185133,
            44.9435598,
            46.4418595,
            38.3046615,
            32.5851062,
            46.6797995,
            35.2145629,
            47.467881899999995,
            41.5008195,
            44.00123060000001,
            40.1430058,
            34.1662325,
            38.502032,
            40.7056258,
            40.1903624,
            35.309765399999996,
            44.1419049,
            40.99459279999999,
            41.5827282,
            33.62505,
            44.2126995,
            35.830521000000005,
            31.1693363,
            39.4997605,
            38.0033855,
            43.8717545,
            38.899348700000004,
            44.7862968,
            38.920170500000005,
            43.000325
           ],
           "legendgroup": "",
           "lon": [
            -158.7750198,
            -86.6807365,
            -92.13137840000002,
            -111.930907,
            -119.2704153,
            -105.55056699999999,
            -72.75750699999999,
            -77.0145666,
            -75.41892059999999,
            -83.8330166,
            -83.22297569999999,
            -157.505,
            -93.389798,
            -114.1424303,
            -89.504139,
            -86.441277,
            -98.32007790000002,
            -85.76823990000001,
            -91.42990970000001,
            -71.718067,
            -77.2684162,
            -69.0148656,
            -86.41580490000001,
            -93.3655146,
            -92.437099,
            -89.8772196,
            -110.04478300000001,
            -79.8912675,
            -100.3022655,
            -99.680902,
            -71.57992309999999,
            -74.7311156,
            -106.02606850000001,
            -117.0230604,
            -73.97968,
            -82.6692525,
            -98.71655849999999,
            -120.5380993,
            -77.6046984,
            -71.5064508,
            -80.9470381,
            -100.24716409999999,
            -85.97859890000001,
            -100.0768425,
            -111.547028,
            -79.4587861,
            -72.4477828,
            -77.0145665,
            -89.82670490000001,
            -80.1816905,
            -107.5545669
           ],
           "marker": {
            "color": [
             1784,
             4561,
             2936,
             10495,
             113952,
             10028,
             4450,
             7748,
             901,
             41542,
             16521,
             6918,
             3122,
             2104,
             13107,
             5971,
             2783,
             5089,
             4606,
             21237,
             7856,
             2726,
             12227,
             8377,
             7282,
             2226,
             1745,
             11491,
             1258,
             3026,
             1376,
             11671,
             2746,
             8582,
             80590,
             11823,
             4191,
             12164,
             15333,
             1190,
             5057,
             885,
             9415,
             28495,
             3081,
             7020,
             1559,
             18442,
             6055,
             2013,
             757
            ],
            "coloraxis": "coloraxis"
           },
           "mode": "markers",
           "name": "",
           "showlegend": false,
           "subplot": "mapbox",
           "type": "scattermapbox"
          }
         ],
         "name": "2014"
        },
        {
         "data": [
          {
           "hoverlabel": {
            "namelength": 0
           },
           "hovertemplate": "Year=2013<br>Latitude=%{lat}<br>Longitude=%{lon}<br>Total Homeless=%{marker.color}",
           "lat": [
            61.3025006,
            32.601011199999995,
            34.7519275,
            34.1682185,
            37.2718745,
            38.9979339,
            41.518783500000005,
            38.899348700000004,
            39.145251,
            27.9757279,
            32.6781248,
            20.46,
            41.9383166,
            45.4945756,
            39.739318,
            39.7662195,
            38.4987789,
            37.8222935,
            30.9733766,
            42.062939799999995,
            38.806352399999994,
            45.2185133,
            44.9435598,
            46.4418595,
            38.3046615,
            32.5851062,
            46.6797995,
            35.2145629,
            47.467881899999995,
            41.5008195,
            44.00123060000001,
            40.1430058,
            34.1662325,
            38.502032,
            40.7056258,
            40.1903624,
            35.309765399999996,
            44.1419049,
            40.99459279999999,
            41.5827282,
            33.62505,
            44.2126995,
            35.830521000000005,
            31.1693363,
            39.4997605,
            38.0033855,
            43.8717545,
            38.899348700000004,
            44.7862968,
            38.920170500000005,
            43.000325
           ],
           "legendgroup": "",
           "lon": [
            -158.7750198,
            -86.6807365,
            -92.13137840000002,
            -111.930907,
            -119.2704153,
            -105.55056699999999,
            -72.75750699999999,
            -77.0145666,
            -75.41892059999999,
            -83.8330166,
            -83.22297569999999,
            -157.505,
            -93.389798,
            -114.1424303,
            -89.504139,
            -86.441277,
            -98.32007790000002,
            -85.76823990000001,
            -91.42990970000001,
            -71.718067,
            -77.2684162,
            -69.0148656,
            -86.41580490000001,
            -93.3655146,
            -92.437099,
            -89.8772196,
            -110.04478300000001,
            -79.8912675,
            -100.3022655,
            -99.680902,
            -71.57992309999999,
            -74.7311156,
            -106.02606850000001,
            -117.0230604,
            -73.97968,
            -82.6692525,
            -98.71655849999999,
            -120.5380993,
            -77.6046984,
            -71.5064508,
            -80.9470381,
            -100.24716409999999,
            -85.97859890000001,
            -100.0768425,
            -111.547028,
            -79.4587861,
            -72.4477828,
            -77.0145665,
            -89.82670490000001,
            -80.1816905,
            -107.5545669
           ],
           "marker": {
            "color": [
             1946,
             4689,
             3812,
             10562,
             118552,
             9754,
             4448,
             6865,
             946,
             47862,
             16971,
             6335,
             3084,
             1781,
             13425,
             6096,
             2693,
             5245,
             5226,
             19029,
             8205,
             3016,
             11527,
             8214,
             8581,
             2403,
             1878,
             12168,
             2069,
             3145,
             1447,
             12002,
             2819,
             7039,
             77430,
             12325,
             4408,
             13822,
             15086,
             1384,
             6544,
             1094,
             9528,
             29615,
             3277,
             7625,
             1454,
             17760,
             6104,
             2240,
             953
            ],
            "coloraxis": "coloraxis"
           },
           "mode": "markers",
           "name": "",
           "showlegend": false,
           "subplot": "mapbox",
           "type": "scattermapbox"
          }
         ],
         "name": "2013"
        },
        {
         "data": [
          {
           "hoverlabel": {
            "namelength": 0
           },
           "hovertemplate": "Year=2012<br>Latitude=%{lat}<br>Longitude=%{lon}<br>Total Homeless=%{marker.color}",
           "lat": [
            61.3025006,
            32.601011199999995,
            34.7519275,
            34.1682185,
            37.2718745,
            38.9979339,
            41.518783500000005,
            38.899348700000004,
            39.145251,
            27.9757279,
            32.6781248,
            20.46,
            41.9383166,
            45.4945756,
            39.739318,
            39.7662195,
            38.4987789,
            37.8222935,
            30.9733766,
            42.062939799999995,
            38.806352399999994,
            45.2185133,
            44.9435598,
            46.4418595,
            38.3046615,
            32.5851062,
            46.6797995,
            35.2145629,
            47.467881899999995,
            41.5008195,
            44.00123060000001,
            40.1430058,
            34.1662325,
            38.502032,
            40.7056258,
            40.1903624,
            35.309765399999996,
            44.1419049,
            40.99459279999999,
            41.5827282,
            33.62505,
            44.2126995,
            35.830521000000005,
            31.1693363,
            39.4997605,
            38.0033855,
            43.8717545,
            38.899348700000004,
            44.7862968,
            38.920170500000005,
            43.000325
           ],
           "legendgroup": "",
           "lon": [
            -158.7750198,
            -86.6807365,
            -92.13137840000002,
            -111.930907,
            -119.2704153,
            -105.55056699999999,
            -72.75750699999999,
            -77.0145666,
            -75.41892059999999,
            -83.8330166,
            -83.22297569999999,
            -157.505,
            -93.389798,
            -114.1424303,
            -89.504139,
            -86.441277,
            -98.32007790000002,
            -85.76823990000001,
            -91.42990970000001,
            -71.718067,
            -77.2684162,
            -69.0148656,
            -86.41580490000001,
            -93.3655146,
            -92.437099,
            -89.8772196,
            -110.04478300000001,
            -79.8912675,
            -100.3022655,
            -99.680902,
            -71.57992309999999,
            -74.7311156,
            -106.02606850000001,
            -117.0230604,
            -73.97968,
            -82.6692525,
            -98.71655849999999,
            -120.5380993,
            -77.6046984,
            -71.5064508,
            -80.9470381,
            -100.24716409999999,
            -85.97859890000001,
            -100.0768425,
            -111.547028,
            -79.4587861,
            -72.4477828,
            -77.0145665,
            -89.82670490000001,
            -80.1816905,
            -107.5545669
           ],
           "marker": {
            "color": [
             1913,
             5209,
             4214,
             11302,
             120098,
             16768,
             4209,
             6954,
             1008,
             55170,
             20516,
             6246,
             2928,
             1968,
             14144,
             6259,
             2684,
             5230,
             7772,
             17501,
             9454,
             2393,
             12592,
             7744,
             10237,
             2413,
             1833,
             13524,
             688,
             3789,
             1496,
             13025,
             3245,
             8497,
             69566,
             13977,
             5032,
             15828,
             14736,
             1277,
             4915,
             859,
             9426,
             34052,
             3527,
             8424,
             1160,
             20504,
             6027,
             2410,
             1813
            ],
            "coloraxis": "coloraxis"
           },
           "mode": "markers",
           "name": "",
           "showlegend": false,
           "subplot": "mapbox",
           "type": "scattermapbox"
          }
         ],
         "name": "2012"
        },
        {
         "data": [
          {
           "hoverlabel": {
            "namelength": 0
           },
           "hovertemplate": "Year=2011<br>Latitude=%{lat}<br>Longitude=%{lon}<br>Total Homeless=%{marker.color}",
           "lat": [
            61.3025006,
            32.601011199999995,
            34.7519275,
            34.1682185,
            37.2718745,
            38.9979339,
            41.518783500000005,
            38.899348700000004,
            39.145251,
            27.9757279,
            32.6781248,
            20.46,
            41.9383166,
            45.4945756,
            39.739318,
            39.7662195,
            38.4987789,
            37.8222935,
            30.9733766,
            42.062939799999995,
            38.806352399999994,
            45.2185133,
            44.9435598,
            46.4418595,
            38.3046615,
            32.5851062,
            46.6797995,
            35.2145629,
            47.467881899999995,
            41.5008195,
            44.00123060000001,
            40.1430058,
            34.1662325,
            38.502032,
            40.7056258,
            40.1903624,
            35.309765399999996,
            44.1419049,
            40.99459279999999,
            41.5827282,
            33.62505,
            44.2126995,
            35.830521000000005,
            31.1693363,
            39.4997605,
            38.0033855,
            43.8717545,
            38.899348700000004,
            44.7862968,
            38.920170500000005,
            43.000325
           ],
           "legendgroup": "",
           "lon": [
            -158.7750198,
            -86.6807365,
            -92.13137840000002,
            -111.930907,
            -119.2704153,
            -105.55056699999999,
            -72.75750699999999,
            -77.0145666,
            -75.41892059999999,
            -83.8330166,
            -83.22297569999999,
            -157.505,
            -93.389798,
            -114.1424303,
            -89.504139,
            -86.441277,
            -98.32007790000002,
            -85.76823990000001,
            -91.42990970000001,
            -71.718067,
            -77.2684162,
            -69.0148656,
            -86.41580490000001,
            -93.3655146,
            -92.437099,
            -89.8772196,
            -110.04478300000001,
            -79.8912675,
            -100.3022655,
            -99.680902,
            -71.57992309999999,
            -74.7311156,
            -106.02606850000001,
            -117.0230604,
            -73.97968,
            -82.6692525,
            -98.71655849999999,
            -120.5380993,
            -77.6046984,
            -71.5064508,
            -80.9470381,
            -100.24716409999999,
            -85.97859890000001,
            -100.0768425,
            -111.547028,
            -79.4587861,
            -72.4477828,
            -77.0145665,
            -89.82670490000001,
            -80.1816905,
            -107.5545669
           ],
           "marker": {
            "color": [
             2128,
             5558,
             3424,
             10504,
             125128,
             15116,
             4456,
             6546,
             1035,
             56687,
             20975,
             6188,
             3134,
             2199,
             14009,
             6196,
             2511,
             6034,
             9291,
             16664,
             10208,
             2447,
             13185,
             7495,
             8989,
             2306,
             1768,
             12896,
             603,
             3548,
             1469,
             14137,
             3601,
             9150,
             63445,
             13030,
             4625,
             17254,
             15096,
             1070,
             5093,
             826,
             9113,
             36911,
             3130,
             8816,
             1144,
             20439,
             5785,
             2211,
             1038
            ],
            "coloraxis": "coloraxis"
           },
           "mode": "markers",
           "name": "",
           "showlegend": false,
           "subplot": "mapbox",
           "type": "scattermapbox"
          }
         ],
         "name": "2011"
        },
        {
         "data": [
          {
           "hoverlabel": {
            "namelength": 0
           },
           "hovertemplate": "Year=2010<br>Latitude=%{lat}<br>Longitude=%{lon}<br>Total Homeless=%{marker.color}",
           "lat": [
            61.3025006,
            32.601011199999995,
            34.7519275,
            34.1682185,
            37.2718745,
            38.9979339,
            41.518783500000005,
            38.899348700000004,
            39.145251,
            27.9757279,
            32.6781248,
            20.46,
            41.9383166,
            45.4945756,
            39.739318,
            39.7662195,
            38.4987789,
            37.8222935,
            30.9733766,
            42.062939799999995,
            38.806352399999994,
            45.2185133,
            44.9435598,
            46.4418595,
            38.3046615,
            32.5851062,
            46.6797995,
            35.2145629,
            47.467881899999995,
            41.5008195,
            44.00123060000001,
            40.1430058,
            34.1662325,
            38.502032,
            40.7056258,
            40.1903624,
            35.309765399999996,
            44.1419049,
            40.99459279999999,
            41.5827282,
            33.62505,
            44.2126995,
            35.830521000000005,
            31.1693363,
            39.4997605,
            38.0033855,
            43.8717545,
            38.899348700000004,
            44.7862968,
            38.920170500000005,
            43.000325
           ],
           "legendgroup": "",
           "lon": [
            -158.7750198,
            -86.6807365,
            -92.13137840000002,
            -111.930907,
            -119.2704153,
            -105.55056699999999,
            -72.75750699999999,
            -77.0145666,
            -75.41892059999999,
            -83.8330166,
            -83.22297569999999,
            -157.505,
            -93.389798,
            -114.1424303,
            -89.504139,
            -86.441277,
            -98.32007790000002,
            -85.76823990000001,
            -91.42990970000001,
            -71.718067,
            -77.2684162,
            -69.0148656,
            -86.41580490000001,
            -93.3655146,
            -92.437099,
            -89.8772196,
            -110.04478300000001,
            -79.8912675,
            -100.3022655,
            -99.680902,
            -71.57992309999999,
            -74.7311156,
            -106.02606850000001,
            -117.0230604,
            -73.97968,
            -82.6692525,
            -98.71655849999999,
            -120.5380993,
            -77.6046984,
            -71.5064508,
            -80.9470381,
            -100.24716409999999,
            -85.97859890000001,
            -100.0768425,
            -111.547028,
            -79.4587861,
            -72.4477828,
            -77.0145665,
            -89.82670490000001,
            -80.1816905,
            -107.5545669
           ],
           "marker": {
            "color": [
             1863,
             6046,
             2762,
             13711,
             123480,
             15482,
             4316,
             6539,
             982,
             57551,
             19836,
             5834,
             3014,
             2346,
             14395,
             6452,
             2024,
             6623,
             12482,
             16646,
             10845,
             2379,
             13058,
             7869,
             8122,
             2743,
             1615,
             12191,
             799,
             3877,
             1574,
             13737,
             3475,
             11205,
             65606,
             12569,
             5229,
             19492,
             14516,
             1282,
             4473,
             731,
             10276,
             35121,
             3284,
             9080,
             1220,
             22878,
             6333,
             2264,
             579
            ],
            "coloraxis": "coloraxis"
           },
           "mode": "markers",
           "name": "",
           "showlegend": false,
           "subplot": "mapbox",
           "type": "scattermapbox"
          }
         ],
         "name": "2010"
        },
        {
         "data": [
          {
           "hoverlabel": {
            "namelength": 0
           },
           "hovertemplate": "Year=2009<br>Latitude=%{lat}<br>Longitude=%{lon}<br>Total Homeless=%{marker.color}",
           "lat": [
            61.3025006,
            32.601011199999995,
            34.7519275,
            34.1682185,
            37.2718745,
            38.9979339,
            41.518783500000005,
            38.899348700000004,
            39.145251,
            27.9757279,
            32.6781248,
            20.46,
            41.9383166,
            45.4945756,
            39.739318,
            39.7662195,
            38.4987789,
            37.8222935,
            30.9733766,
            42.062939799999995,
            38.806352399999994,
            45.2185133,
            44.9435598,
            46.4418595,
            38.3046615,
            32.5851062,
            46.6797995,
            35.2145629,
            47.467881899999995,
            41.5008195,
            44.00123060000001,
            40.1430058,
            34.1662325,
            38.502032,
            40.7056258,
            40.1903624,
            35.309765399999996,
            44.1419049,
            40.99459279999999,
            41.5827282,
            33.62505,
            44.2126995,
            35.830521000000005,
            31.1693363,
            39.4997605,
            38.0033855,
            43.8717545,
            38.899348700000004,
            44.7862968,
            38.920170500000005,
            43.000325
           ],
           "legendgroup": "",
           "lon": [
            -158.7750198,
            -86.6807365,
            -92.13137840000002,
            -111.930907,
            -119.2704153,
            -105.55056699999999,
            -72.75750699999999,
            -77.0145666,
            -75.41892059999999,
            -83.8330166,
            -83.22297569999999,
            -157.505,
            -93.389798,
            -114.1424303,
            -89.504139,
            -86.441277,
            -98.32007790000002,
            -85.76823990000001,
            -91.42990970000001,
            -71.718067,
            -77.2684162,
            -69.0148656,
            -86.41580490000001,
            -93.3655146,
            -92.437099,
            -89.8772196,
            -110.04478300000001,
            -79.8912675,
            -100.3022655,
            -99.680902,
            -71.57992309999999,
            -74.7311156,
            -106.02606850000001,
            -117.0230604,
            -73.97968,
            -82.6692525,
            -98.71655849999999,
            -120.5380993,
            -77.6046984,
            -71.5064508,
            -80.9470381,
            -100.24716409999999,
            -85.97859890000001,
            -100.0768425,
            -111.547028,
            -79.4587861,
            -72.4477828,
            -77.0145665,
            -89.82670490000001,
            -80.1816905,
            -107.5545669
           ],
           "marker": {
            "color": [
             1992,
             6080,
             2852,
             14721,
             123678,
             15268,
             4605,
             6228,
             1130,
             55599,
             20360,
             5782,
             3380,
             1939,
             14055,
             6984,
             1892,
             5999,
             12504,
             15482,
             11698,
             2444,
             14005,
             7718,
             6959,
             2797,
             1196,
             12918,
             773,
             3718,
             1645,
             13169,
             3475,
             11089,
             61067,
             12700,
             4838,
             17309,
             15096,
             1607,
             4473,
             731,
             10532,
             36761,
             3795,
             8852,
             1214,
             22782,
             6525,
             1667,
             515
            ],
            "coloraxis": "coloraxis"
           },
           "mode": "markers",
           "name": "",
           "showlegend": false,
           "subplot": "mapbox",
           "type": "scattermapbox"
          }
         ],
         "name": "2009"
        },
        {
         "data": [
          {
           "hoverlabel": {
            "namelength": 0
           },
           "hovertemplate": "Year=2008<br>Latitude=%{lat}<br>Longitude=%{lon}<br>Total Homeless=%{marker.color}",
           "lat": [
            61.3025006,
            32.601011199999995,
            34.7519275,
            34.1682185,
            37.2718745,
            38.9979339,
            41.518783500000005,
            38.899348700000004,
            39.145251,
            27.9757279,
            32.6781248,
            20.46,
            41.9383166,
            45.4945756,
            39.739318,
            39.7662195,
            38.4987789,
            37.8222935,
            30.9733766,
            42.062939799999995,
            38.806352399999994,
            45.2185133,
            44.9435598,
            46.4418595,
            38.3046615,
            32.5851062,
            46.6797995,
            35.2145629,
            47.467881899999995,
            41.5008195,
            44.00123060000001,
            40.1430058,
            34.1662325,
            38.502032,
            40.7056258,
            40.1903624,
            35.309765399999996,
            44.1419049,
            40.99459279999999,
            41.5827282,
            33.62505,
            44.2126995,
            35.830521000000005,
            31.1693363,
            39.4997605,
            38.0033855,
            43.8717545,
            38.899348700000004,
            44.7862968,
            38.920170500000005,
            43.000325
           ],
           "legendgroup": "",
           "lon": [
            -158.7750198,
            -86.6807365,
            -92.13137840000002,
            -111.930907,
            -119.2704153,
            -105.55056699999999,
            -72.75750699999999,
            -77.0145666,
            -75.41892059999999,
            -83.8330166,
            -83.22297569999999,
            -157.505,
            -93.389798,
            -114.1424303,
            -89.504139,
            -86.441277,
            -98.32007790000002,
            -85.76823990000001,
            -91.42990970000001,
            -71.718067,
            -77.2684162,
            -69.0148656,
            -86.41580490000001,
            -93.3655146,
            -92.437099,
            -89.8772196,
            -110.04478300000001,
            -79.8912675,
            -100.3022655,
            -99.680902,
            -71.57992309999999,
            -74.7311156,
            -106.02606850000001,
            -117.0230604,
            -73.97968,
            -82.6692525,
            -98.71655849999999,
            -120.5380993,
            -77.6046984,
            -71.5064508,
            -80.9470381,
            -100.24716409999999,
            -85.97859890000001,
            -100.0768425,
            -111.547028,
            -79.4587861,
            -72.4477828,
            -77.0145665,
            -89.82670490000001,
            -80.1816905,
            -107.5545669
           ],
           "marker": {
            "color": [
             1646,
             5387,
             3255,
             12488,
             136531,
             14747,
             4627,
             6044,
             933,
             50158,
             19095,
             6061,
             3346,
             1464,
             14724,
             7395,
             1738,
             8137,
             5481,
             14506,
             9219,
             2632,
             28248,
             7644,
             7687,
             1961,
             1417,
             12411,
             615,
             3985,
             2019,
             13832,
             3015,
             8726,
             61125,
             12912,
             3846,
             20653,
             15378,
             1196,
             5660,
             579,
             9705,
             40190,
             3434,
             8469,
             954,
             21954,
             5449,
             2016,
             751
            ],
            "coloraxis": "coloraxis"
           },
           "mode": "markers",
           "name": "",
           "showlegend": false,
           "subplot": "mapbox",
           "type": "scattermapbox"
          }
         ],
         "name": "2008"
        },
        {
         "data": [
          {
           "hoverlabel": {
            "namelength": 0
           },
           "hovertemplate": "Year=2007<br>Latitude=%{lat}<br>Longitude=%{lon}<br>Total Homeless=%{marker.color}",
           "lat": [
            61.3025006,
            32.601011199999995,
            34.7519275,
            34.1682185,
            37.2718745,
            38.9979339,
            41.518783500000005,
            38.899348700000004,
            39.145251,
            27.9757279,
            32.6781248,
            20.46,
            41.9383166,
            45.4945756,
            39.739318,
            39.7662195,
            38.4987789,
            37.8222935,
            30.9733766,
            42.062939799999995,
            38.806352399999994,
            45.2185133,
            44.9435598,
            46.4418595,
            38.3046615,
            32.5851062,
            46.6797995,
            35.2145629,
            47.467881899999995,
            41.5008195,
            44.00123060000001,
            40.1430058,
            34.1662325,
            38.502032,
            40.7056258,
            40.1903624,
            35.309765399999996,
            44.1419049,
            40.99459279999999,
            41.5827282,
            33.62505,
            44.2126995,
            35.830521000000005,
            31.1693363,
            39.4997605,
            38.0033855,
            43.8717545,
            38.899348700000004,
            44.7862968,
            38.920170500000005,
            43.000325
           ],
           "legendgroup": "",
           "lon": [
            -158.7750198,
            -86.6807365,
            -92.13137840000002,
            -111.930907,
            -119.2704153,
            -105.55056699999999,
            -72.75750699999999,
            -77.0145666,
            -75.41892059999999,
            -83.8330166,
            -83.22297569999999,
            -157.505,
            -93.389798,
            -114.1424303,
            -89.504139,
            -86.441277,
            -98.32007790000002,
            -85.76823990000001,
            -91.42990970000001,
            -71.718067,
            -77.2684162,
            -69.0148656,
            -86.41580490000001,
            -93.3655146,
            -92.437099,
            -89.8772196,
            -110.04478300000001,
            -79.8912675,
            -100.3022655,
            -99.680902,
            -71.57992309999999,
            -74.7311156,
            -106.02606850000001,
            -117.0230604,
            -73.97968,
            -82.6692525,
            -98.71655849999999,
            -120.5380993,
            -77.6046984,
            -71.5064508,
            -80.9470381,
            -100.24716409999999,
            -85.97859890000001,
            -100.0768425,
            -111.547028,
            -79.4587861,
            -72.4477828,
            -77.0145665,
            -89.82670490000001,
            -80.1816905,
            -107.5545669
           ],
           "marker": {
            "color": [
             1642,
             5452,
             3836,
             14646,
             138986,
             14225,
             4482,
             5320,
             1061,
             48069,
             19639,
             6070,
             2734,
             1749,
             15487,
             7358,
             2111,
             8061,
             5494,
             15127,
             9628,
             2638,
             28295,
             7323,
             6247,
             1377,
             1150,
             11802,
             636,
             3531,
             2248,
             17314,
             3015,
             8642,
             62601,
             11264,
             4221,
             17590,
             16220,
             1372,
             5660,
             579,
             11210,
             39788,
             3011,
             9746,
             1035,
             23379,
             5648,
             2409,
             537
            ],
            "coloraxis": "coloraxis"
           },
           "mode": "markers",
           "name": "",
           "showlegend": false,
           "subplot": "mapbox",
           "type": "scattermapbox"
          }
         ],
         "name": "2007"
        }
       ],
       "layout": {
        "coloraxis": {
         "colorbar": {
          "title": {
           "text": "Total Homeless"
          }
         },
         "colorscale": [
          [
           0,
           "#000000"
          ],
          [
           0.0625,
           "#001f4d"
          ],
          [
           0.125,
           "#003786"
          ],
          [
           0.1875,
           "#0e58a8"
          ],
          [
           0.25,
           "#217eb8"
          ],
          [
           0.3125,
           "#30a4ca"
          ],
          [
           0.375,
           "#54c8df"
          ],
          [
           0.4375,
           "#9be4ef"
          ],
          [
           0.5,
           "#e1e9d1"
          ],
          [
           0.5625,
           "#f3d573"
          ],
          [
           0.625,
           "#e7b000"
          ],
          [
           0.6875,
           "#da8200"
          ],
          [
           0.75,
           "#c65400"
          ],
          [
           0.8125,
           "#ac2301"
          ],
          [
           0.875,
           "#820000"
          ],
          [
           0.9375,
           "#4c0000"
          ],
          [
           1,
           "#040100"
          ]
         ]
        },
        "height": 600,
        "legend": {
         "tracegroupgap": 0
        },
        "mapbox": {
         "accesstoken": "eyJ1IjoiamVubWMiLCJhIjoiY2p5cmZzeW83MDk3NDNubno5NjdxZGJjOSJ9.Nr_qwIlXTvGIT8bmynuKUQ",
         "center": {
          "lat": 39.30952481960793,
          "lon": -92.79919144313719
         },
         "domain": {
          "x": [
           0,
           0.98
          ],
          "y": [
           0,
           1
          ]
         },
         "zoom": 10
        },
        "margin": {
         "t": 60
        },
        "sliders": [
         {
          "active": 0,
          "currentvalue": {
           "prefix": "Year="
          },
          "len": 0.9,
          "pad": {
           "b": 10,
           "t": 60
          },
          "steps": [
           {
            "args": [
             [
              "2016"
             ],
             {
              "frame": {
               "duration": 0,
               "redraw": true
              },
              "fromcurrent": true,
              "mode": "immediate",
              "transition": {
               "duration": 0,
               "easing": "linear"
              }
             }
            ],
            "label": "2016",
            "method": "animate"
           },
           {
            "args": [
             [
              "2015"
             ],
             {
              "frame": {
               "duration": 0,
               "redraw": true
              },
              "fromcurrent": true,
              "mode": "immediate",
              "transition": {
               "duration": 0,
               "easing": "linear"
              }
             }
            ],
            "label": "2015",
            "method": "animate"
           },
           {
            "args": [
             [
              "2014"
             ],
             {
              "frame": {
               "duration": 0,
               "redraw": true
              },
              "fromcurrent": true,
              "mode": "immediate",
              "transition": {
               "duration": 0,
               "easing": "linear"
              }
             }
            ],
            "label": "2014",
            "method": "animate"
           },
           {
            "args": [
             [
              "2013"
             ],
             {
              "frame": {
               "duration": 0,
               "redraw": true
              },
              "fromcurrent": true,
              "mode": "immediate",
              "transition": {
               "duration": 0,
               "easing": "linear"
              }
             }
            ],
            "label": "2013",
            "method": "animate"
           },
           {
            "args": [
             [
              "2012"
             ],
             {
              "frame": {
               "duration": 0,
               "redraw": true
              },
              "fromcurrent": true,
              "mode": "immediate",
              "transition": {
               "duration": 0,
               "easing": "linear"
              }
             }
            ],
            "label": "2012",
            "method": "animate"
           },
           {
            "args": [
             [
              "2011"
             ],
             {
              "frame": {
               "duration": 0,
               "redraw": true
              },
              "fromcurrent": true,
              "mode": "immediate",
              "transition": {
               "duration": 0,
               "easing": "linear"
              }
             }
            ],
            "label": "2011",
            "method": "animate"
           },
           {
            "args": [
             [
              "2010"
             ],
             {
              "frame": {
               "duration": 0,
               "redraw": true
              },
              "fromcurrent": true,
              "mode": "immediate",
              "transition": {
               "duration": 0,
               "easing": "linear"
              }
             }
            ],
            "label": "2010",
            "method": "animate"
           },
           {
            "args": [
             [
              "2009"
             ],
             {
              "frame": {
               "duration": 0,
               "redraw": true
              },
              "fromcurrent": true,
              "mode": "immediate",
              "transition": {
               "duration": 0,
               "easing": "linear"
              }
             }
            ],
            "label": "2009",
            "method": "animate"
           },
           {
            "args": [
             [
              "2008"
             ],
             {
              "frame": {
               "duration": 0,
               "redraw": true
              },
              "fromcurrent": true,
              "mode": "immediate",
              "transition": {
               "duration": 0,
               "easing": "linear"
              }
             }
            ],
            "label": "2008",
            "method": "animate"
           },
           {
            "args": [
             [
              "2007"
             ],
             {
              "frame": {
               "duration": 0,
               "redraw": true
              },
              "fromcurrent": true,
              "mode": "immediate",
              "transition": {
               "duration": 0,
               "easing": "linear"
              }
             }
            ],
            "label": "2007",
            "method": "animate"
           }
          ],
          "x": 0.1,
          "xanchor": "left",
          "y": 0,
          "yanchor": "top"
         }
        ],
        "template": {
         "data": {
          "bar": [
           {
            "error_x": {
             "color": "#2a3f5f"
            },
            "error_y": {
             "color": "#2a3f5f"
            },
            "marker": {
             "line": {
              "color": "#E5ECF6",
              "width": 0.5
             }
            },
            "type": "bar"
           }
          ],
          "barpolar": [
           {
            "marker": {
             "line": {
              "color": "#E5ECF6",
              "width": 0.5
             }
            },
            "type": "barpolar"
           }
          ],
          "carpet": [
           {
            "aaxis": {
             "endlinecolor": "#2a3f5f",
             "gridcolor": "white",
             "linecolor": "white",
             "minorgridcolor": "white",
             "startlinecolor": "#2a3f5f"
            },
            "baxis": {
             "endlinecolor": "#2a3f5f",
             "gridcolor": "white",
             "linecolor": "white",
             "minorgridcolor": "white",
             "startlinecolor": "#2a3f5f"
            },
            "type": "carpet"
           }
          ],
          "choropleth": [
           {
            "colorbar": {
             "outlinewidth": 0,
             "ticks": ""
            },
            "type": "choropleth"
           }
          ],
          "contour": [
           {
            "colorbar": {
             "outlinewidth": 0,
             "ticks": ""
            },
            "colorscale": [
             [
              0,
              "#0d0887"
             ],
             [
              0.1111111111111111,
              "#46039f"
             ],
             [
              0.2222222222222222,
              "#7201a8"
             ],
             [
              0.3333333333333333,
              "#9c179e"
             ],
             [
              0.4444444444444444,
              "#bd3786"
             ],
             [
              0.5555555555555556,
              "#d8576b"
             ],
             [
              0.6666666666666666,
              "#ed7953"
             ],
             [
              0.7777777777777778,
              "#fb9f3a"
             ],
             [
              0.8888888888888888,
              "#fdca26"
             ],
             [
              1,
              "#f0f921"
             ]
            ],
            "type": "contour"
           }
          ],
          "contourcarpet": [
           {
            "colorbar": {
             "outlinewidth": 0,
             "ticks": ""
            },
            "type": "contourcarpet"
           }
          ],
          "heatmap": [
           {
            "colorbar": {
             "outlinewidth": 0,
             "ticks": ""
            },
            "colorscale": [
             [
              0,
              "#0d0887"
             ],
             [
              0.1111111111111111,
              "#46039f"
             ],
             [
              0.2222222222222222,
              "#7201a8"
             ],
             [
              0.3333333333333333,
              "#9c179e"
             ],
             [
              0.4444444444444444,
              "#bd3786"
             ],
             [
              0.5555555555555556,
              "#d8576b"
             ],
             [
              0.6666666666666666,
              "#ed7953"
             ],
             [
              0.7777777777777778,
              "#fb9f3a"
             ],
             [
              0.8888888888888888,
              "#fdca26"
             ],
             [
              1,
              "#f0f921"
             ]
            ],
            "type": "heatmap"
           }
          ],
          "heatmapgl": [
           {
            "colorbar": {
             "outlinewidth": 0,
             "ticks": ""
            },
            "colorscale": [
             [
              0,
              "#0d0887"
             ],
             [
              0.1111111111111111,
              "#46039f"
             ],
             [
              0.2222222222222222,
              "#7201a8"
             ],
             [
              0.3333333333333333,
              "#9c179e"
             ],
             [
              0.4444444444444444,
              "#bd3786"
             ],
             [
              0.5555555555555556,
              "#d8576b"
             ],
             [
              0.6666666666666666,
              "#ed7953"
             ],
             [
              0.7777777777777778,
              "#fb9f3a"
             ],
             [
              0.8888888888888888,
              "#fdca26"
             ],
             [
              1,
              "#f0f921"
             ]
            ],
            "type": "heatmapgl"
           }
          ],
          "histogram": [
           {
            "marker": {
             "colorbar": {
              "outlinewidth": 0,
              "ticks": ""
             }
            },
            "type": "histogram"
           }
          ],
          "histogram2d": [
           {
            "colorbar": {
             "outlinewidth": 0,
             "ticks": ""
            },
            "colorscale": [
             [
              0,
              "#0d0887"
             ],
             [
              0.1111111111111111,
              "#46039f"
             ],
             [
              0.2222222222222222,
              "#7201a8"
             ],
             [
              0.3333333333333333,
              "#9c179e"
             ],
             [
              0.4444444444444444,
              "#bd3786"
             ],
             [
              0.5555555555555556,
              "#d8576b"
             ],
             [
              0.6666666666666666,
              "#ed7953"
             ],
             [
              0.7777777777777778,
              "#fb9f3a"
             ],
             [
              0.8888888888888888,
              "#fdca26"
             ],
             [
              1,
              "#f0f921"
             ]
            ],
            "type": "histogram2d"
           }
          ],
          "histogram2dcontour": [
           {
            "colorbar": {
             "outlinewidth": 0,
             "ticks": ""
            },
            "colorscale": [
             [
              0,
              "#0d0887"
             ],
             [
              0.1111111111111111,
              "#46039f"
             ],
             [
              0.2222222222222222,
              "#7201a8"
             ],
             [
              0.3333333333333333,
              "#9c179e"
             ],
             [
              0.4444444444444444,
              "#bd3786"
             ],
             [
              0.5555555555555556,
              "#d8576b"
             ],
             [
              0.6666666666666666,
              "#ed7953"
             ],
             [
              0.7777777777777778,
              "#fb9f3a"
             ],
             [
              0.8888888888888888,
              "#fdca26"
             ],
             [
              1,
              "#f0f921"
             ]
            ],
            "type": "histogram2dcontour"
           }
          ],
          "mesh3d": [
           {
            "colorbar": {
             "outlinewidth": 0,
             "ticks": ""
            },
            "type": "mesh3d"
           }
          ],
          "parcoords": [
           {
            "line": {
             "colorbar": {
              "outlinewidth": 0,
              "ticks": ""
             }
            },
            "type": "parcoords"
           }
          ],
          "scatter": [
           {
            "marker": {
             "colorbar": {
              "outlinewidth": 0,
              "ticks": ""
             }
            },
            "type": "scatter"
           }
          ],
          "scatter3d": [
           {
            "line": {
             "colorbar": {
              "outlinewidth": 0,
              "ticks": ""
             }
            },
            "marker": {
             "colorbar": {
              "outlinewidth": 0,
              "ticks": ""
             }
            },
            "type": "scatter3d"
           }
          ],
          "scattercarpet": [
           {
            "marker": {
             "colorbar": {
              "outlinewidth": 0,
              "ticks": ""
             }
            },
            "type": "scattercarpet"
           }
          ],
          "scattergeo": [
           {
            "marker": {
             "colorbar": {
              "outlinewidth": 0,
              "ticks": ""
             }
            },
            "type": "scattergeo"
           }
          ],
          "scattergl": [
           {
            "marker": {
             "colorbar": {
              "outlinewidth": 0,
              "ticks": ""
             }
            },
            "type": "scattergl"
           }
          ],
          "scattermapbox": [
           {
            "marker": {
             "colorbar": {
              "outlinewidth": 0,
              "ticks": ""
             }
            },
            "type": "scattermapbox"
           }
          ],
          "scatterpolar": [
           {
            "marker": {
             "colorbar": {
              "outlinewidth": 0,
              "ticks": ""
             }
            },
            "type": "scatterpolar"
           }
          ],
          "scatterpolargl": [
           {
            "marker": {
             "colorbar": {
              "outlinewidth": 0,
              "ticks": ""
             }
            },
            "type": "scatterpolargl"
           }
          ],
          "scatterternary": [
           {
            "marker": {
             "colorbar": {
              "outlinewidth": 0,
              "ticks": ""
             }
            },
            "type": "scatterternary"
           }
          ],
          "surface": [
           {
            "colorbar": {
             "outlinewidth": 0,
             "ticks": ""
            },
            "colorscale": [
             [
              0,
              "#0d0887"
             ],
             [
              0.1111111111111111,
              "#46039f"
             ],
             [
              0.2222222222222222,
              "#7201a8"
             ],
             [
              0.3333333333333333,
              "#9c179e"
             ],
             [
              0.4444444444444444,
              "#bd3786"
             ],
             [
              0.5555555555555556,
              "#d8576b"
             ],
             [
              0.6666666666666666,
              "#ed7953"
             ],
             [
              0.7777777777777778,
              "#fb9f3a"
             ],
             [
              0.8888888888888888,
              "#fdca26"
             ],
             [
              1,
              "#f0f921"
             ]
            ],
            "type": "surface"
           }
          ],
          "table": [
           {
            "cells": {
             "fill": {
              "color": "#EBF0F8"
             },
             "line": {
              "color": "white"
             }
            },
            "header": {
             "fill": {
              "color": "#C8D4E3"
             },
             "line": {
              "color": "white"
             }
            },
            "type": "table"
           }
          ]
         },
         "layout": {
          "annotationdefaults": {
           "arrowcolor": "#2a3f5f",
           "arrowhead": 0,
           "arrowwidth": 1
          },
          "colorscale": {
           "diverging": [
            [
             0,
             "#8e0152"
            ],
            [
             0.1,
             "#c51b7d"
            ],
            [
             0.2,
             "#de77ae"
            ],
            [
             0.3,
             "#f1b6da"
            ],
            [
             0.4,
             "#fde0ef"
            ],
            [
             0.5,
             "#f7f7f7"
            ],
            [
             0.6,
             "#e6f5d0"
            ],
            [
             0.7,
             "#b8e186"
            ],
            [
             0.8,
             "#7fbc41"
            ],
            [
             0.9,
             "#4d9221"
            ],
            [
             1,
             "#276419"
            ]
           ],
           "sequential": [
            [
             0,
             "#0d0887"
            ],
            [
             0.1111111111111111,
             "#46039f"
            ],
            [
             0.2222222222222222,
             "#7201a8"
            ],
            [
             0.3333333333333333,
             "#9c179e"
            ],
            [
             0.4444444444444444,
             "#bd3786"
            ],
            [
             0.5555555555555556,
             "#d8576b"
            ],
            [
             0.6666666666666666,
             "#ed7953"
            ],
            [
             0.7777777777777778,
             "#fb9f3a"
            ],
            [
             0.8888888888888888,
             "#fdca26"
            ],
            [
             1,
             "#f0f921"
            ]
           ],
           "sequentialminus": [
            [
             0,
             "#0d0887"
            ],
            [
             0.1111111111111111,
             "#46039f"
            ],
            [
             0.2222222222222222,
             "#7201a8"
            ],
            [
             0.3333333333333333,
             "#9c179e"
            ],
            [
             0.4444444444444444,
             "#bd3786"
            ],
            [
             0.5555555555555556,
             "#d8576b"
            ],
            [
             0.6666666666666666,
             "#ed7953"
            ],
            [
             0.7777777777777778,
             "#fb9f3a"
            ],
            [
             0.8888888888888888,
             "#fdca26"
            ],
            [
             1,
             "#f0f921"
            ]
           ]
          },
          "colorway": [
           "#636efa",
           "#EF553B",
           "#00cc96",
           "#ab63fa",
           "#FFA15A",
           "#19d3f3",
           "#FF6692",
           "#B6E880",
           "#FF97FF",
           "#FECB52"
          ],
          "font": {
           "color": "#2a3f5f"
          },
          "geo": {
           "bgcolor": "white",
           "lakecolor": "white",
           "landcolor": "#E5ECF6",
           "showlakes": true,
           "showland": true,
           "subunitcolor": "white"
          },
          "hoverlabel": {
           "align": "left"
          },
          "hovermode": "closest",
          "mapbox": {
           "style": "light"
          },
          "paper_bgcolor": "white",
          "plot_bgcolor": "#E5ECF6",
          "polar": {
           "angularaxis": {
            "gridcolor": "white",
            "linecolor": "white",
            "ticks": ""
           },
           "bgcolor": "#E5ECF6",
           "radialaxis": {
            "gridcolor": "white",
            "linecolor": "white",
            "ticks": ""
           }
          },
          "scene": {
           "xaxis": {
            "backgroundcolor": "#E5ECF6",
            "gridcolor": "white",
            "gridwidth": 2,
            "linecolor": "white",
            "showbackground": true,
            "ticks": "",
            "zerolinecolor": "white"
           },
           "yaxis": {
            "backgroundcolor": "#E5ECF6",
            "gridcolor": "white",
            "gridwidth": 2,
            "linecolor": "white",
            "showbackground": true,
            "ticks": "",
            "zerolinecolor": "white"
           },
           "zaxis": {
            "backgroundcolor": "#E5ECF6",
            "gridcolor": "white",
            "gridwidth": 2,
            "linecolor": "white",
            "showbackground": true,
            "ticks": "",
            "zerolinecolor": "white"
           }
          },
          "shapedefaults": {
           "line": {
            "color": "#2a3f5f"
           }
          },
          "ternary": {
           "aaxis": {
            "gridcolor": "white",
            "linecolor": "white",
            "ticks": ""
           },
           "baxis": {
            "gridcolor": "white",
            "linecolor": "white",
            "ticks": ""
           },
           "bgcolor": "#E5ECF6",
           "caxis": {
            "gridcolor": "white",
            "linecolor": "white",
            "ticks": ""
           }
          },
          "title": {
           "x": 0.05
          },
          "xaxis": {
           "automargin": true,
           "gridcolor": "white",
           "linecolor": "white",
           "ticks": "",
           "zerolinecolor": "white",
           "zerolinewidth": 2
          },
          "yaxis": {
           "automargin": true,
           "gridcolor": "white",
           "linecolor": "white",
           "ticks": "",
           "zerolinecolor": "white",
           "zerolinewidth": 2
          }
         }
        },
        "updatemenus": [
         {
          "buttons": [
           {
            "args": [
             null,
             {
              "frame": {
               "duration": 500,
               "redraw": true
              },
              "fromcurrent": true,
              "mode": "immediate",
              "transition": {
               "duration": 500,
               "easing": "linear"
              }
             }
            ],
            "label": "&#9654;",
            "method": "animate"
           },
           {
            "args": [
             [
              null
             ],
             {
              "frame": {
               "duration": 0,
               "redraw": true
              },
              "fromcurrent": true,
              "mode": "immediate",
              "transition": {
               "duration": 0,
               "easing": "linear"
              }
             }
            ],
            "label": "&#9724;",
            "method": "animate"
           }
          ],
          "direction": "left",
          "pad": {
           "r": 10,
           "t": 70
          },
          "showactive": false,
          "type": "buttons",
          "x": 0.1,
          "xanchor": "right",
          "y": 0,
          "yanchor": "top"
         }
        ]
       }
      },
      "text/html": [
       "<div>\n",
       "        \n",
       "        \n",
       "            <div id=\"be61150e-8277-4d8b-a787-e8541a6d564c\" class=\"plotly-graph-div\" style=\"height:600px; width:100%;\"></div>\n",
       "            <script type=\"text/javascript\">\n",
       "                require([\"plotly\"], function(Plotly) {\n",
       "                    window.PLOTLYENV=window.PLOTLYENV || {};\n",
       "                    \n",
       "                if (document.getElementById(\"be61150e-8277-4d8b-a787-e8541a6d564c\")) {\n",
       "                    Plotly.newPlot(\n",
       "                        'be61150e-8277-4d8b-a787-e8541a6d564c',\n",
       "                        [{\"hoverlabel\": {\"namelength\": 0}, \"hovertemplate\": \"Year=2016<br>Latitude=%{lat}<br>Longitude=%{lon}<br>Total Homeless=%{marker.color}\", \"lat\": [61.3025006, 32.601011199999995, 34.7519275, 34.1682185, 37.2718745, 38.9979339, 41.518783500000005, 38.899348700000004, 39.145251, 27.9757279, 32.6781248, 20.46, 41.9383166, 45.4945756, 39.739318, 39.7662195, 38.4987789, 37.8222935, 30.9733766, 42.062939799999995, 38.806352399999994, 45.2185133, 44.9435598, 46.4418595, 38.3046615, 32.5851062, 46.6797995, 35.2145629, 47.467881899999995, 41.5008195, 44.00123060000001, 40.1430058, 34.1662325, 38.502032, 40.7056258, 40.1903624, 35.309765399999996, 44.1419049, 40.99459279999999, 41.5827282, 33.62505, 44.2126995, 35.830521000000005, 31.1693363, 39.4997605, 38.0033855, 43.8717545, 38.899348700000004, 44.7862968, 38.920170500000005, 43.000325], \"legendgroup\": \"\", \"lon\": [-158.7750198, -86.6807365, -92.13137840000002, -111.930907, -119.2704153, -105.55056699999999, -72.75750699999999, -77.0145666, -75.41892059999999, -83.8330166, -83.22297569999999, -157.505, -93.389798, -114.1424303, -89.504139, -86.441277, -98.32007790000002, -85.76823990000001, -91.42990970000001, -71.718067, -77.2684162, -69.0148656, -86.41580490000001, -93.3655146, -92.437099, -89.8772196, -110.04478300000001, -79.8912675, -100.3022655, -99.680902, -71.57992309999999, -74.7311156, -106.02606850000001, -117.0230604, -73.97968, -82.6692525, -98.71655849999999, -120.5380993, -77.6046984, -71.5064508, -80.9470381, -100.24716409999999, -85.97859890000001, -100.0768425, -111.547028, -79.4587861, -72.4477828, -77.0145665, -89.82670490000001, -80.1816905, -107.5545669], \"marker\": {\"color\": [1940, 4111, 2463, 9707, 118142, 10550, 3902, 8350, 1070, 33559, 12909, 7921, 3064, 2247, 11590, 5798, 2255, 4237, 3994, 19608, 7689, 2241, 9316, 7341, 6194, 1738, 1418, 9559, 923, 2754, 1366, 8895, 2263, 7398, 86352, 10404, 4107, 13238, 15339, 1160, 5051, 1072, 8779, 23122, 2807, 6268, 1117, 20827, 5685, 1387, 857], \"coloraxis\": \"coloraxis\"}, \"mode\": \"markers\", \"name\": \"\", \"showlegend\": false, \"subplot\": \"mapbox\", \"type\": \"scattermapbox\"}],\n",
       "                        {\"coloraxis\": {\"colorbar\": {\"title\": {\"text\": \"Total Homeless\"}}, \"colorscale\": [[0.0, \"#000000\"], [0.0625, \"#001f4d\"], [0.125, \"#003786\"], [0.1875, \"#0e58a8\"], [0.25, \"#217eb8\"], [0.3125, \"#30a4ca\"], [0.375, \"#54c8df\"], [0.4375, \"#9be4ef\"], [0.5, \"#e1e9d1\"], [0.5625, \"#f3d573\"], [0.625, \"#e7b000\"], [0.6875, \"#da8200\"], [0.75, \"#c65400\"], [0.8125, \"#ac2301\"], [0.875, \"#820000\"], [0.9375, \"#4c0000\"], [1.0, \"#040100\"]]}, \"height\": 600, \"legend\": {\"tracegroupgap\": 0}, \"mapbox\": {\"accesstoken\": \"eyJ1IjoiamVubWMiLCJhIjoiY2p5cmZzeW83MDk3NDNubno5NjdxZGJjOSJ9.Nr_qwIlXTvGIT8bmynuKUQ\", \"center\": {\"lat\": 39.30952481960793, \"lon\": -92.79919144313719}, \"domain\": {\"x\": [0.0, 0.98], \"y\": [0.0, 1.0]}, \"zoom\": 10}, \"margin\": {\"t\": 60}, \"sliders\": [{\"active\": 0, \"currentvalue\": {\"prefix\": \"Year=\"}, \"len\": 0.9, \"pad\": {\"b\": 10, \"t\": 60}, \"steps\": [{\"args\": [[\"2016\"], {\"frame\": {\"duration\": 0, \"redraw\": true}, \"fromcurrent\": true, \"mode\": \"immediate\", \"transition\": {\"duration\": 0, \"easing\": \"linear\"}}], \"label\": \"2016\", \"method\": \"animate\"}, {\"args\": [[\"2015\"], {\"frame\": {\"duration\": 0, \"redraw\": true}, \"fromcurrent\": true, \"mode\": \"immediate\", \"transition\": {\"duration\": 0, \"easing\": \"linear\"}}], \"label\": \"2015\", \"method\": \"animate\"}, {\"args\": [[\"2014\"], {\"frame\": {\"duration\": 0, \"redraw\": true}, \"fromcurrent\": true, \"mode\": \"immediate\", \"transition\": {\"duration\": 0, \"easing\": \"linear\"}}], \"label\": \"2014\", \"method\": \"animate\"}, {\"args\": [[\"2013\"], {\"frame\": {\"duration\": 0, \"redraw\": true}, \"fromcurrent\": true, \"mode\": \"immediate\", \"transition\": {\"duration\": 0, \"easing\": \"linear\"}}], \"label\": \"2013\", \"method\": \"animate\"}, {\"args\": [[\"2012\"], {\"frame\": {\"duration\": 0, \"redraw\": true}, \"fromcurrent\": true, \"mode\": \"immediate\", \"transition\": {\"duration\": 0, \"easing\": \"linear\"}}], \"label\": \"2012\", \"method\": \"animate\"}, {\"args\": [[\"2011\"], {\"frame\": {\"duration\": 0, \"redraw\": true}, \"fromcurrent\": true, \"mode\": \"immediate\", \"transition\": {\"duration\": 0, \"easing\": \"linear\"}}], \"label\": \"2011\", \"method\": \"animate\"}, {\"args\": [[\"2010\"], {\"frame\": {\"duration\": 0, \"redraw\": true}, \"fromcurrent\": true, \"mode\": \"immediate\", \"transition\": {\"duration\": 0, \"easing\": \"linear\"}}], \"label\": \"2010\", \"method\": \"animate\"}, {\"args\": [[\"2009\"], {\"frame\": {\"duration\": 0, \"redraw\": true}, \"fromcurrent\": true, \"mode\": \"immediate\", \"transition\": {\"duration\": 0, \"easing\": \"linear\"}}], \"label\": \"2009\", \"method\": \"animate\"}, {\"args\": [[\"2008\"], {\"frame\": {\"duration\": 0, \"redraw\": true}, \"fromcurrent\": true, \"mode\": \"immediate\", \"transition\": {\"duration\": 0, \"easing\": \"linear\"}}], \"label\": \"2008\", \"method\": \"animate\"}, {\"args\": [[\"2007\"], {\"frame\": {\"duration\": 0, \"redraw\": true}, \"fromcurrent\": true, \"mode\": \"immediate\", \"transition\": {\"duration\": 0, \"easing\": \"linear\"}}], \"label\": \"2007\", \"method\": \"animate\"}], \"x\": 0.1, \"xanchor\": \"left\", \"y\": 0, \"yanchor\": \"top\"}], \"template\": {\"data\": {\"bar\": [{\"error_x\": {\"color\": \"#2a3f5f\"}, \"error_y\": {\"color\": \"#2a3f5f\"}, \"marker\": {\"line\": {\"color\": \"#E5ECF6\", \"width\": 0.5}}, \"type\": \"bar\"}], \"barpolar\": [{\"marker\": {\"line\": {\"color\": \"#E5ECF6\", \"width\": 0.5}}, \"type\": \"barpolar\"}], \"carpet\": [{\"aaxis\": {\"endlinecolor\": \"#2a3f5f\", \"gridcolor\": \"white\", \"linecolor\": \"white\", \"minorgridcolor\": \"white\", \"startlinecolor\": \"#2a3f5f\"}, \"baxis\": {\"endlinecolor\": \"#2a3f5f\", \"gridcolor\": \"white\", \"linecolor\": \"white\", \"minorgridcolor\": \"white\", \"startlinecolor\": \"#2a3f5f\"}, \"type\": \"carpet\"}], \"choropleth\": [{\"colorbar\": {\"outlinewidth\": 0, \"ticks\": \"\"}, \"type\": \"choropleth\"}], \"contour\": [{\"colorbar\": {\"outlinewidth\": 0, \"ticks\": \"\"}, \"colorscale\": [[0.0, \"#0d0887\"], [0.1111111111111111, \"#46039f\"], [0.2222222222222222, \"#7201a8\"], [0.3333333333333333, \"#9c179e\"], [0.4444444444444444, \"#bd3786\"], [0.5555555555555556, \"#d8576b\"], [0.6666666666666666, \"#ed7953\"], [0.7777777777777778, \"#fb9f3a\"], [0.8888888888888888, \"#fdca26\"], [1.0, \"#f0f921\"]], \"type\": \"contour\"}], \"contourcarpet\": [{\"colorbar\": {\"outlinewidth\": 0, \"ticks\": \"\"}, \"type\": \"contourcarpet\"}], \"heatmap\": [{\"colorbar\": {\"outlinewidth\": 0, \"ticks\": \"\"}, \"colorscale\": [[0.0, \"#0d0887\"], [0.1111111111111111, \"#46039f\"], [0.2222222222222222, \"#7201a8\"], [0.3333333333333333, \"#9c179e\"], [0.4444444444444444, \"#bd3786\"], [0.5555555555555556, \"#d8576b\"], [0.6666666666666666, \"#ed7953\"], [0.7777777777777778, \"#fb9f3a\"], [0.8888888888888888, \"#fdca26\"], [1.0, \"#f0f921\"]], \"type\": \"heatmap\"}], \"heatmapgl\": [{\"colorbar\": {\"outlinewidth\": 0, \"ticks\": \"\"}, \"colorscale\": [[0.0, \"#0d0887\"], [0.1111111111111111, \"#46039f\"], [0.2222222222222222, \"#7201a8\"], [0.3333333333333333, \"#9c179e\"], [0.4444444444444444, \"#bd3786\"], [0.5555555555555556, \"#d8576b\"], [0.6666666666666666, \"#ed7953\"], [0.7777777777777778, \"#fb9f3a\"], [0.8888888888888888, \"#fdca26\"], [1.0, \"#f0f921\"]], \"type\": \"heatmapgl\"}], \"histogram\": [{\"marker\": {\"colorbar\": {\"outlinewidth\": 0, \"ticks\": \"\"}}, \"type\": \"histogram\"}], \"histogram2d\": [{\"colorbar\": {\"outlinewidth\": 0, \"ticks\": \"\"}, \"colorscale\": [[0.0, \"#0d0887\"], [0.1111111111111111, \"#46039f\"], [0.2222222222222222, \"#7201a8\"], [0.3333333333333333, \"#9c179e\"], [0.4444444444444444, \"#bd3786\"], [0.5555555555555556, \"#d8576b\"], [0.6666666666666666, \"#ed7953\"], [0.7777777777777778, \"#fb9f3a\"], [0.8888888888888888, \"#fdca26\"], [1.0, \"#f0f921\"]], \"type\": \"histogram2d\"}], \"histogram2dcontour\": [{\"colorbar\": {\"outlinewidth\": 0, \"ticks\": \"\"}, \"colorscale\": [[0.0, \"#0d0887\"], [0.1111111111111111, \"#46039f\"], [0.2222222222222222, \"#7201a8\"], [0.3333333333333333, \"#9c179e\"], [0.4444444444444444, \"#bd3786\"], [0.5555555555555556, \"#d8576b\"], [0.6666666666666666, \"#ed7953\"], [0.7777777777777778, \"#fb9f3a\"], [0.8888888888888888, \"#fdca26\"], [1.0, \"#f0f921\"]], \"type\": \"histogram2dcontour\"}], \"mesh3d\": [{\"colorbar\": {\"outlinewidth\": 0, \"ticks\": \"\"}, \"type\": \"mesh3d\"}], \"parcoords\": [{\"line\": {\"colorbar\": {\"outlinewidth\": 0, \"ticks\": \"\"}}, \"type\": \"parcoords\"}], \"scatter\": [{\"marker\": {\"colorbar\": {\"outlinewidth\": 0, \"ticks\": \"\"}}, \"type\": \"scatter\"}], \"scatter3d\": [{\"line\": {\"colorbar\": {\"outlinewidth\": 0, \"ticks\": \"\"}}, \"marker\": {\"colorbar\": {\"outlinewidth\": 0, \"ticks\": \"\"}}, \"type\": \"scatter3d\"}], \"scattercarpet\": [{\"marker\": {\"colorbar\": {\"outlinewidth\": 0, \"ticks\": \"\"}}, \"type\": \"scattercarpet\"}], \"scattergeo\": [{\"marker\": {\"colorbar\": {\"outlinewidth\": 0, \"ticks\": \"\"}}, \"type\": \"scattergeo\"}], \"scattergl\": [{\"marker\": {\"colorbar\": {\"outlinewidth\": 0, \"ticks\": \"\"}}, \"type\": \"scattergl\"}], \"scattermapbox\": [{\"marker\": {\"colorbar\": {\"outlinewidth\": 0, \"ticks\": \"\"}}, \"type\": \"scattermapbox\"}], \"scatterpolar\": [{\"marker\": {\"colorbar\": {\"outlinewidth\": 0, \"ticks\": \"\"}}, \"type\": \"scatterpolar\"}], \"scatterpolargl\": [{\"marker\": {\"colorbar\": {\"outlinewidth\": 0, \"ticks\": \"\"}}, \"type\": \"scatterpolargl\"}], \"scatterternary\": [{\"marker\": {\"colorbar\": {\"outlinewidth\": 0, \"ticks\": \"\"}}, \"type\": \"scatterternary\"}], \"surface\": [{\"colorbar\": {\"outlinewidth\": 0, \"ticks\": \"\"}, \"colorscale\": [[0.0, \"#0d0887\"], [0.1111111111111111, \"#46039f\"], [0.2222222222222222, \"#7201a8\"], [0.3333333333333333, \"#9c179e\"], [0.4444444444444444, \"#bd3786\"], [0.5555555555555556, \"#d8576b\"], [0.6666666666666666, \"#ed7953\"], [0.7777777777777778, \"#fb9f3a\"], [0.8888888888888888, \"#fdca26\"], [1.0, \"#f0f921\"]], \"type\": \"surface\"}], \"table\": [{\"cells\": {\"fill\": {\"color\": \"#EBF0F8\"}, \"line\": {\"color\": \"white\"}}, \"header\": {\"fill\": {\"color\": \"#C8D4E3\"}, \"line\": {\"color\": \"white\"}}, \"type\": \"table\"}]}, \"layout\": {\"annotationdefaults\": {\"arrowcolor\": \"#2a3f5f\", \"arrowhead\": 0, \"arrowwidth\": 1}, \"colorscale\": {\"diverging\": [[0, \"#8e0152\"], [0.1, \"#c51b7d\"], [0.2, \"#de77ae\"], [0.3, \"#f1b6da\"], [0.4, \"#fde0ef\"], [0.5, \"#f7f7f7\"], [0.6, \"#e6f5d0\"], [0.7, \"#b8e186\"], [0.8, \"#7fbc41\"], [0.9, \"#4d9221\"], [1, \"#276419\"]], \"sequential\": [[0.0, \"#0d0887\"], [0.1111111111111111, \"#46039f\"], [0.2222222222222222, \"#7201a8\"], [0.3333333333333333, \"#9c179e\"], [0.4444444444444444, \"#bd3786\"], [0.5555555555555556, \"#d8576b\"], [0.6666666666666666, \"#ed7953\"], [0.7777777777777778, \"#fb9f3a\"], [0.8888888888888888, \"#fdca26\"], [1.0, \"#f0f921\"]], \"sequentialminus\": [[0.0, \"#0d0887\"], [0.1111111111111111, \"#46039f\"], [0.2222222222222222, \"#7201a8\"], [0.3333333333333333, \"#9c179e\"], [0.4444444444444444, \"#bd3786\"], [0.5555555555555556, \"#d8576b\"], [0.6666666666666666, \"#ed7953\"], [0.7777777777777778, \"#fb9f3a\"], [0.8888888888888888, \"#fdca26\"], [1.0, \"#f0f921\"]]}, \"colorway\": [\"#636efa\", \"#EF553B\", \"#00cc96\", \"#ab63fa\", \"#FFA15A\", \"#19d3f3\", \"#FF6692\", \"#B6E880\", \"#FF97FF\", \"#FECB52\"], \"font\": {\"color\": \"#2a3f5f\"}, \"geo\": {\"bgcolor\": \"white\", \"lakecolor\": \"white\", \"landcolor\": \"#E5ECF6\", \"showlakes\": true, \"showland\": true, \"subunitcolor\": \"white\"}, \"hoverlabel\": {\"align\": \"left\"}, \"hovermode\": \"closest\", \"mapbox\": {\"style\": \"light\"}, \"paper_bgcolor\": \"white\", \"plot_bgcolor\": \"#E5ECF6\", \"polar\": {\"angularaxis\": {\"gridcolor\": \"white\", \"linecolor\": \"white\", \"ticks\": \"\"}, \"bgcolor\": \"#E5ECF6\", \"radialaxis\": {\"gridcolor\": \"white\", \"linecolor\": \"white\", \"ticks\": \"\"}}, \"scene\": {\"xaxis\": {\"backgroundcolor\": \"#E5ECF6\", \"gridcolor\": \"white\", \"gridwidth\": 2, \"linecolor\": \"white\", \"showbackground\": true, \"ticks\": \"\", \"zerolinecolor\": \"white\"}, \"yaxis\": {\"backgroundcolor\": \"#E5ECF6\", \"gridcolor\": \"white\", \"gridwidth\": 2, \"linecolor\": \"white\", \"showbackground\": true, \"ticks\": \"\", \"zerolinecolor\": \"white\"}, \"zaxis\": {\"backgroundcolor\": \"#E5ECF6\", \"gridcolor\": \"white\", \"gridwidth\": 2, \"linecolor\": \"white\", \"showbackground\": true, \"ticks\": \"\", \"zerolinecolor\": \"white\"}}, \"shapedefaults\": {\"line\": {\"color\": \"#2a3f5f\"}}, \"ternary\": {\"aaxis\": {\"gridcolor\": \"white\", \"linecolor\": \"white\", \"ticks\": \"\"}, \"baxis\": {\"gridcolor\": \"white\", \"linecolor\": \"white\", \"ticks\": \"\"}, \"bgcolor\": \"#E5ECF6\", \"caxis\": {\"gridcolor\": \"white\", \"linecolor\": \"white\", \"ticks\": \"\"}}, \"title\": {\"x\": 0.05}, \"xaxis\": {\"automargin\": true, \"gridcolor\": \"white\", \"linecolor\": \"white\", \"ticks\": \"\", \"zerolinecolor\": \"white\", \"zerolinewidth\": 2}, \"yaxis\": {\"automargin\": true, \"gridcolor\": \"white\", \"linecolor\": \"white\", \"ticks\": \"\", \"zerolinecolor\": \"white\", \"zerolinewidth\": 2}}}, \"updatemenus\": [{\"buttons\": [{\"args\": [null, {\"frame\": {\"duration\": 500, \"redraw\": true}, \"fromcurrent\": true, \"mode\": \"immediate\", \"transition\": {\"duration\": 500, \"easing\": \"linear\"}}], \"label\": \"&#9654;\", \"method\": \"animate\"}, {\"args\": [[null], {\"frame\": {\"duration\": 0, \"redraw\": true}, \"fromcurrent\": true, \"mode\": \"immediate\", \"transition\": {\"duration\": 0, \"easing\": \"linear\"}}], \"label\": \"&#9724;\", \"method\": \"animate\"}], \"direction\": \"left\", \"pad\": {\"r\": 10, \"t\": 70}, \"showactive\": false, \"type\": \"buttons\", \"x\": 0.1, \"xanchor\": \"right\", \"y\": 0, \"yanchor\": \"top\"}]},\n",
       "                        {\"responsive\": true}\n",
       "                    ).then(function(){\n",
       "                            Plotly.addFrames('be61150e-8277-4d8b-a787-e8541a6d564c', [{\"data\": [{\"hoverlabel\": {\"namelength\": 0}, \"hovertemplate\": \"Year=2016<br>Latitude=%{lat}<br>Longitude=%{lon}<br>Total Homeless=%{marker.color}\", \"lat\": [61.3025006, 32.601011199999995, 34.7519275, 34.1682185, 37.2718745, 38.9979339, 41.518783500000005, 38.899348700000004, 39.145251, 27.9757279, 32.6781248, 20.46, 41.9383166, 45.4945756, 39.739318, 39.7662195, 38.4987789, 37.8222935, 30.9733766, 42.062939799999995, 38.806352399999994, 45.2185133, 44.9435598, 46.4418595, 38.3046615, 32.5851062, 46.6797995, 35.2145629, 47.467881899999995, 41.5008195, 44.00123060000001, 40.1430058, 34.1662325, 38.502032, 40.7056258, 40.1903624, 35.309765399999996, 44.1419049, 40.99459279999999, 41.5827282, 33.62505, 44.2126995, 35.830521000000005, 31.1693363, 39.4997605, 38.0033855, 43.8717545, 38.899348700000004, 44.7862968, 38.920170500000005, 43.000325], \"legendgroup\": \"\", \"lon\": [-158.7750198, -86.6807365, -92.13137840000002, -111.930907, -119.2704153, -105.55056699999999, -72.75750699999999, -77.0145666, -75.41892059999999, -83.8330166, -83.22297569999999, -157.505, -93.389798, -114.1424303, -89.504139, -86.441277, -98.32007790000002, -85.76823990000001, -91.42990970000001, -71.718067, -77.2684162, -69.0148656, -86.41580490000001, -93.3655146, -92.437099, -89.8772196, -110.04478300000001, -79.8912675, -100.3022655, -99.680902, -71.57992309999999, -74.7311156, -106.02606850000001, -117.0230604, -73.97968, -82.6692525, -98.71655849999999, -120.5380993, -77.6046984, -71.5064508, -80.9470381, -100.24716409999999, -85.97859890000001, -100.0768425, -111.547028, -79.4587861, -72.4477828, -77.0145665, -89.82670490000001, -80.1816905, -107.5545669], \"marker\": {\"color\": [1940, 4111, 2463, 9707, 118142, 10550, 3902, 8350, 1070, 33559, 12909, 7921, 3064, 2247, 11590, 5798, 2255, 4237, 3994, 19608, 7689, 2241, 9316, 7341, 6194, 1738, 1418, 9559, 923, 2754, 1366, 8895, 2263, 7398, 86352, 10404, 4107, 13238, 15339, 1160, 5051, 1072, 8779, 23122, 2807, 6268, 1117, 20827, 5685, 1387, 857], \"coloraxis\": \"coloraxis\"}, \"mode\": \"markers\", \"name\": \"\", \"showlegend\": false, \"subplot\": \"mapbox\", \"type\": \"scattermapbox\"}], \"name\": \"2016\"}, {\"data\": [{\"hoverlabel\": {\"namelength\": 0}, \"hovertemplate\": \"Year=2015<br>Latitude=%{lat}<br>Longitude=%{lon}<br>Total Homeless=%{marker.color}\", \"lat\": [61.3025006, 32.601011199999995, 34.7519275, 34.1682185, 37.2718745, 38.9979339, 41.518783500000005, 38.899348700000004, 39.145251, 27.9757279, 32.6781248, 20.46, 41.9383166, 45.4945756, 39.739318, 39.7662195, 38.4987789, 37.8222935, 30.9733766, 42.062939799999995, 38.806352399999994, 45.2185133, 44.9435598, 46.4418595, 38.3046615, 32.5851062, 46.6797995, 35.2145629, 47.467881899999995, 41.5008195, 44.00123060000001, 40.1430058, 34.1662325, 38.502032, 40.7056258, 40.1903624, 35.309765399999996, 44.1419049, 40.99459279999999, 41.5827282, 33.62505, 44.2126995, 35.830521000000005, 31.1693363, 39.4997605, 38.0033855, 43.8717545, 38.899348700000004, 44.7862968, 38.920170500000005, 43.000325], \"legendgroup\": \"\", \"lon\": [-158.7750198, -86.6807365, -92.13137840000002, -111.930907, -119.2704153, -105.55056699999999, -72.75750699999999, -77.0145666, -75.41892059999999, -83.8330166, -83.22297569999999, -157.505, -93.389798, -114.1424303, -89.504139, -86.441277, -98.32007790000002, -85.76823990000001, -91.42990970000001, -71.718067, -77.2684162, -69.0148656, -86.41580490000001, -93.3655146, -92.437099, -89.8772196, -110.04478300000001, -79.8912675, -100.3022655, -99.680902, -71.57992309999999, -74.7311156, -106.02606850000001, -117.0230604, -73.97968, -82.6692525, -98.71655849999999, -120.5380993, -77.6046984, -71.5064508, -80.9470381, -100.24716409999999, -85.97859890000001, -100.0768425, -111.547028, -79.4587861, -72.4477828, -77.0145665, -89.82670490000001, -80.1816905, -107.5545669], \"marker\": {\"color\": [1956, 3970, 2560, 9896, 115738, 9953, 4047, 7298, 953, 35900, 13790, 7620, 3081, 1966, 13177, 5863, 2588, 4538, 4081, 21135, 8390, 2372, 10516, 7546, 6482, 1983, 1709, 10685, 1305, 2744, 1445, 10098, 2629, 8743, 88250, 11182, 3777, 13226, 15421, 1111, 5354, 1036, 9123, 23678, 3025, 7001, 1523, 19419, 6057, 1835, 798], \"coloraxis\": \"coloraxis\"}, \"mode\": \"markers\", \"name\": \"\", \"showlegend\": false, \"subplot\": \"mapbox\", \"type\": \"scattermapbox\"}], \"name\": \"2015\"}, {\"data\": [{\"hoverlabel\": {\"namelength\": 0}, \"hovertemplate\": \"Year=2014<br>Latitude=%{lat}<br>Longitude=%{lon}<br>Total Homeless=%{marker.color}\", \"lat\": [61.3025006, 32.601011199999995, 34.7519275, 34.1682185, 37.2718745, 38.9979339, 41.518783500000005, 38.899348700000004, 39.145251, 27.9757279, 32.6781248, 20.46, 41.9383166, 45.4945756, 39.739318, 39.7662195, 38.4987789, 37.8222935, 30.9733766, 42.062939799999995, 38.806352399999994, 45.2185133, 44.9435598, 46.4418595, 38.3046615, 32.5851062, 46.6797995, 35.2145629, 47.467881899999995, 41.5008195, 44.00123060000001, 40.1430058, 34.1662325, 38.502032, 40.7056258, 40.1903624, 35.309765399999996, 44.1419049, 40.99459279999999, 41.5827282, 33.62505, 44.2126995, 35.830521000000005, 31.1693363, 39.4997605, 38.0033855, 43.8717545, 38.899348700000004, 44.7862968, 38.920170500000005, 43.000325], \"legendgroup\": \"\", \"lon\": [-158.7750198, -86.6807365, -92.13137840000002, -111.930907, -119.2704153, -105.55056699999999, -72.75750699999999, -77.0145666, -75.41892059999999, -83.8330166, -83.22297569999999, -157.505, -93.389798, -114.1424303, -89.504139, -86.441277, -98.32007790000002, -85.76823990000001, -91.42990970000001, -71.718067, -77.2684162, -69.0148656, -86.41580490000001, -93.3655146, -92.437099, -89.8772196, -110.04478300000001, -79.8912675, -100.3022655, -99.680902, -71.57992309999999, -74.7311156, -106.02606850000001, -117.0230604, -73.97968, -82.6692525, -98.71655849999999, -120.5380993, -77.6046984, -71.5064508, -80.9470381, -100.24716409999999, -85.97859890000001, -100.0768425, -111.547028, -79.4587861, -72.4477828, -77.0145665, -89.82670490000001, -80.1816905, -107.5545669], \"marker\": {\"color\": [1784, 4561, 2936, 10495, 113952, 10028, 4450, 7748, 901, 41542, 16521, 6918, 3122, 2104, 13107, 5971, 2783, 5089, 4606, 21237, 7856, 2726, 12227, 8377, 7282, 2226, 1745, 11491, 1258, 3026, 1376, 11671, 2746, 8582, 80590, 11823, 4191, 12164, 15333, 1190, 5057, 885, 9415, 28495, 3081, 7020, 1559, 18442, 6055, 2013, 757], \"coloraxis\": \"coloraxis\"}, \"mode\": \"markers\", \"name\": \"\", \"showlegend\": false, \"subplot\": \"mapbox\", \"type\": \"scattermapbox\"}], \"name\": \"2014\"}, {\"data\": [{\"hoverlabel\": {\"namelength\": 0}, \"hovertemplate\": \"Year=2013<br>Latitude=%{lat}<br>Longitude=%{lon}<br>Total Homeless=%{marker.color}\", \"lat\": [61.3025006, 32.601011199999995, 34.7519275, 34.1682185, 37.2718745, 38.9979339, 41.518783500000005, 38.899348700000004, 39.145251, 27.9757279, 32.6781248, 20.46, 41.9383166, 45.4945756, 39.739318, 39.7662195, 38.4987789, 37.8222935, 30.9733766, 42.062939799999995, 38.806352399999994, 45.2185133, 44.9435598, 46.4418595, 38.3046615, 32.5851062, 46.6797995, 35.2145629, 47.467881899999995, 41.5008195, 44.00123060000001, 40.1430058, 34.1662325, 38.502032, 40.7056258, 40.1903624, 35.309765399999996, 44.1419049, 40.99459279999999, 41.5827282, 33.62505, 44.2126995, 35.830521000000005, 31.1693363, 39.4997605, 38.0033855, 43.8717545, 38.899348700000004, 44.7862968, 38.920170500000005, 43.000325], \"legendgroup\": \"\", \"lon\": [-158.7750198, -86.6807365, -92.13137840000002, -111.930907, -119.2704153, -105.55056699999999, -72.75750699999999, -77.0145666, -75.41892059999999, -83.8330166, -83.22297569999999, -157.505, -93.389798, -114.1424303, -89.504139, -86.441277, -98.32007790000002, -85.76823990000001, -91.42990970000001, -71.718067, -77.2684162, -69.0148656, -86.41580490000001, -93.3655146, -92.437099, -89.8772196, -110.04478300000001, -79.8912675, -100.3022655, -99.680902, -71.57992309999999, -74.7311156, -106.02606850000001, -117.0230604, -73.97968, -82.6692525, -98.71655849999999, -120.5380993, -77.6046984, -71.5064508, -80.9470381, -100.24716409999999, -85.97859890000001, -100.0768425, -111.547028, -79.4587861, -72.4477828, -77.0145665, -89.82670490000001, -80.1816905, -107.5545669], \"marker\": {\"color\": [1946, 4689, 3812, 10562, 118552, 9754, 4448, 6865, 946, 47862, 16971, 6335, 3084, 1781, 13425, 6096, 2693, 5245, 5226, 19029, 8205, 3016, 11527, 8214, 8581, 2403, 1878, 12168, 2069, 3145, 1447, 12002, 2819, 7039, 77430, 12325, 4408, 13822, 15086, 1384, 6544, 1094, 9528, 29615, 3277, 7625, 1454, 17760, 6104, 2240, 953], \"coloraxis\": \"coloraxis\"}, \"mode\": \"markers\", \"name\": \"\", \"showlegend\": false, \"subplot\": \"mapbox\", \"type\": \"scattermapbox\"}], \"name\": \"2013\"}, {\"data\": [{\"hoverlabel\": {\"namelength\": 0}, \"hovertemplate\": \"Year=2012<br>Latitude=%{lat}<br>Longitude=%{lon}<br>Total Homeless=%{marker.color}\", \"lat\": [61.3025006, 32.601011199999995, 34.7519275, 34.1682185, 37.2718745, 38.9979339, 41.518783500000005, 38.899348700000004, 39.145251, 27.9757279, 32.6781248, 20.46, 41.9383166, 45.4945756, 39.739318, 39.7662195, 38.4987789, 37.8222935, 30.9733766, 42.062939799999995, 38.806352399999994, 45.2185133, 44.9435598, 46.4418595, 38.3046615, 32.5851062, 46.6797995, 35.2145629, 47.467881899999995, 41.5008195, 44.00123060000001, 40.1430058, 34.1662325, 38.502032, 40.7056258, 40.1903624, 35.309765399999996, 44.1419049, 40.99459279999999, 41.5827282, 33.62505, 44.2126995, 35.830521000000005, 31.1693363, 39.4997605, 38.0033855, 43.8717545, 38.899348700000004, 44.7862968, 38.920170500000005, 43.000325], \"legendgroup\": \"\", \"lon\": [-158.7750198, -86.6807365, -92.13137840000002, -111.930907, -119.2704153, -105.55056699999999, -72.75750699999999, -77.0145666, -75.41892059999999, -83.8330166, -83.22297569999999, -157.505, -93.389798, -114.1424303, -89.504139, -86.441277, -98.32007790000002, -85.76823990000001, -91.42990970000001, -71.718067, -77.2684162, -69.0148656, -86.41580490000001, -93.3655146, -92.437099, -89.8772196, -110.04478300000001, -79.8912675, -100.3022655, -99.680902, -71.57992309999999, -74.7311156, -106.02606850000001, -117.0230604, -73.97968, -82.6692525, -98.71655849999999, -120.5380993, -77.6046984, -71.5064508, -80.9470381, -100.24716409999999, -85.97859890000001, -100.0768425, -111.547028, -79.4587861, -72.4477828, -77.0145665, -89.82670490000001, -80.1816905, -107.5545669], \"marker\": {\"color\": [1913, 5209, 4214, 11302, 120098, 16768, 4209, 6954, 1008, 55170, 20516, 6246, 2928, 1968, 14144, 6259, 2684, 5230, 7772, 17501, 9454, 2393, 12592, 7744, 10237, 2413, 1833, 13524, 688, 3789, 1496, 13025, 3245, 8497, 69566, 13977, 5032, 15828, 14736, 1277, 4915, 859, 9426, 34052, 3527, 8424, 1160, 20504, 6027, 2410, 1813], \"coloraxis\": \"coloraxis\"}, \"mode\": \"markers\", \"name\": \"\", \"showlegend\": false, \"subplot\": \"mapbox\", \"type\": \"scattermapbox\"}], \"name\": \"2012\"}, {\"data\": [{\"hoverlabel\": {\"namelength\": 0}, \"hovertemplate\": \"Year=2011<br>Latitude=%{lat}<br>Longitude=%{lon}<br>Total Homeless=%{marker.color}\", \"lat\": [61.3025006, 32.601011199999995, 34.7519275, 34.1682185, 37.2718745, 38.9979339, 41.518783500000005, 38.899348700000004, 39.145251, 27.9757279, 32.6781248, 20.46, 41.9383166, 45.4945756, 39.739318, 39.7662195, 38.4987789, 37.8222935, 30.9733766, 42.062939799999995, 38.806352399999994, 45.2185133, 44.9435598, 46.4418595, 38.3046615, 32.5851062, 46.6797995, 35.2145629, 47.467881899999995, 41.5008195, 44.00123060000001, 40.1430058, 34.1662325, 38.502032, 40.7056258, 40.1903624, 35.309765399999996, 44.1419049, 40.99459279999999, 41.5827282, 33.62505, 44.2126995, 35.830521000000005, 31.1693363, 39.4997605, 38.0033855, 43.8717545, 38.899348700000004, 44.7862968, 38.920170500000005, 43.000325], \"legendgroup\": \"\", \"lon\": [-158.7750198, -86.6807365, -92.13137840000002, -111.930907, -119.2704153, -105.55056699999999, -72.75750699999999, -77.0145666, -75.41892059999999, -83.8330166, -83.22297569999999, -157.505, -93.389798, -114.1424303, -89.504139, -86.441277, -98.32007790000002, -85.76823990000001, -91.42990970000001, -71.718067, -77.2684162, -69.0148656, -86.41580490000001, -93.3655146, -92.437099, -89.8772196, -110.04478300000001, -79.8912675, -100.3022655, -99.680902, -71.57992309999999, -74.7311156, -106.02606850000001, -117.0230604, -73.97968, -82.6692525, -98.71655849999999, -120.5380993, -77.6046984, -71.5064508, -80.9470381, -100.24716409999999, -85.97859890000001, -100.0768425, -111.547028, -79.4587861, -72.4477828, -77.0145665, -89.82670490000001, -80.1816905, -107.5545669], \"marker\": {\"color\": [2128, 5558, 3424, 10504, 125128, 15116, 4456, 6546, 1035, 56687, 20975, 6188, 3134, 2199, 14009, 6196, 2511, 6034, 9291, 16664, 10208, 2447, 13185, 7495, 8989, 2306, 1768, 12896, 603, 3548, 1469, 14137, 3601, 9150, 63445, 13030, 4625, 17254, 15096, 1070, 5093, 826, 9113, 36911, 3130, 8816, 1144, 20439, 5785, 2211, 1038], \"coloraxis\": \"coloraxis\"}, \"mode\": \"markers\", \"name\": \"\", \"showlegend\": false, \"subplot\": \"mapbox\", \"type\": \"scattermapbox\"}], \"name\": \"2011\"}, {\"data\": [{\"hoverlabel\": {\"namelength\": 0}, \"hovertemplate\": \"Year=2010<br>Latitude=%{lat}<br>Longitude=%{lon}<br>Total Homeless=%{marker.color}\", \"lat\": [61.3025006, 32.601011199999995, 34.7519275, 34.1682185, 37.2718745, 38.9979339, 41.518783500000005, 38.899348700000004, 39.145251, 27.9757279, 32.6781248, 20.46, 41.9383166, 45.4945756, 39.739318, 39.7662195, 38.4987789, 37.8222935, 30.9733766, 42.062939799999995, 38.806352399999994, 45.2185133, 44.9435598, 46.4418595, 38.3046615, 32.5851062, 46.6797995, 35.2145629, 47.467881899999995, 41.5008195, 44.00123060000001, 40.1430058, 34.1662325, 38.502032, 40.7056258, 40.1903624, 35.309765399999996, 44.1419049, 40.99459279999999, 41.5827282, 33.62505, 44.2126995, 35.830521000000005, 31.1693363, 39.4997605, 38.0033855, 43.8717545, 38.899348700000004, 44.7862968, 38.920170500000005, 43.000325], \"legendgroup\": \"\", \"lon\": [-158.7750198, -86.6807365, -92.13137840000002, -111.930907, -119.2704153, -105.55056699999999, -72.75750699999999, -77.0145666, -75.41892059999999, -83.8330166, -83.22297569999999, -157.505, -93.389798, -114.1424303, -89.504139, -86.441277, -98.32007790000002, -85.76823990000001, -91.42990970000001, -71.718067, -77.2684162, -69.0148656, -86.41580490000001, -93.3655146, -92.437099, -89.8772196, -110.04478300000001, -79.8912675, -100.3022655, -99.680902, -71.57992309999999, -74.7311156, -106.02606850000001, -117.0230604, -73.97968, -82.6692525, -98.71655849999999, -120.5380993, -77.6046984, -71.5064508, -80.9470381, -100.24716409999999, -85.97859890000001, -100.0768425, -111.547028, -79.4587861, -72.4477828, -77.0145665, -89.82670490000001, -80.1816905, -107.5545669], \"marker\": {\"color\": [1863, 6046, 2762, 13711, 123480, 15482, 4316, 6539, 982, 57551, 19836, 5834, 3014, 2346, 14395, 6452, 2024, 6623, 12482, 16646, 10845, 2379, 13058, 7869, 8122, 2743, 1615, 12191, 799, 3877, 1574, 13737, 3475, 11205, 65606, 12569, 5229, 19492, 14516, 1282, 4473, 731, 10276, 35121, 3284, 9080, 1220, 22878, 6333, 2264, 579], \"coloraxis\": \"coloraxis\"}, \"mode\": \"markers\", \"name\": \"\", \"showlegend\": false, \"subplot\": \"mapbox\", \"type\": \"scattermapbox\"}], \"name\": \"2010\"}, {\"data\": [{\"hoverlabel\": {\"namelength\": 0}, \"hovertemplate\": \"Year=2009<br>Latitude=%{lat}<br>Longitude=%{lon}<br>Total Homeless=%{marker.color}\", \"lat\": [61.3025006, 32.601011199999995, 34.7519275, 34.1682185, 37.2718745, 38.9979339, 41.518783500000005, 38.899348700000004, 39.145251, 27.9757279, 32.6781248, 20.46, 41.9383166, 45.4945756, 39.739318, 39.7662195, 38.4987789, 37.8222935, 30.9733766, 42.062939799999995, 38.806352399999994, 45.2185133, 44.9435598, 46.4418595, 38.3046615, 32.5851062, 46.6797995, 35.2145629, 47.467881899999995, 41.5008195, 44.00123060000001, 40.1430058, 34.1662325, 38.502032, 40.7056258, 40.1903624, 35.309765399999996, 44.1419049, 40.99459279999999, 41.5827282, 33.62505, 44.2126995, 35.830521000000005, 31.1693363, 39.4997605, 38.0033855, 43.8717545, 38.899348700000004, 44.7862968, 38.920170500000005, 43.000325], \"legendgroup\": \"\", \"lon\": [-158.7750198, -86.6807365, -92.13137840000002, -111.930907, -119.2704153, -105.55056699999999, -72.75750699999999, -77.0145666, -75.41892059999999, -83.8330166, -83.22297569999999, -157.505, -93.389798, -114.1424303, -89.504139, -86.441277, -98.32007790000002, -85.76823990000001, -91.42990970000001, -71.718067, -77.2684162, -69.0148656, -86.41580490000001, -93.3655146, -92.437099, -89.8772196, -110.04478300000001, -79.8912675, -100.3022655, -99.680902, -71.57992309999999, -74.7311156, -106.02606850000001, -117.0230604, -73.97968, -82.6692525, -98.71655849999999, -120.5380993, -77.6046984, -71.5064508, -80.9470381, -100.24716409999999, -85.97859890000001, -100.0768425, -111.547028, -79.4587861, -72.4477828, -77.0145665, -89.82670490000001, -80.1816905, -107.5545669], \"marker\": {\"color\": [1992, 6080, 2852, 14721, 123678, 15268, 4605, 6228, 1130, 55599, 20360, 5782, 3380, 1939, 14055, 6984, 1892, 5999, 12504, 15482, 11698, 2444, 14005, 7718, 6959, 2797, 1196, 12918, 773, 3718, 1645, 13169, 3475, 11089, 61067, 12700, 4838, 17309, 15096, 1607, 4473, 731, 10532, 36761, 3795, 8852, 1214, 22782, 6525, 1667, 515], \"coloraxis\": \"coloraxis\"}, \"mode\": \"markers\", \"name\": \"\", \"showlegend\": false, \"subplot\": \"mapbox\", \"type\": \"scattermapbox\"}], \"name\": \"2009\"}, {\"data\": [{\"hoverlabel\": {\"namelength\": 0}, \"hovertemplate\": \"Year=2008<br>Latitude=%{lat}<br>Longitude=%{lon}<br>Total Homeless=%{marker.color}\", \"lat\": [61.3025006, 32.601011199999995, 34.7519275, 34.1682185, 37.2718745, 38.9979339, 41.518783500000005, 38.899348700000004, 39.145251, 27.9757279, 32.6781248, 20.46, 41.9383166, 45.4945756, 39.739318, 39.7662195, 38.4987789, 37.8222935, 30.9733766, 42.062939799999995, 38.806352399999994, 45.2185133, 44.9435598, 46.4418595, 38.3046615, 32.5851062, 46.6797995, 35.2145629, 47.467881899999995, 41.5008195, 44.00123060000001, 40.1430058, 34.1662325, 38.502032, 40.7056258, 40.1903624, 35.309765399999996, 44.1419049, 40.99459279999999, 41.5827282, 33.62505, 44.2126995, 35.830521000000005, 31.1693363, 39.4997605, 38.0033855, 43.8717545, 38.899348700000004, 44.7862968, 38.920170500000005, 43.000325], \"legendgroup\": \"\", \"lon\": [-158.7750198, -86.6807365, -92.13137840000002, -111.930907, -119.2704153, -105.55056699999999, -72.75750699999999, -77.0145666, -75.41892059999999, -83.8330166, -83.22297569999999, -157.505, -93.389798, -114.1424303, -89.504139, -86.441277, -98.32007790000002, -85.76823990000001, -91.42990970000001, -71.718067, -77.2684162, -69.0148656, -86.41580490000001, -93.3655146, -92.437099, -89.8772196, -110.04478300000001, -79.8912675, -100.3022655, -99.680902, -71.57992309999999, -74.7311156, -106.02606850000001, -117.0230604, -73.97968, -82.6692525, -98.71655849999999, -120.5380993, -77.6046984, -71.5064508, -80.9470381, -100.24716409999999, -85.97859890000001, -100.0768425, -111.547028, -79.4587861, -72.4477828, -77.0145665, -89.82670490000001, -80.1816905, -107.5545669], \"marker\": {\"color\": [1646, 5387, 3255, 12488, 136531, 14747, 4627, 6044, 933, 50158, 19095, 6061, 3346, 1464, 14724, 7395, 1738, 8137, 5481, 14506, 9219, 2632, 28248, 7644, 7687, 1961, 1417, 12411, 615, 3985, 2019, 13832, 3015, 8726, 61125, 12912, 3846, 20653, 15378, 1196, 5660, 579, 9705, 40190, 3434, 8469, 954, 21954, 5449, 2016, 751], \"coloraxis\": \"coloraxis\"}, \"mode\": \"markers\", \"name\": \"\", \"showlegend\": false, \"subplot\": \"mapbox\", \"type\": \"scattermapbox\"}], \"name\": \"2008\"}, {\"data\": [{\"hoverlabel\": {\"namelength\": 0}, \"hovertemplate\": \"Year=2007<br>Latitude=%{lat}<br>Longitude=%{lon}<br>Total Homeless=%{marker.color}\", \"lat\": [61.3025006, 32.601011199999995, 34.7519275, 34.1682185, 37.2718745, 38.9979339, 41.518783500000005, 38.899348700000004, 39.145251, 27.9757279, 32.6781248, 20.46, 41.9383166, 45.4945756, 39.739318, 39.7662195, 38.4987789, 37.8222935, 30.9733766, 42.062939799999995, 38.806352399999994, 45.2185133, 44.9435598, 46.4418595, 38.3046615, 32.5851062, 46.6797995, 35.2145629, 47.467881899999995, 41.5008195, 44.00123060000001, 40.1430058, 34.1662325, 38.502032, 40.7056258, 40.1903624, 35.309765399999996, 44.1419049, 40.99459279999999, 41.5827282, 33.62505, 44.2126995, 35.830521000000005, 31.1693363, 39.4997605, 38.0033855, 43.8717545, 38.899348700000004, 44.7862968, 38.920170500000005, 43.000325], \"legendgroup\": \"\", \"lon\": [-158.7750198, -86.6807365, -92.13137840000002, -111.930907, -119.2704153, -105.55056699999999, -72.75750699999999, -77.0145666, -75.41892059999999, -83.8330166, -83.22297569999999, -157.505, -93.389798, -114.1424303, -89.504139, -86.441277, -98.32007790000002, -85.76823990000001, -91.42990970000001, -71.718067, -77.2684162, -69.0148656, -86.41580490000001, -93.3655146, -92.437099, -89.8772196, -110.04478300000001, -79.8912675, -100.3022655, -99.680902, -71.57992309999999, -74.7311156, -106.02606850000001, -117.0230604, -73.97968, -82.6692525, -98.71655849999999, -120.5380993, -77.6046984, -71.5064508, -80.9470381, -100.24716409999999, -85.97859890000001, -100.0768425, -111.547028, -79.4587861, -72.4477828, -77.0145665, -89.82670490000001, -80.1816905, -107.5545669], \"marker\": {\"color\": [1642, 5452, 3836, 14646, 138986, 14225, 4482, 5320, 1061, 48069, 19639, 6070, 2734, 1749, 15487, 7358, 2111, 8061, 5494, 15127, 9628, 2638, 28295, 7323, 6247, 1377, 1150, 11802, 636, 3531, 2248, 17314, 3015, 8642, 62601, 11264, 4221, 17590, 16220, 1372, 5660, 579, 11210, 39788, 3011, 9746, 1035, 23379, 5648, 2409, 537], \"coloraxis\": \"coloraxis\"}, \"mode\": \"markers\", \"name\": \"\", \"showlegend\": false, \"subplot\": \"mapbox\", \"type\": \"scattermapbox\"}], \"name\": \"2007\"}]);\n",
       "                        }).then(function(){\n",
       "                            \n",
       "var gd = document.getElementById('be61150e-8277-4d8b-a787-e8541a6d564c');\n",
       "var x = new MutationObserver(function (mutations, observer) {{\n",
       "        var display = window.getComputedStyle(gd).display;\n",
       "        if (!display || display === 'none') {{\n",
       "            console.log([gd, 'removed!']);\n",
       "            Plotly.purge(gd);\n",
       "            observer.disconnect();\n",
       "        }}\n",
       "}});\n",
       "\n",
       "// Listen for the removal of the full notebook cells\n",
       "var notebookContainer = gd.closest('#notebook-container');\n",
       "if (notebookContainer) {{\n",
       "    x.observe(notebookContainer, {childList: true});\n",
       "}}\n",
       "\n",
       "// Listen for the clearing of the current output cell\n",
       "var outputEl = gd.closest('.output');\n",
       "if (outputEl) {{\n",
       "    x.observe(outputEl, {childList: true});\n",
       "}}\n",
       "\n",
       "                        })\n",
       "                };\n",
       "                });\n",
       "            </script>\n",
       "        </div>"
      ]
     },
     "metadata": {},
     "output_type": "display_data"
    }
   ],
   "source": [
    "px.set_mapbox_access_token('eyJ1IjoiamVubWMiLCJhIjoiY2p5cmZzeW83MDk3NDNubno5NjdxZGJjOSJ9.Nr_qwIlXTvGIT8bmynuKUQ')    \n",
    "\n",
    "fig = px.scatter_mapbox(df, lat=\"Latitude\", lon=\"Longitude\", color=\"Total Homeless\", animation_frame=\"Year\",\n",
    "                        color_continuous_scale= px.colors.cyclical.IceFire, size_max=15, zoom=10)\n",
    "\n",
    "fig.show()"
   ]
  },
  {
   "cell_type": "code",
   "execution_count": null,
   "metadata": {},
   "outputs": [],
   "source": []
  },
  {
   "cell_type": "code",
   "execution_count": null,
   "metadata": {},
   "outputs": [],
   "source": []
  }
 ],
 "metadata": {
  "kernelspec": {
   "display_name": "Python 3",
   "language": "python",
   "name": "python3"
  },
  "language_info": {
   "codemirror_mode": {
    "name": "ipython",
    "version": 3
   },
   "file_extension": ".py",
   "mimetype": "text/x-python",
   "name": "python",
   "nbconvert_exporter": "python",
   "pygments_lexer": "ipython3",
   "version": "3.7.3"
  }
 },
 "nbformat": 4,
 "nbformat_minor": 2
}
