{
 "cells": [
  {
   "cell_type": "markdown",
   "metadata": {},
   "source": [
    "# PREDICTING HOMELESSNESS IN AMERICA\n"
   ]
  },
  {
   "cell_type": "code",
   "execution_count": 62,
   "metadata": {},
   "outputs": [],
   "source": [
    "import pandas as pd\n",
    "import numpy as np\n",
    "import re\n",
    "import dbf\n",
    "import string"
   ]
  },
  {
   "cell_type": "markdown",
   "metadata": {},
   "source": [
    "## Map County and Location Data to HUD Codes"
   ]
  },
  {
   "cell_type": "markdown",
   "metadata": {},
   "source": [
    "- HUD Data was mannually compiled using a 2016 list of Continuum of Care areas and state-wide county names.\n",
    "- Lat and lon data was downloaded from: https://www.weather.gov/gis/Counties\n",
    "- State names were downloaded from Kaggle: https://www.kaggle.com/stansilas/us-state-county-name-codes/downloads/us-state-county-name-codes.zip/2"
   ]
  },
  {
   "cell_type": "code",
   "execution_count": 63,
   "metadata": {},
   "outputs": [],
   "source": [
    "#Merge FIPS, COC Codes, and Lat & Lon to map across US county data "
   ]
  },
  {
   "cell_type": "markdown",
   "metadata": {},
   "source": [
    "#### HUD COC Codes & FIPS Data"
   ]
  },
  {
   "cell_type": "code",
   "execution_count": 64,
   "metadata": {},
   "outputs": [],
   "source": [
    "coc_df = pd.read_csv('full_county_list.csv') #mannually compiled list with HUD codes"
   ]
  },
  {
   "cell_type": "code",
   "execution_count": 65,
   "metadata": {},
   "outputs": [
    {
     "data": {
      "text/plain": [
       "(3144, 4)"
      ]
     },
     "execution_count": 65,
     "metadata": {},
     "output_type": "execute_result"
    }
   ],
   "source": [
    "coc_df.shape"
   ]
  },
  {
   "cell_type": "code",
   "execution_count": 66,
   "metadata": {},
   "outputs": [
    {
     "data": {
      "text/html": [
       "<div>\n",
       "<style scoped>\n",
       "    .dataframe tbody tr th:only-of-type {\n",
       "        vertical-align: middle;\n",
       "    }\n",
       "\n",
       "    .dataframe tbody tr th {\n",
       "        vertical-align: top;\n",
       "    }\n",
       "\n",
       "    .dataframe thead th {\n",
       "        text-align: right;\n",
       "    }\n",
       "</style>\n",
       "<table border=\"1\" class=\"dataframe\">\n",
       "  <thead>\n",
       "    <tr style=\"text-align: right;\">\n",
       "      <th></th>\n",
       "      <th>FIPS</th>\n",
       "      <th>county</th>\n",
       "      <th>state</th>\n",
       "      <th>number</th>\n",
       "    </tr>\n",
       "  </thead>\n",
       "  <tbody>\n",
       "    <tr>\n",
       "      <th>0</th>\n",
       "      <td>1001.0</td>\n",
       "      <td>Autauga</td>\n",
       "      <td>AL</td>\n",
       "      <td>AL-507</td>\n",
       "    </tr>\n",
       "    <tr>\n",
       "      <th>1</th>\n",
       "      <td>1003.0</td>\n",
       "      <td>Baldwin</td>\n",
       "      <td>AL</td>\n",
       "      <td>AL-501</td>\n",
       "    </tr>\n",
       "    <tr>\n",
       "      <th>2</th>\n",
       "      <td>1005.0</td>\n",
       "      <td>Barbour</td>\n",
       "      <td>AL</td>\n",
       "      <td>AL-507</td>\n",
       "    </tr>\n",
       "    <tr>\n",
       "      <th>3</th>\n",
       "      <td>1007.0</td>\n",
       "      <td>Bibb</td>\n",
       "      <td>AL</td>\n",
       "      <td>AL-507</td>\n",
       "    </tr>\n",
       "    <tr>\n",
       "      <th>4</th>\n",
       "      <td>1009.0</td>\n",
       "      <td>Blount</td>\n",
       "      <td>AL</td>\n",
       "      <td>AL-503</td>\n",
       "    </tr>\n",
       "  </tbody>\n",
       "</table>\n",
       "</div>"
      ],
      "text/plain": [
       "     FIPS   county state  number\n",
       "0  1001.0  Autauga    AL  AL-507\n",
       "1  1003.0  Baldwin    AL  AL-501\n",
       "2  1005.0  Barbour    AL  AL-507\n",
       "3  1007.0     Bibb    AL  AL-507\n",
       "4  1009.0   Blount    AL  AL-503"
      ]
     },
     "execution_count": 66,
     "metadata": {},
     "output_type": "execute_result"
    }
   ],
   "source": [
    "coc_df.head()"
   ]
  },
  {
   "cell_type": "code",
   "execution_count": 67,
   "metadata": {},
   "outputs": [],
   "source": [
    "coc_df.drop(coc_df.index[383:387], inplace=True) #dropping empty rows"
   ]
  },
  {
   "cell_type": "code",
   "execution_count": 68,
   "metadata": {},
   "outputs": [],
   "source": [
    "coc_df.county = coc_df.county.apply(lambda x: str(x).lower()) #lowercase strings"
   ]
  },
  {
   "cell_type": "code",
   "execution_count": 69,
   "metadata": {},
   "outputs": [
    {
     "data": {
      "text/plain": [
       "False    3133\n",
       "True        7\n",
       "Name: FIPS, dtype: int64"
      ]
     },
     "execution_count": 69,
     "metadata": {},
     "output_type": "execute_result"
    }
   ],
   "source": [
    "coc_df.FIPS.isna().value_counts() #check for missing FIPS codes"
   ]
  },
  {
   "cell_type": "code",
   "execution_count": 70,
   "metadata": {},
   "outputs": [
    {
     "data": {
      "text/html": [
       "<div>\n",
       "<style scoped>\n",
       "    .dataframe tbody tr th:only-of-type {\n",
       "        vertical-align: middle;\n",
       "    }\n",
       "\n",
       "    .dataframe tbody tr th {\n",
       "        vertical-align: top;\n",
       "    }\n",
       "\n",
       "    .dataframe thead th {\n",
       "        text-align: right;\n",
       "    }\n",
       "</style>\n",
       "<table border=\"1\" class=\"dataframe\">\n",
       "  <thead>\n",
       "    <tr style=\"text-align: right;\">\n",
       "      <th></th>\n",
       "      <th>FIPS</th>\n",
       "      <th>county</th>\n",
       "      <th>state</th>\n",
       "      <th>number</th>\n",
       "    </tr>\n",
       "  </thead>\n",
       "  <tbody>\n",
       "    <tr>\n",
       "      <th>197</th>\n",
       "      <td>NaN</td>\n",
       "      <td>glendale</td>\n",
       "      <td>CA</td>\n",
       "      <td>CA-612</td>\n",
       "    </tr>\n",
       "    <tr>\n",
       "      <th>205</th>\n",
       "      <td>NaN</td>\n",
       "      <td>long beach</td>\n",
       "      <td>CA</td>\n",
       "      <td>CA-606</td>\n",
       "    </tr>\n",
       "    <tr>\n",
       "      <th>218</th>\n",
       "      <td>NaN</td>\n",
       "      <td>pasadena</td>\n",
       "      <td>CA</td>\n",
       "      <td>CA-607</td>\n",
       "    </tr>\n",
       "    <tr>\n",
       "      <th>391</th>\n",
       "      <td>NaN</td>\n",
       "      <td>nan</td>\n",
       "      <td>NaN</td>\n",
       "      <td>NaN</td>\n",
       "    </tr>\n",
       "    <tr>\n",
       "      <th>392</th>\n",
       "      <td>NaN</td>\n",
       "      <td>nan</td>\n",
       "      <td>NaN</td>\n",
       "      <td>NaN</td>\n",
       "    </tr>\n",
       "    <tr>\n",
       "      <th>393</th>\n",
       "      <td>NaN</td>\n",
       "      <td>nan</td>\n",
       "      <td>NaN</td>\n",
       "      <td>NaN</td>\n",
       "    </tr>\n",
       "    <tr>\n",
       "      <th>394</th>\n",
       "      <td>NaN</td>\n",
       "      <td>nan</td>\n",
       "      <td>NaN</td>\n",
       "      <td>NaN</td>\n",
       "    </tr>\n",
       "  </tbody>\n",
       "</table>\n",
       "</div>"
      ],
      "text/plain": [
       "     FIPS      county state  number\n",
       "197   NaN    glendale    CA  CA-612\n",
       "205   NaN  long beach    CA  CA-606\n",
       "218   NaN    pasadena    CA  CA-607\n",
       "391   NaN         nan   NaN     NaN\n",
       "392   NaN         nan   NaN     NaN\n",
       "393   NaN         nan   NaN     NaN\n",
       "394   NaN         nan   NaN     NaN"
      ]
     },
     "execution_count": 70,
     "metadata": {},
     "output_type": "execute_result"
    }
   ],
   "source": [
    "coc_df[coc_df.FIPS.isna()== True] #all Los Angeles greater area locations"
   ]
  },
  {
   "cell_type": "code",
   "execution_count": 71,
   "metadata": {},
   "outputs": [],
   "source": [
    "coc_df.FIPS = coc_df.FIPS.fillna(0) #fill missing fields with zero"
   ]
  },
  {
   "cell_type": "code",
   "execution_count": 72,
   "metadata": {},
   "outputs": [],
   "source": [
    "coc_df.FIPS = coc_df.FIPS.apply(lambda x: int(x)) #change from float to int"
   ]
  },
  {
   "cell_type": "markdown",
   "metadata": {},
   "source": [
    "#### Weather.gov Data"
   ]
  },
  {
   "cell_type": "code",
   "execution_count": 73,
   "metadata": {
    "scrolled": true
   },
   "outputs": [
    {
     "data": {
      "text/plain": [
       "3332"
      ]
     },
     "execution_count": 73,
     "metadata": {},
     "output_type": "execute_result"
    }
   ],
   "source": [
    "#import a weather.gov DBF file of lat and lon; convert to CSV download\n",
    "tabl = dbf.Table('c_02ap19/c_02ap19.dbf')\n",
    "tabl.open()\n",
    "dbf.export(tabl, header=False)"
   ]
  },
  {
   "cell_type": "code",
   "execution_count": 74,
   "metadata": {},
   "outputs": [],
   "source": [
    "lat_df = pd.read_csv('c_02ap19/c_02ap19.csv') #use pandas to manipulate weather.gov data"
   ]
  },
  {
   "cell_type": "code",
   "execution_count": 75,
   "metadata": {},
   "outputs": [
    {
     "data": {
      "text/html": [
       "<div>\n",
       "<style scoped>\n",
       "    .dataframe tbody tr th:only-of-type {\n",
       "        vertical-align: middle;\n",
       "    }\n",
       "\n",
       "    .dataframe tbody tr th {\n",
       "        vertical-align: top;\n",
       "    }\n",
       "\n",
       "    .dataframe thead th {\n",
       "        text-align: right;\n",
       "    }\n",
       "</style>\n",
       "<table border=\"1\" class=\"dataframe\">\n",
       "  <thead>\n",
       "    <tr style=\"text-align: right;\">\n",
       "      <th></th>\n",
       "      <th>ME</th>\n",
       "      <th>CAR</th>\n",
       "      <th>Washington</th>\n",
       "      <th>23029</th>\n",
       "      <th>E</th>\n",
       "      <th>se</th>\n",
       "      <th>-67.6361</th>\n",
       "      <th>45.0363</th>\n",
       "    </tr>\n",
       "  </thead>\n",
       "  <tbody>\n",
       "    <tr>\n",
       "      <th>0</th>\n",
       "      <td>GA</td>\n",
       "      <td>CHS</td>\n",
       "      <td>McIntosh</td>\n",
       "      <td>13191</td>\n",
       "      <td>E</td>\n",
       "      <td>se</td>\n",
       "      <td>-81.2646</td>\n",
       "      <td>31.5330</td>\n",
       "    </tr>\n",
       "    <tr>\n",
       "      <th>1</th>\n",
       "      <td>GA</td>\n",
       "      <td>CHS</td>\n",
       "      <td>Liberty</td>\n",
       "      <td>13179</td>\n",
       "      <td>E</td>\n",
       "      <td>se</td>\n",
       "      <td>-81.2102</td>\n",
       "      <td>31.7093</td>\n",
       "    </tr>\n",
       "    <tr>\n",
       "      <th>2</th>\n",
       "      <td>AS</td>\n",
       "      <td>PPG</td>\n",
       "      <td>Swains Island</td>\n",
       "      <td>60040</td>\n",
       "      <td>S</td>\n",
       "      <td></td>\n",
       "      <td>-171.0459</td>\n",
       "      <td>-11.0843</td>\n",
       "    </tr>\n",
       "    <tr>\n",
       "      <th>3</th>\n",
       "      <td>AS</td>\n",
       "      <td>PPG</td>\n",
       "      <td>Manu'a</td>\n",
       "      <td>60020</td>\n",
       "      <td>S</td>\n",
       "      <td></td>\n",
       "      <td>-169.5060</td>\n",
       "      <td>-14.2219</td>\n",
       "    </tr>\n",
       "    <tr>\n",
       "      <th>4</th>\n",
       "      <td>AS</td>\n",
       "      <td>PPG</td>\n",
       "      <td>Western</td>\n",
       "      <td>60050</td>\n",
       "      <td>S</td>\n",
       "      <td></td>\n",
       "      <td>-170.7691</td>\n",
       "      <td>-14.3241</td>\n",
       "    </tr>\n",
       "  </tbody>\n",
       "</table>\n",
       "</div>"
      ],
      "text/plain": [
       "   ME  CAR        Washington                23029  E   se  -67.6361  45.0363\n",
       "0  GA  CHS        McIntosh                  13191  E   se  -81.2646  31.5330\n",
       "1  GA  CHS        Liberty                   13179  E   se  -81.2102  31.7093\n",
       "2  AS  PPG        Swains Island             60040  S      -171.0459 -11.0843\n",
       "3  AS  PPG        Manu'a                    60020  S      -169.5060 -14.2219\n",
       "4  AS  PPG        Western                   60050  S      -170.7691 -14.3241"
      ]
     },
     "execution_count": 75,
     "metadata": {},
     "output_type": "execute_result"
    }
   ],
   "source": [
    "lat_df.head() "
   ]
  },
  {
   "cell_type": "code",
   "execution_count": 76,
   "metadata": {},
   "outputs": [],
   "source": [
    "#need to move the column names down and reset the index\n",
    "lat_df = lat_df.T.reset_index().T"
   ]
  },
  {
   "cell_type": "code",
   "execution_count": 77,
   "metadata": {},
   "outputs": [],
   "source": [
    "lat_df = lat_df.reset_index()"
   ]
  },
  {
   "cell_type": "code",
   "execution_count": 78,
   "metadata": {},
   "outputs": [],
   "source": [
    "#drop unnecessary columns\n",
    "lat_df.drop(['index',1,4,5],axis=1, inplace=True)"
   ]
  },
  {
   "cell_type": "code",
   "execution_count": 79,
   "metadata": {},
   "outputs": [],
   "source": [
    "lat_df.rename({0:'st', 2:'county', 3:'FIPS', 6:'LON', 7:'LAT'}, axis=1, inplace=True)\n",
    "lat_df.county = lat_df.county.apply(lambda x: str(x).lower())"
   ]
  },
  {
   "cell_type": "code",
   "execution_count": 80,
   "metadata": {},
   "outputs": [
    {
     "name": "stdout",
     "output_type": "stream",
     "text": [
      "!\"#$%&'()*+,-./:;<=>?@[\\]^_`{|}~\n"
     ]
    }
   ],
   "source": [
    "print(string.punctuation)"
   ]
  },
  {
   "cell_type": "code",
   "execution_count": 81,
   "metadata": {},
   "outputs": [],
   "source": [
    "#function to remove punctuation from county names\n",
    "def punct(x):\n",
    "    exclude = set(string.punctuation)\n",
    "    x = ''.join(ch for ch in x if ch not in exclude)\n",
    "    return x"
   ]
  },
  {
   "cell_type": "code",
   "execution_count": 82,
   "metadata": {},
   "outputs": [],
   "source": [
    "lat_df.county = lat_df.county.apply(lambda x: punct(x))"
   ]
  },
  {
   "cell_type": "code",
   "execution_count": 83,
   "metadata": {},
   "outputs": [
    {
     "data": {
      "text/html": [
       "<div>\n",
       "<style scoped>\n",
       "    .dataframe tbody tr th:only-of-type {\n",
       "        vertical-align: middle;\n",
       "    }\n",
       "\n",
       "    .dataframe tbody tr th {\n",
       "        vertical-align: top;\n",
       "    }\n",
       "\n",
       "    .dataframe thead th {\n",
       "        text-align: right;\n",
       "    }\n",
       "</style>\n",
       "<table border=\"1\" class=\"dataframe\">\n",
       "  <thead>\n",
       "    <tr style=\"text-align: right;\">\n",
       "      <th></th>\n",
       "      <th>st</th>\n",
       "      <th>county</th>\n",
       "      <th>FIPS</th>\n",
       "      <th>LON</th>\n",
       "      <th>LAT</th>\n",
       "    </tr>\n",
       "  </thead>\n",
       "  <tbody>\n",
       "    <tr>\n",
       "      <th>0</th>\n",
       "      <td>ME</td>\n",
       "      <td>washington</td>\n",
       "      <td>23029</td>\n",
       "      <td>-67.6361</td>\n",
       "      <td>45.0363</td>\n",
       "    </tr>\n",
       "    <tr>\n",
       "      <th>1</th>\n",
       "      <td>GA</td>\n",
       "      <td>mcintosh</td>\n",
       "      <td>13191</td>\n",
       "      <td>-81.2646</td>\n",
       "      <td>31.533</td>\n",
       "    </tr>\n",
       "    <tr>\n",
       "      <th>2</th>\n",
       "      <td>GA</td>\n",
       "      <td>liberty</td>\n",
       "      <td>13179</td>\n",
       "      <td>-81.2102</td>\n",
       "      <td>31.7093</td>\n",
       "    </tr>\n",
       "    <tr>\n",
       "      <th>3</th>\n",
       "      <td>AS</td>\n",
       "      <td>swains island</td>\n",
       "      <td>60040</td>\n",
       "      <td>-171.046</td>\n",
       "      <td>-11.0843</td>\n",
       "    </tr>\n",
       "    <tr>\n",
       "      <th>4</th>\n",
       "      <td>AS</td>\n",
       "      <td>manua</td>\n",
       "      <td>60020</td>\n",
       "      <td>-169.506</td>\n",
       "      <td>-14.2219</td>\n",
       "    </tr>\n",
       "  </tbody>\n",
       "</table>\n",
       "</div>"
      ],
      "text/plain": [
       "   st                    county   FIPS       LON      LAT\n",
       "0  ME  washington                23029  -67.6361  45.0363\n",
       "1  GA  mcintosh                  13191  -81.2646   31.533\n",
       "2  GA  liberty                   13179  -81.2102  31.7093\n",
       "3  AS  swains island             60040  -171.046 -11.0843\n",
       "4  AS   manua                    60020  -169.506 -14.2219"
      ]
     },
     "execution_count": 83,
     "metadata": {},
     "output_type": "execute_result"
    }
   ],
   "source": [
    "lat_df.head()"
   ]
  },
  {
   "cell_type": "code",
   "execution_count": 84,
   "metadata": {},
   "outputs": [
    {
     "data": {
      "text/plain": [
       "(3332, 5)"
      ]
     },
     "execution_count": 84,
     "metadata": {},
     "output_type": "execute_result"
    }
   ],
   "source": [
    "lat_df.shape"
   ]
  },
  {
   "cell_type": "code",
   "execution_count": 85,
   "metadata": {},
   "outputs": [],
   "source": [
    "#merge the HUD & FIPS codes with the location data\n",
    "codes_df = pd.merge(lat_df, coc_df, how='outer', on= ('FIPS'))"
   ]
  },
  {
   "cell_type": "code",
   "execution_count": 86,
   "metadata": {},
   "outputs": [
    {
     "data": {
      "text/html": [
       "<div>\n",
       "<style scoped>\n",
       "    .dataframe tbody tr th:only-of-type {\n",
       "        vertical-align: middle;\n",
       "    }\n",
       "\n",
       "    .dataframe tbody tr th {\n",
       "        vertical-align: top;\n",
       "    }\n",
       "\n",
       "    .dataframe thead th {\n",
       "        text-align: right;\n",
       "    }\n",
       "</style>\n",
       "<table border=\"1\" class=\"dataframe\">\n",
       "  <thead>\n",
       "    <tr style=\"text-align: right;\">\n",
       "      <th></th>\n",
       "      <th>st</th>\n",
       "      <th>county_x</th>\n",
       "      <th>FIPS</th>\n",
       "      <th>LON</th>\n",
       "      <th>LAT</th>\n",
       "      <th>county_y</th>\n",
       "      <th>state</th>\n",
       "      <th>number</th>\n",
       "    </tr>\n",
       "  </thead>\n",
       "  <tbody>\n",
       "    <tr>\n",
       "      <th>0</th>\n",
       "      <td>ME</td>\n",
       "      <td>washington</td>\n",
       "      <td>23029</td>\n",
       "      <td>-67.6361</td>\n",
       "      <td>45.0363</td>\n",
       "      <td>NaN</td>\n",
       "      <td>NaN</td>\n",
       "      <td>NaN</td>\n",
       "    </tr>\n",
       "    <tr>\n",
       "      <th>1</th>\n",
       "      <td>GA</td>\n",
       "      <td>mcintosh</td>\n",
       "      <td>13191</td>\n",
       "      <td>-81.2646</td>\n",
       "      <td>31.533</td>\n",
       "      <td>mcintosh</td>\n",
       "      <td>GA</td>\n",
       "      <td>GA-501</td>\n",
       "    </tr>\n",
       "    <tr>\n",
       "      <th>2</th>\n",
       "      <td>GA</td>\n",
       "      <td>mcintosh</td>\n",
       "      <td>13191</td>\n",
       "      <td>-81.4149</td>\n",
       "      <td>31.5007</td>\n",
       "      <td>mcintosh</td>\n",
       "      <td>GA</td>\n",
       "      <td>GA-501</td>\n",
       "    </tr>\n",
       "    <tr>\n",
       "      <th>3</th>\n",
       "      <td>GA</td>\n",
       "      <td>liberty</td>\n",
       "      <td>13179</td>\n",
       "      <td>-81.2102</td>\n",
       "      <td>31.7093</td>\n",
       "      <td>liberty</td>\n",
       "      <td>GA</td>\n",
       "      <td>GA-501</td>\n",
       "    </tr>\n",
       "    <tr>\n",
       "      <th>4</th>\n",
       "      <td>GA</td>\n",
       "      <td>liberty</td>\n",
       "      <td>13179</td>\n",
       "      <td>-81.4998</td>\n",
       "      <td>31.8308</td>\n",
       "      <td>liberty</td>\n",
       "      <td>GA</td>\n",
       "      <td>GA-501</td>\n",
       "    </tr>\n",
       "  </tbody>\n",
       "</table>\n",
       "</div>"
      ],
      "text/plain": [
       "   st                  county_x   FIPS       LON      LAT  county_y state  \\\n",
       "0  ME  washington                23029  -67.6361  45.0363       NaN   NaN   \n",
       "1  GA  mcintosh                  13191  -81.2646   31.533  mcintosh    GA   \n",
       "2  GA  mcintosh                  13191  -81.4149  31.5007  mcintosh    GA   \n",
       "3  GA  liberty                   13179  -81.2102  31.7093   liberty    GA   \n",
       "4  GA  liberty                   13179  -81.4998  31.8308   liberty    GA   \n",
       "\n",
       "   number  \n",
       "0     NaN  \n",
       "1  GA-501  \n",
       "2  GA-501  \n",
       "3  GA-501  \n",
       "4  GA-501  "
      ]
     },
     "execution_count": 86,
     "metadata": {},
     "output_type": "execute_result"
    }
   ],
   "source": [
    "codes_df.head()"
   ]
  },
  {
   "cell_type": "code",
   "execution_count": 87,
   "metadata": {},
   "outputs": [
    {
     "data": {
      "text/plain": [
       "False    3237\n",
       "True      114\n",
       "Name: state, dtype: int64"
      ]
     },
     "execution_count": 87,
     "metadata": {},
     "output_type": "execute_result"
    }
   ],
   "source": [
    "codes_df.state.isna().value_counts()#the location data included US territories that can be dropped"
   ]
  },
  {
   "cell_type": "code",
   "execution_count": 88,
   "metadata": {},
   "outputs": [
    {
     "data": {
      "text/plain": [
       "False    3237\n",
       "True      114\n",
       "Name: number, dtype: int64"
      ]
     },
     "execution_count": 88,
     "metadata": {},
     "output_type": "execute_result"
    }
   ],
   "source": [
    "codes_df.number.isna().value_counts() #HUD codes from US territories and small/new counties may not be present"
   ]
  },
  {
   "cell_type": "code",
   "execution_count": 89,
   "metadata": {},
   "outputs": [],
   "source": [
    "codes_df.dropna(inplace=True) #dropping missing data"
   ]
  },
  {
   "cell_type": "code",
   "execution_count": 90,
   "metadata": {},
   "outputs": [],
   "source": [
    "codes_df.drop(['county_y','state'],axis=1, inplace=True)#dropping duplicate columns"
   ]
  },
  {
   "cell_type": "code",
   "execution_count": 91,
   "metadata": {},
   "outputs": [],
   "source": [
    "codes_df.rename({'county_x': 'county'}, axis=1, inplace=True)"
   ]
  },
  {
   "cell_type": "code",
   "execution_count": 92,
   "metadata": {},
   "outputs": [],
   "source": [
    "codes_df.county = codes_df.county.apply(lambda x: punct(x).strip())"
   ]
  },
  {
   "cell_type": "markdown",
   "metadata": {},
   "source": [
    "#### Full State Names and Abbreviations"
   ]
  },
  {
   "cell_type": "code",
   "execution_count": 93,
   "metadata": {},
   "outputs": [],
   "source": [
    "st_df = pd.read_csv('states.csv')"
   ]
  },
  {
   "cell_type": "code",
   "execution_count": 94,
   "metadata": {},
   "outputs": [],
   "source": [
    "#merge the state names with the location and HUD data\n",
    "codes_df = pd.merge(codes_df, st_df, how='outer', left_on=('st'), right_on=('Abbreviation'))"
   ]
  },
  {
   "cell_type": "code",
   "execution_count": 95,
   "metadata": {},
   "outputs": [],
   "source": [
    "codes_df.drop('Abbreviation', axis=1, inplace=True) #drop duplicate column"
   ]
  },
  {
   "cell_type": "code",
   "execution_count": 96,
   "metadata": {},
   "outputs": [],
   "source": [
    "codes_df.rename({'State':'state'}, axis=1, inplace=True)"
   ]
  },
  {
   "cell_type": "code",
   "execution_count": 97,
   "metadata": {},
   "outputs": [],
   "source": [
    "codes_df.state = codes_df.state.apply(lambda x: str(x).lower()) #strings to lowercase"
   ]
  },
  {
   "cell_type": "code",
   "execution_count": 98,
   "metadata": {},
   "outputs": [],
   "source": [
    "#codes_df.to_csv('codes.csv')"
   ]
  },
  {
   "cell_type": "markdown",
   "metadata": {},
   "source": [
    "### FEAUTURE DATA TO MERGE:\n",
    "- Princeton Eviction Data\n",
    "- SSI Totals\n",
    "- Unemployment Rates\n",
    "- HUD Homeless Counts"
   ]
  },
  {
   "cell_type": "markdown",
   "metadata": {},
   "source": [
    "## Princeton Eviction Lab Data"
   ]
  },
  {
   "cell_type": "markdown",
   "metadata": {},
   "source": [
    "Downloaded from: https://data-downloads.evictionlab.org/"
   ]
  },
  {
   "cell_type": "code",
   "execution_count": 99,
   "metadata": {},
   "outputs": [],
   "source": [
    "ev_df = pd.read_csv('UScounties.csv')"
   ]
  },
  {
   "cell_type": "code",
   "execution_count": 100,
   "metadata": {
    "scrolled": true
   },
   "outputs": [
    {
     "data": {
      "text/html": [
       "<div>\n",
       "<style scoped>\n",
       "    .dataframe tbody tr th:only-of-type {\n",
       "        vertical-align: middle;\n",
       "    }\n",
       "\n",
       "    .dataframe tbody tr th {\n",
       "        vertical-align: top;\n",
       "    }\n",
       "\n",
       "    .dataframe thead th {\n",
       "        text-align: right;\n",
       "    }\n",
       "</style>\n",
       "<table border=\"1\" class=\"dataframe\">\n",
       "  <thead>\n",
       "    <tr style=\"text-align: right;\">\n",
       "      <th></th>\n",
       "      <th>GEOID</th>\n",
       "      <th>year</th>\n",
       "      <th>name</th>\n",
       "      <th>parent-location</th>\n",
       "      <th>population</th>\n",
       "      <th>poverty-rate</th>\n",
       "      <th>renter-occupied-households</th>\n",
       "      <th>pct-renter-occupied</th>\n",
       "      <th>median-gross-rent</th>\n",
       "      <th>median-household-income</th>\n",
       "      <th>...</th>\n",
       "      <th>pct-nh-pi</th>\n",
       "      <th>pct-multiple</th>\n",
       "      <th>pct-other</th>\n",
       "      <th>eviction-filings</th>\n",
       "      <th>evictions</th>\n",
       "      <th>eviction-rate</th>\n",
       "      <th>eviction-filing-rate</th>\n",
       "      <th>low-flag</th>\n",
       "      <th>imputed</th>\n",
       "      <th>subbed</th>\n",
       "    </tr>\n",
       "  </thead>\n",
       "  <tbody>\n",
       "    <tr>\n",
       "      <th>0</th>\n",
       "      <td>1001</td>\n",
       "      <td>2000</td>\n",
       "      <td>Autauga County</td>\n",
       "      <td>Alabama</td>\n",
       "      <td>43671.0</td>\n",
       "      <td>10.92</td>\n",
       "      <td>3074.0</td>\n",
       "      <td>19.21</td>\n",
       "      <td>537.0</td>\n",
       "      <td>42013.0</td>\n",
       "      <td>...</td>\n",
       "      <td>0.03</td>\n",
       "      <td>0.86</td>\n",
       "      <td>0.1</td>\n",
       "      <td>61.0</td>\n",
       "      <td>40.0</td>\n",
       "      <td>1.30</td>\n",
       "      <td>1.98</td>\n",
       "      <td>1</td>\n",
       "      <td>0</td>\n",
       "      <td>0</td>\n",
       "    </tr>\n",
       "    <tr>\n",
       "      <th>1</th>\n",
       "      <td>1001</td>\n",
       "      <td>2001</td>\n",
       "      <td>Autauga County</td>\n",
       "      <td>Alabama</td>\n",
       "      <td>43671.0</td>\n",
       "      <td>10.92</td>\n",
       "      <td>3264.0</td>\n",
       "      <td>19.21</td>\n",
       "      <td>537.0</td>\n",
       "      <td>42013.0</td>\n",
       "      <td>...</td>\n",
       "      <td>0.03</td>\n",
       "      <td>0.86</td>\n",
       "      <td>0.1</td>\n",
       "      <td>89.0</td>\n",
       "      <td>37.0</td>\n",
       "      <td>1.13</td>\n",
       "      <td>2.73</td>\n",
       "      <td>0</td>\n",
       "      <td>0</td>\n",
       "      <td>0</td>\n",
       "    </tr>\n",
       "  </tbody>\n",
       "</table>\n",
       "<p>2 rows × 27 columns</p>\n",
       "</div>"
      ],
      "text/plain": [
       "   GEOID  year            name parent-location  population  poverty-rate  \\\n",
       "0   1001  2000  Autauga County         Alabama     43671.0         10.92   \n",
       "1   1001  2001  Autauga County         Alabama     43671.0         10.92   \n",
       "\n",
       "   renter-occupied-households  pct-renter-occupied  median-gross-rent  \\\n",
       "0                      3074.0                19.21              537.0   \n",
       "1                      3264.0                19.21              537.0   \n",
       "\n",
       "   median-household-income  ...  pct-nh-pi  pct-multiple  pct-other  \\\n",
       "0                  42013.0  ...       0.03          0.86        0.1   \n",
       "1                  42013.0  ...       0.03          0.86        0.1   \n",
       "\n",
       "   eviction-filings  evictions  eviction-rate  eviction-filing-rate  low-flag  \\\n",
       "0              61.0       40.0           1.30                  1.98         1   \n",
       "1              89.0       37.0           1.13                  2.73         0   \n",
       "\n",
       "   imputed  subbed  \n",
       "0        0       0  \n",
       "1        0       0  \n",
       "\n",
       "[2 rows x 27 columns]"
      ]
     },
     "execution_count": 100,
     "metadata": {},
     "output_type": "execute_result"
    }
   ],
   "source": [
    "ev_df.head(2)"
   ]
  },
  {
   "cell_type": "code",
   "execution_count": 101,
   "metadata": {},
   "outputs": [
    {
     "data": {
      "text/plain": [
       "(53436, 27)"
      ]
     },
     "execution_count": 101,
     "metadata": {},
     "output_type": "execute_result"
    }
   ],
   "source": [
    "ev_df.shape"
   ]
  },
  {
   "cell_type": "code",
   "execution_count": 102,
   "metadata": {},
   "outputs": [],
   "source": [
    "ev_df.rename({'name':'county','parent-location': 'state'}, axis=1, inplace=True)#rename columns for merge"
   ]
  },
  {
   "cell_type": "code",
   "execution_count": 103,
   "metadata": {},
   "outputs": [],
   "source": [
    "ev_df.county = ev_df.county.apply(lambda x: str(x).lower().strip())#strings to lowercase\n",
    "ev_df.county = ev_df.county.apply(lambda x: punct(x))"
   ]
  },
  {
   "cell_type": "code",
   "execution_count": 104,
   "metadata": {
    "scrolled": true
   },
   "outputs": [],
   "source": [
    "ev_df.state = ev_df.state.apply(lambda x: str(x).lower())"
   ]
  },
  {
   "cell_type": "code",
   "execution_count": 105,
   "metadata": {},
   "outputs": [],
   "source": [
    "#function remove the last word 'county' from the county names for future merges\n",
    "def remove_county(value):\n",
    "    value = value.split(\" \")[:-1]\n",
    "    return ' '.join(value)"
   ]
  },
  {
   "cell_type": "code",
   "execution_count": 106,
   "metadata": {},
   "outputs": [],
   "source": [
    "#loop the function through the array\n",
    "ev_df.county = ev_df.county.apply(lambda x: remove_county(x))"
   ]
  },
  {
   "cell_type": "code",
   "execution_count": 107,
   "metadata": {},
   "outputs": [],
   "source": [
    "ev_df.drop({'low-flag','imputed','subbed'}, axis=1, inplace=True) #drop unnecessary columns"
   ]
  },
  {
   "cell_type": "code",
   "execution_count": 108,
   "metadata": {},
   "outputs": [],
   "source": [
    "#merge HUD codes with the eviction data"
   ]
  },
  {
   "cell_type": "code",
   "execution_count": 109,
   "metadata": {},
   "outputs": [],
   "source": [
    "evicts = pd.merge(ev_df, codes_df, how='outer', left_on = ('GEOID'), right_on=('FIPS'))"
   ]
  },
  {
   "cell_type": "code",
   "execution_count": 110,
   "metadata": {},
   "outputs": [
    {
     "data": {
      "text/plain": [
       "(55170, 31)"
      ]
     },
     "execution_count": 110,
     "metadata": {},
     "output_type": "execute_result"
    }
   ],
   "source": [
    "evicts.shape"
   ]
  },
  {
   "cell_type": "code",
   "execution_count": 111,
   "metadata": {
    "scrolled": true
   },
   "outputs": [
    {
     "data": {
      "text/html": [
       "<div>\n",
       "<style scoped>\n",
       "    .dataframe tbody tr th:only-of-type {\n",
       "        vertical-align: middle;\n",
       "    }\n",
       "\n",
       "    .dataframe tbody tr th {\n",
       "        vertical-align: top;\n",
       "    }\n",
       "\n",
       "    .dataframe thead th {\n",
       "        text-align: right;\n",
       "    }\n",
       "</style>\n",
       "<table border=\"1\" class=\"dataframe\">\n",
       "  <thead>\n",
       "    <tr style=\"text-align: right;\">\n",
       "      <th></th>\n",
       "      <th>GEOID</th>\n",
       "      <th>year</th>\n",
       "      <th>county_x</th>\n",
       "      <th>state_x</th>\n",
       "      <th>population</th>\n",
       "      <th>poverty-rate</th>\n",
       "      <th>renter-occupied-households</th>\n",
       "      <th>pct-renter-occupied</th>\n",
       "      <th>median-gross-rent</th>\n",
       "      <th>median-household-income</th>\n",
       "      <th>...</th>\n",
       "      <th>evictions</th>\n",
       "      <th>eviction-rate</th>\n",
       "      <th>eviction-filing-rate</th>\n",
       "      <th>st</th>\n",
       "      <th>county_y</th>\n",
       "      <th>FIPS</th>\n",
       "      <th>LON</th>\n",
       "      <th>LAT</th>\n",
       "      <th>number</th>\n",
       "      <th>state_y</th>\n",
       "    </tr>\n",
       "  </thead>\n",
       "  <tbody>\n",
       "    <tr>\n",
       "      <th>0</th>\n",
       "      <td>1001</td>\n",
       "      <td>2000</td>\n",
       "      <td>autauga</td>\n",
       "      <td>alabama</td>\n",
       "      <td>43671.0</td>\n",
       "      <td>10.92</td>\n",
       "      <td>3074.0</td>\n",
       "      <td>19.21</td>\n",
       "      <td>537.0</td>\n",
       "      <td>42013.0</td>\n",
       "      <td>...</td>\n",
       "      <td>40.0</td>\n",
       "      <td>1.30</td>\n",
       "      <td>1.98</td>\n",
       "      <td>AL</td>\n",
       "      <td>autauga</td>\n",
       "      <td>1001</td>\n",
       "      <td>-86.6428</td>\n",
       "      <td>32.5349</td>\n",
       "      <td>AL-507</td>\n",
       "      <td>alabama</td>\n",
       "    </tr>\n",
       "    <tr>\n",
       "      <th>1</th>\n",
       "      <td>1001</td>\n",
       "      <td>2001</td>\n",
       "      <td>autauga</td>\n",
       "      <td>alabama</td>\n",
       "      <td>43671.0</td>\n",
       "      <td>10.92</td>\n",
       "      <td>3264.0</td>\n",
       "      <td>19.21</td>\n",
       "      <td>537.0</td>\n",
       "      <td>42013.0</td>\n",
       "      <td>...</td>\n",
       "      <td>37.0</td>\n",
       "      <td>1.13</td>\n",
       "      <td>2.73</td>\n",
       "      <td>AL</td>\n",
       "      <td>autauga</td>\n",
       "      <td>1001</td>\n",
       "      <td>-86.6428</td>\n",
       "      <td>32.5349</td>\n",
       "      <td>AL-507</td>\n",
       "      <td>alabama</td>\n",
       "    </tr>\n",
       "    <tr>\n",
       "      <th>2</th>\n",
       "      <td>1001</td>\n",
       "      <td>2002</td>\n",
       "      <td>autauga</td>\n",
       "      <td>alabama</td>\n",
       "      <td>43671.0</td>\n",
       "      <td>10.92</td>\n",
       "      <td>3454.0</td>\n",
       "      <td>19.21</td>\n",
       "      <td>537.0</td>\n",
       "      <td>42013.0</td>\n",
       "      <td>...</td>\n",
       "      <td>20.0</td>\n",
       "      <td>0.58</td>\n",
       "      <td>2.98</td>\n",
       "      <td>AL</td>\n",
       "      <td>autauga</td>\n",
       "      <td>1001</td>\n",
       "      <td>-86.6428</td>\n",
       "      <td>32.5349</td>\n",
       "      <td>AL-507</td>\n",
       "      <td>alabama</td>\n",
       "    </tr>\n",
       "    <tr>\n",
       "      <th>3</th>\n",
       "      <td>1001</td>\n",
       "      <td>2003</td>\n",
       "      <td>autauga</td>\n",
       "      <td>alabama</td>\n",
       "      <td>43671.0</td>\n",
       "      <td>10.92</td>\n",
       "      <td>3644.0</td>\n",
       "      <td>19.21</td>\n",
       "      <td>537.0</td>\n",
       "      <td>42013.0</td>\n",
       "      <td>...</td>\n",
       "      <td>12.0</td>\n",
       "      <td>0.33</td>\n",
       "      <td>2.94</td>\n",
       "      <td>AL</td>\n",
       "      <td>autauga</td>\n",
       "      <td>1001</td>\n",
       "      <td>-86.6428</td>\n",
       "      <td>32.5349</td>\n",
       "      <td>AL-507</td>\n",
       "      <td>alabama</td>\n",
       "    </tr>\n",
       "    <tr>\n",
       "      <th>4</th>\n",
       "      <td>1001</td>\n",
       "      <td>2004</td>\n",
       "      <td>autauga</td>\n",
       "      <td>alabama</td>\n",
       "      <td>43671.0</td>\n",
       "      <td>10.92</td>\n",
       "      <td>3834.0</td>\n",
       "      <td>19.21</td>\n",
       "      <td>537.0</td>\n",
       "      <td>42013.0</td>\n",
       "      <td>...</td>\n",
       "      <td>18.0</td>\n",
       "      <td>0.47</td>\n",
       "      <td>2.56</td>\n",
       "      <td>AL</td>\n",
       "      <td>autauga</td>\n",
       "      <td>1001</td>\n",
       "      <td>-86.6428</td>\n",
       "      <td>32.5349</td>\n",
       "      <td>AL-507</td>\n",
       "      <td>alabama</td>\n",
       "    </tr>\n",
       "  </tbody>\n",
       "</table>\n",
       "<p>5 rows × 31 columns</p>\n",
       "</div>"
      ],
      "text/plain": [
       "  GEOID  year county_x  state_x  population  poverty-rate  \\\n",
       "0  1001  2000  autauga  alabama     43671.0         10.92   \n",
       "1  1001  2001  autauga  alabama     43671.0         10.92   \n",
       "2  1001  2002  autauga  alabama     43671.0         10.92   \n",
       "3  1001  2003  autauga  alabama     43671.0         10.92   \n",
       "4  1001  2004  autauga  alabama     43671.0         10.92   \n",
       "\n",
       "   renter-occupied-households  pct-renter-occupied  median-gross-rent  \\\n",
       "0                      3074.0                19.21              537.0   \n",
       "1                      3264.0                19.21              537.0   \n",
       "2                      3454.0                19.21              537.0   \n",
       "3                      3644.0                19.21              537.0   \n",
       "4                      3834.0                19.21              537.0   \n",
       "\n",
       "   median-household-income  ...  evictions  eviction-rate  \\\n",
       "0                  42013.0  ...       40.0           1.30   \n",
       "1                  42013.0  ...       37.0           1.13   \n",
       "2                  42013.0  ...       20.0           0.58   \n",
       "3                  42013.0  ...       12.0           0.33   \n",
       "4                  42013.0  ...       18.0           0.47   \n",
       "\n",
       "   eviction-filing-rate  st  county_y  FIPS      LON      LAT  number  state_y  \n",
       "0                  1.98  AL   autauga  1001 -86.6428  32.5349  AL-507  alabama  \n",
       "1                  2.73  AL   autauga  1001 -86.6428  32.5349  AL-507  alabama  \n",
       "2                  2.98  AL   autauga  1001 -86.6428  32.5349  AL-507  alabama  \n",
       "3                  2.94  AL   autauga  1001 -86.6428  32.5349  AL-507  alabama  \n",
       "4                  2.56  AL   autauga  1001 -86.6428  32.5349  AL-507  alabama  \n",
       "\n",
       "[5 rows x 31 columns]"
      ]
     },
     "execution_count": 111,
     "metadata": {},
     "output_type": "execute_result"
    }
   ],
   "source": [
    "evicts.head()"
   ]
  },
  {
   "cell_type": "code",
   "execution_count": 112,
   "metadata": {},
   "outputs": [],
   "source": [
    "evicts.drop(columns=['county_y', 'state_y'], axis=1, inplace=True)"
   ]
  },
  {
   "cell_type": "code",
   "execution_count": 113,
   "metadata": {},
   "outputs": [],
   "source": [
    "evicts.rename({'county_x':'county', 'state_x':'state'}, axis=1, inplace=True)"
   ]
  },
  {
   "cell_type": "code",
   "execution_count": 114,
   "metadata": {
    "scrolled": true
   },
   "outputs": [
    {
     "data": {
      "text/plain": [
       "False    54791\n",
       "True       379\n",
       "Name: number, dtype: int64"
      ]
     },
     "execution_count": 114,
     "metadata": {},
     "output_type": "execute_result"
    }
   ],
   "source": [
    "evicts.number.isna().value_counts()"
   ]
  },
  {
   "cell_type": "code",
   "execution_count": 115,
   "metadata": {},
   "outputs": [],
   "source": [
    "evicts.number.dropna(inplace=True)"
   ]
  },
  {
   "cell_type": "code",
   "execution_count": 116,
   "metadata": {},
   "outputs": [],
   "source": [
    "evicts = evicts[evicts.year >= 2007]"
   ]
  },
  {
   "cell_type": "markdown",
   "metadata": {},
   "source": [
    "## Social Security Data"
   ]
  },
  {
   "cell_type": "code",
   "execution_count": 117,
   "metadata": {},
   "outputs": [],
   "source": [
    "ssi_df = pd.read_csv('ssi_df.csv')"
   ]
  },
  {
   "cell_type": "code",
   "execution_count": 118,
   "metadata": {},
   "outputs": [
    {
     "data": {
      "text/html": [
       "<div>\n",
       "<style scoped>\n",
       "    .dataframe tbody tr th:only-of-type {\n",
       "        vertical-align: middle;\n",
       "    }\n",
       "\n",
       "    .dataframe tbody tr th {\n",
       "        vertical-align: top;\n",
       "    }\n",
       "\n",
       "    .dataframe thead th {\n",
       "        text-align: right;\n",
       "    }\n",
       "</style>\n",
       "<table border=\"1\" class=\"dataframe\">\n",
       "  <thead>\n",
       "    <tr style=\"text-align: right;\">\n",
       "      <th></th>\n",
       "      <th>Unnamed: 0</th>\n",
       "      <th>county</th>\n",
       "      <th>total_ssi</th>\n",
       "      <th>aged_ssi</th>\n",
       "      <th>disbl_ssi</th>\n",
       "      <th>18_und_ssi</th>\n",
       "      <th>18_64_ssi</th>\n",
       "      <th>65_ovr_ssi</th>\n",
       "      <th>state</th>\n",
       "      <th>year</th>\n",
       "    </tr>\n",
       "  </thead>\n",
       "  <tbody>\n",
       "    <tr>\n",
       "      <th>0</th>\n",
       "      <td>0</td>\n",
       "      <td>autauga</td>\n",
       "      <td>1467</td>\n",
       "      <td>68</td>\n",
       "      <td>1399</td>\n",
       "      <td>236</td>\n",
       "      <td>1027</td>\n",
       "      <td>204</td>\n",
       "      <td>alabama</td>\n",
       "      <td>2016</td>\n",
       "    </tr>\n",
       "    <tr>\n",
       "      <th>1</th>\n",
       "      <td>1</td>\n",
       "      <td>baldwin</td>\n",
       "      <td>3521</td>\n",
       "      <td>193</td>\n",
       "      <td>3328</td>\n",
       "      <td>607</td>\n",
       "      <td>2384</td>\n",
       "      <td>530</td>\n",
       "      <td>alabama</td>\n",
       "      <td>2016</td>\n",
       "    </tr>\n",
       "    <tr>\n",
       "      <th>2</th>\n",
       "      <td>2</td>\n",
       "      <td>barbour</td>\n",
       "      <td>1469</td>\n",
       "      <td>104</td>\n",
       "      <td>1365</td>\n",
       "      <td>233</td>\n",
       "      <td>910</td>\n",
       "      <td>326</td>\n",
       "      <td>alabama</td>\n",
       "      <td>2016</td>\n",
       "    </tr>\n",
       "    <tr>\n",
       "      <th>3</th>\n",
       "      <td>3</td>\n",
       "      <td>bibb</td>\n",
       "      <td>966</td>\n",
       "      <td>29</td>\n",
       "      <td>937</td>\n",
       "      <td>95</td>\n",
       "      <td>714</td>\n",
       "      <td>157</td>\n",
       "      <td>alabama</td>\n",
       "      <td>2016</td>\n",
       "    </tr>\n",
       "    <tr>\n",
       "      <th>4</th>\n",
       "      <td>4</td>\n",
       "      <td>blount</td>\n",
       "      <td>1282</td>\n",
       "      <td>62</td>\n",
       "      <td>1220</td>\n",
       "      <td>121</td>\n",
       "      <td>945</td>\n",
       "      <td>216</td>\n",
       "      <td>alabama</td>\n",
       "      <td>2016</td>\n",
       "    </tr>\n",
       "  </tbody>\n",
       "</table>\n",
       "</div>"
      ],
      "text/plain": [
       "   Unnamed: 0   county total_ssi aged_ssi disbl_ssi 18_und_ssi 18_64_ssi  \\\n",
       "0           0  autauga      1467       68      1399        236      1027   \n",
       "1           1  baldwin      3521      193      3328        607      2384   \n",
       "2           2  barbour      1469      104      1365        233       910   \n",
       "3           3     bibb       966       29       937         95       714   \n",
       "4           4   blount      1282       62      1220        121       945   \n",
       "\n",
       "  65_ovr_ssi     state  year  \n",
       "0        204   alabama  2016  \n",
       "1        530   alabama  2016  \n",
       "2        326   alabama  2016  \n",
       "3        157   alabama  2016  \n",
       "4        216   alabama  2016  "
      ]
     },
     "execution_count": 118,
     "metadata": {},
     "output_type": "execute_result"
    }
   ],
   "source": [
    "ssi_df.head()"
   ]
  },
  {
   "cell_type": "code",
   "execution_count": 119,
   "metadata": {},
   "outputs": [],
   "source": [
    "ssi_df.drop(['Unnamed: 0'], axis=1, inplace=True)"
   ]
  },
  {
   "cell_type": "code",
   "execution_count": 120,
   "metadata": {
    "scrolled": true
   },
   "outputs": [
    {
     "name": "stdout",
     "output_type": "stream",
     "text": [
      "<class 'pandas.core.frame.DataFrame'>\n",
      "RangeIndex: 31417 entries, 0 to 31416\n",
      "Data columns (total 9 columns):\n",
      "county        31291 non-null object\n",
      "total_ssi     31312 non-null object\n",
      "aged_ssi      31291 non-null object\n",
      "disbl_ssi     31291 non-null object\n",
      "18_und_ssi    31291 non-null object\n",
      "18_64_ssi     31291 non-null object\n",
      "65_ovr_ssi    31291 non-null object\n",
      "state         31417 non-null object\n",
      "year          31417 non-null int64\n",
      "dtypes: int64(1), object(8)\n",
      "memory usage: 2.2+ MB\n"
     ]
    }
   ],
   "source": [
    "ssi_df.info()"
   ]
  },
  {
   "cell_type": "code",
   "execution_count": 121,
   "metadata": {},
   "outputs": [],
   "source": [
    "ssi_df.county = ssi_df.county.apply(lambda x: punct(str(x)).strip())"
   ]
  },
  {
   "cell_type": "code",
   "execution_count": 122,
   "metadata": {},
   "outputs": [],
   "source": [
    "ssi_df.state = ssi_df.state.apply(lambda x: str(x).strip())"
   ]
  },
  {
   "cell_type": "code",
   "execution_count": 123,
   "metadata": {},
   "outputs": [
    {
     "data": {
      "text/plain": [
       "False    31291\n",
       "True       126\n",
       "Name: 18_64_ssi, dtype: int64"
      ]
     },
     "execution_count": 123,
     "metadata": {},
     "output_type": "execute_result"
    }
   ],
   "source": [
    "ssi_df['18_64_ssi'].isna().value_counts()"
   ]
  },
  {
   "cell_type": "code",
   "execution_count": 124,
   "metadata": {},
   "outputs": [
    {
     "data": {
      "text/plain": [
       "False    31291\n",
       "True       126\n",
       "Name: 18_und_ssi, dtype: int64"
      ]
     },
     "execution_count": 124,
     "metadata": {},
     "output_type": "execute_result"
    }
   ],
   "source": [
    "ssi_df['18_und_ssi'].isna().value_counts()"
   ]
  },
  {
   "cell_type": "code",
   "execution_count": 125,
   "metadata": {},
   "outputs": [],
   "source": [
    "#ssi_df[ssi_df['18_und_ssi'].isna() == True]\n",
    "ssi_df = ssi_df.dropna()"
   ]
  },
  {
   "cell_type": "code",
   "execution_count": 126,
   "metadata": {},
   "outputs": [],
   "source": [
    "ssi_df.replace('b',0, inplace=True)\n",
    "ssi_df.replace('a',0, inplace=True)\n",
    "ssi_df.replace('(X)',0, inplace=True)"
   ]
  },
  {
   "cell_type": "code",
   "execution_count": 127,
   "metadata": {},
   "outputs": [],
   "source": [
    "ssi_df['18_64_ssi'] = ssi_df['18_64_ssi'].astype(int)\n",
    "ssi_df['18_und_ssi'] = ssi_df['18_und_ssi'].astype(int)\n",
    "ssi_df['65_ovr_ssi'] = ssi_df['65_ovr_ssi'].astype(int)\n",
    "ssi_df['aged_ssi'] = ssi_df['aged_ssi'].astype(int)\n",
    "ssi_df['disbl_ssi'] = ssi_df['disbl_ssi'].astype(int)\n",
    "ssi_df['total_ssi'] = ssi_df['total_ssi'].astype(int)"
   ]
  },
  {
   "cell_type": "code",
   "execution_count": 128,
   "metadata": {},
   "outputs": [
    {
     "name": "stderr",
     "output_type": "stream",
     "text": [
      "/anaconda3/lib/python3.7/site-packages/pandas/core/generic.py:5096: SettingWithCopyWarning: \n",
      "A value is trying to be set on a copy of a slice from a DataFrame.\n",
      "Try using .loc[row_indexer,col_indexer] = value instead\n",
      "\n",
      "See the caveats in the documentation: http://pandas.pydata.org/pandas-docs/stable/indexing.html#indexing-view-versus-copy\n",
      "  self[name] = value\n"
     ]
    }
   ],
   "source": [
    "#merge FIPS codes with data\n",
    "co_df = codes_df[['state','county','FIPS']]\n",
    "co_df.state = co_df.state.astype(str)\n",
    "co_df.county = co_df.county.astype(str)\n",
    "co_df.FIPS = co_df.FIPS.astype(int)"
   ]
  },
  {
   "cell_type": "code",
   "execution_count": 129,
   "metadata": {},
   "outputs": [],
   "source": [
    "si_df = pd.merge(co_df, ssi_df, how='inner', on=('state','county'))"
   ]
  },
  {
   "cell_type": "code",
   "execution_count": 130,
   "metadata": {},
   "outputs": [
    {
     "data": {
      "text/plain": [
       "(31504, 10)"
      ]
     },
     "execution_count": 130,
     "metadata": {},
     "output_type": "execute_result"
    }
   ],
   "source": [
    "si_df.shape"
   ]
  },
  {
   "cell_type": "code",
   "execution_count": 131,
   "metadata": {},
   "outputs": [],
   "source": [
    "#merge eviction data with social security data using FIPS codes and years"
   ]
  },
  {
   "cell_type": "code",
   "execution_count": 132,
   "metadata": {},
   "outputs": [],
   "source": [
    "hl_df = pd.merge(evicts, si_df, how ='inner', on=('FIPS','year'))"
   ]
  },
  {
   "cell_type": "code",
   "execution_count": 133,
   "metadata": {},
   "outputs": [
    {
     "data": {
      "text/plain": [
       "(33864, 37)"
      ]
     },
     "execution_count": 133,
     "metadata": {},
     "output_type": "execute_result"
    }
   ],
   "source": [
    "hl_df.shape"
   ]
  },
  {
   "cell_type": "code",
   "execution_count": 134,
   "metadata": {},
   "outputs": [
    {
     "data": {
      "text/plain": [
       "Index(['GEOID', 'year', 'county_x', 'state_x', 'population', 'poverty-rate',\n",
       "       'renter-occupied-households', 'pct-renter-occupied',\n",
       "       'median-gross-rent', 'median-household-income', 'median-property-value',\n",
       "       'rent-burden', 'pct-white', 'pct-af-am', 'pct-hispanic', 'pct-am-ind',\n",
       "       'pct-asian', 'pct-nh-pi', 'pct-multiple', 'pct-other',\n",
       "       'eviction-filings', 'evictions', 'eviction-rate',\n",
       "       'eviction-filing-rate', 'st', 'FIPS', 'LON', 'LAT', 'number', 'state_y',\n",
       "       'county_y', 'total_ssi', 'aged_ssi', 'disbl_ssi', '18_und_ssi',\n",
       "       '18_64_ssi', '65_ovr_ssi'],\n",
       "      dtype='object')"
      ]
     },
     "execution_count": 134,
     "metadata": {},
     "output_type": "execute_result"
    }
   ],
   "source": [
    "hl_df.columns"
   ]
  },
  {
   "cell_type": "code",
   "execution_count": 135,
   "metadata": {},
   "outputs": [],
   "source": [
    "hl_df.drop(['state_x','county_x'],axis=1,inplace=True)"
   ]
  },
  {
   "cell_type": "code",
   "execution_count": 136,
   "metadata": {},
   "outputs": [],
   "source": [
    "hl_df.rename({'county_y':'county', 'state_y':'state'}, axis=1, inplace=True)"
   ]
  },
  {
   "cell_type": "markdown",
   "metadata": {},
   "source": [
    "## Unemployment Rates"
   ]
  },
  {
   "cell_type": "code",
   "execution_count": 137,
   "metadata": {},
   "outputs": [],
   "source": [
    "un_df = pd.read_csv('unemployment_data.csv')"
   ]
  },
  {
   "cell_type": "code",
   "execution_count": 138,
   "metadata": {},
   "outputs": [
    {
     "data": {
      "text/html": [
       "<div>\n",
       "<style scoped>\n",
       "    .dataframe tbody tr th:only-of-type {\n",
       "        vertical-align: middle;\n",
       "    }\n",
       "\n",
       "    .dataframe tbody tr th {\n",
       "        vertical-align: top;\n",
       "    }\n",
       "\n",
       "    .dataframe thead th {\n",
       "        text-align: right;\n",
       "    }\n",
       "</style>\n",
       "<table border=\"1\" class=\"dataframe\">\n",
       "  <thead>\n",
       "    <tr style=\"text-align: right;\">\n",
       "      <th></th>\n",
       "      <th>Unnamed: 0</th>\n",
       "      <th>state</th>\n",
       "      <th>county</th>\n",
       "      <th>year</th>\n",
       "      <th>unemploy_rate</th>\n",
       "    </tr>\n",
       "  </thead>\n",
       "  <tbody>\n",
       "    <tr>\n",
       "      <th>0</th>\n",
       "      <td>0</td>\n",
       "      <td>alabama</td>\n",
       "      <td>autauga</td>\n",
       "      <td>2016</td>\n",
       "      <td>5.21</td>\n",
       "    </tr>\n",
       "    <tr>\n",
       "      <th>1</th>\n",
       "      <td>1</td>\n",
       "      <td>alabama</td>\n",
       "      <td>baldwin</td>\n",
       "      <td>2016</td>\n",
       "      <td>5.35</td>\n",
       "    </tr>\n",
       "    <tr>\n",
       "      <th>2</th>\n",
       "      <td>2</td>\n",
       "      <td>alabama</td>\n",
       "      <td>barbour</td>\n",
       "      <td>2016</td>\n",
       "      <td>8.53</td>\n",
       "    </tr>\n",
       "    <tr>\n",
       "      <th>3</th>\n",
       "      <td>3</td>\n",
       "      <td>alabama</td>\n",
       "      <td>bibb</td>\n",
       "      <td>2016</td>\n",
       "      <td>6.51</td>\n",
       "    </tr>\n",
       "    <tr>\n",
       "      <th>4</th>\n",
       "      <td>4</td>\n",
       "      <td>alabama</td>\n",
       "      <td>blount</td>\n",
       "      <td>2016</td>\n",
       "      <td>5.43</td>\n",
       "    </tr>\n",
       "  </tbody>\n",
       "</table>\n",
       "</div>"
      ],
      "text/plain": [
       "   Unnamed: 0    state   county  year  unemploy_rate\n",
       "0           0  alabama  autauga  2016           5.21\n",
       "1           1  alabama  baldwin  2016           5.35\n",
       "2           2  alabama  barbour  2016           8.53\n",
       "3           3  alabama     bibb  2016           6.51\n",
       "4           4  alabama   blount  2016           5.43"
      ]
     },
     "execution_count": 138,
     "metadata": {},
     "output_type": "execute_result"
    }
   ],
   "source": [
    "un_df.head()"
   ]
  },
  {
   "cell_type": "code",
   "execution_count": 139,
   "metadata": {},
   "outputs": [],
   "source": [
    "un_df.drop('Unnamed: 0',axis=1, inplace=True)"
   ]
  },
  {
   "cell_type": "code",
   "execution_count": 140,
   "metadata": {},
   "outputs": [],
   "source": [
    "un_df.county = un_df.county.apply(lambda x: punct(x))"
   ]
  },
  {
   "cell_type": "code",
   "execution_count": 141,
   "metadata": {},
   "outputs": [],
   "source": [
    "hl_df = pd.merge(hl_df, un_df, how='inner', on=('county','state','year'))"
   ]
  },
  {
   "cell_type": "code",
   "execution_count": 142,
   "metadata": {},
   "outputs": [],
   "source": [
    "#hl_df.to_csv('for_graph.csv') #this data set can be used to create visualizations later"
   ]
  },
  {
   "cell_type": "markdown",
   "metadata": {},
   "source": [
    "### In order to map homeless counts to the data set, the COC areas must be converged."
   ]
  },
  {
   "cell_type": "code",
   "execution_count": 143,
   "metadata": {
    "scrolled": true
   },
   "outputs": [
    {
     "data": {
      "text/plain": [
       "Index(['GEOID', 'year', 'population', 'poverty-rate',\n",
       "       'renter-occupied-households', 'pct-renter-occupied',\n",
       "       'median-gross-rent', 'median-household-income', 'median-property-value',\n",
       "       'rent-burden', 'pct-white', 'pct-af-am', 'pct-hispanic', 'pct-am-ind',\n",
       "       'pct-asian', 'pct-nh-pi', 'pct-multiple', 'pct-other',\n",
       "       'eviction-filings', 'evictions', 'eviction-rate',\n",
       "       'eviction-filing-rate', 'st', 'FIPS', 'LON', 'LAT', 'number', 'state',\n",
       "       'county', 'total_ssi', 'aged_ssi', 'disbl_ssi', '18_und_ssi',\n",
       "       '18_64_ssi', '65_ovr_ssi', 'unemploy_rate'],\n",
       "      dtype='object')"
      ]
     },
     "execution_count": 143,
     "metadata": {},
     "output_type": "execute_result"
    }
   ],
   "source": [
    "hl_df.columns"
   ]
  },
  {
   "cell_type": "code",
   "execution_count": 85,
   "metadata": {},
   "outputs": [],
   "source": [
    "total = hl_df[['state','number','year','population', 'renter-occupied-households','eviction-filings','evictions',\n",
    "'total_ssi', 'aged_ssi', 'disbl_ssi', '18_und_ssi', '18_64_ssi','65_ovr_ssi']]"
   ]
  },
  {
   "cell_type": "code",
   "execution_count": 86,
   "metadata": {},
   "outputs": [],
   "source": [
    "totals = total.groupby(['state','number','year']).sum() #arrays containing whole number totals will be added together"
   ]
  },
  {
   "cell_type": "code",
   "execution_count": 87,
   "metadata": {},
   "outputs": [],
   "source": [
    "totals.reset_index(inplace=True)"
   ]
  },
  {
   "cell_type": "code",
   "execution_count": 88,
   "metadata": {},
   "outputs": [],
   "source": [
    "mean = hl_df[['state','number','year','poverty-rate','median-gross-rent','median-household-income','median-property-value','rent-burden','eviction-rate','eviction-filing-rate','unemploy_rate','pct-renter-occupied',\n",
    "              'pct-white', 'pct-af-am', 'pct-hispanic', 'pct-am-ind',\n",
    "       'pct-asian', 'pct-nh-pi', 'pct-multiple', 'pct-other']]"
   ]
  },
  {
   "cell_type": "code",
   "execution_count": 89,
   "metadata": {},
   "outputs": [],
   "source": [
    "means = mean.groupby(['state','number','year']).mean() #arrays containing percentages and measures of central tendency will be averaged"
   ]
  },
  {
   "cell_type": "code",
   "execution_count": 90,
   "metadata": {},
   "outputs": [],
   "source": [
    "means.reset_index(inplace=True)"
   ]
  },
  {
   "cell_type": "code",
   "execution_count": 91,
   "metadata": {},
   "outputs": [],
   "source": [
    "df = pd.merge(totals, means, how='inner', on=('number','year'))"
   ]
  },
  {
   "cell_type": "code",
   "execution_count": 92,
   "metadata": {},
   "outputs": [
    {
     "data": {
      "text/plain": [
       "(3315, 31)"
      ]
     },
     "execution_count": 92,
     "metadata": {},
     "output_type": "execute_result"
    }
   ],
   "source": [
    "df.shape"
   ]
  },
  {
   "cell_type": "code",
   "execution_count": 93,
   "metadata": {},
   "outputs": [],
   "source": [
    "df.drop('state_y', axis=1, inplace=True)"
   ]
  },
  {
   "cell_type": "code",
   "execution_count": 94,
   "metadata": {},
   "outputs": [],
   "source": [
    "df.rename({'state_x': 'state'}, axis=1, inplace=True)"
   ]
  },
  {
   "cell_type": "code",
   "execution_count": 95,
   "metadata": {},
   "outputs": [
    {
     "data": {
      "text/html": [
       "<div>\n",
       "<style scoped>\n",
       "    .dataframe tbody tr th:only-of-type {\n",
       "        vertical-align: middle;\n",
       "    }\n",
       "\n",
       "    .dataframe tbody tr th {\n",
       "        vertical-align: top;\n",
       "    }\n",
       "\n",
       "    .dataframe thead th {\n",
       "        text-align: right;\n",
       "    }\n",
       "</style>\n",
       "<table border=\"1\" class=\"dataframe\">\n",
       "  <thead>\n",
       "    <tr style=\"text-align: right;\">\n",
       "      <th></th>\n",
       "      <th>state</th>\n",
       "      <th>number</th>\n",
       "      <th>year</th>\n",
       "      <th>population</th>\n",
       "      <th>renter-occupied-households</th>\n",
       "      <th>eviction-filings</th>\n",
       "      <th>evictions</th>\n",
       "      <th>total_ssi</th>\n",
       "      <th>aged_ssi</th>\n",
       "      <th>disbl_ssi</th>\n",
       "      <th>...</th>\n",
       "      <th>unemploy_rate</th>\n",
       "      <th>pct-renter-occupied</th>\n",
       "      <th>pct-white</th>\n",
       "      <th>pct-af-am</th>\n",
       "      <th>pct-hispanic</th>\n",
       "      <th>pct-am-ind</th>\n",
       "      <th>pct-asian</th>\n",
       "      <th>pct-nh-pi</th>\n",
       "      <th>pct-multiple</th>\n",
       "      <th>pct-other</th>\n",
       "    </tr>\n",
       "  </thead>\n",
       "  <tbody>\n",
       "    <tr>\n",
       "      <th>0</th>\n",
       "      <td>alabama</td>\n",
       "      <td>AL-500</td>\n",
       "      <td>2007</td>\n",
       "      <td>845208.0</td>\n",
       "      <td>104742.0</td>\n",
       "      <td>3203.0</td>\n",
       "      <td>656.0</td>\n",
       "      <td>25480</td>\n",
       "      <td>1839</td>\n",
       "      <td>23641</td>\n",
       "      <td>...</td>\n",
       "      <td>3.230</td>\n",
       "      <td>26.345</td>\n",
       "      <td>68.865</td>\n",
       "      <td>25.145</td>\n",
       "      <td>3.43</td>\n",
       "      <td>0.195</td>\n",
       "      <td>1.435</td>\n",
       "      <td>0.030</td>\n",
       "      <td>0.770</td>\n",
       "      <td>0.120</td>\n",
       "    </tr>\n",
       "    <tr>\n",
       "      <th>1</th>\n",
       "      <td>alabama</td>\n",
       "      <td>AL-500</td>\n",
       "      <td>2008</td>\n",
       "      <td>845208.0</td>\n",
       "      <td>105612.0</td>\n",
       "      <td>2172.0</td>\n",
       "      <td>976.0</td>\n",
       "      <td>25762</td>\n",
       "      <td>1722</td>\n",
       "      <td>24040</td>\n",
       "      <td>...</td>\n",
       "      <td>4.555</td>\n",
       "      <td>26.345</td>\n",
       "      <td>68.865</td>\n",
       "      <td>25.145</td>\n",
       "      <td>3.43</td>\n",
       "      <td>0.195</td>\n",
       "      <td>1.435</td>\n",
       "      <td>0.030</td>\n",
       "      <td>0.770</td>\n",
       "      <td>0.120</td>\n",
       "    </tr>\n",
       "    <tr>\n",
       "      <th>2</th>\n",
       "      <td>alabama</td>\n",
       "      <td>AL-500</td>\n",
       "      <td>2009</td>\n",
       "      <td>845208.0</td>\n",
       "      <td>106482.0</td>\n",
       "      <td>1785.0</td>\n",
       "      <td>945.0</td>\n",
       "      <td>26244</td>\n",
       "      <td>1615</td>\n",
       "      <td>24629</td>\n",
       "      <td>...</td>\n",
       "      <td>9.270</td>\n",
       "      <td>26.345</td>\n",
       "      <td>68.865</td>\n",
       "      <td>25.145</td>\n",
       "      <td>3.43</td>\n",
       "      <td>0.195</td>\n",
       "      <td>1.435</td>\n",
       "      <td>0.030</td>\n",
       "      <td>0.770</td>\n",
       "      <td>0.120</td>\n",
       "    </tr>\n",
       "    <tr>\n",
       "      <th>3</th>\n",
       "      <td>alabama</td>\n",
       "      <td>AL-500</td>\n",
       "      <td>2010</td>\n",
       "      <td>853551.0</td>\n",
       "      <td>107353.0</td>\n",
       "      <td>2486.0</td>\n",
       "      <td>1605.0</td>\n",
       "      <td>27098</td>\n",
       "      <td>1525</td>\n",
       "      <td>25573</td>\n",
       "      <td>...</td>\n",
       "      <td>8.720</td>\n",
       "      <td>27.615</td>\n",
       "      <td>65.915</td>\n",
       "      <td>26.200</td>\n",
       "      <td>4.90</td>\n",
       "      <td>0.225</td>\n",
       "      <td>1.640</td>\n",
       "      <td>0.025</td>\n",
       "      <td>0.990</td>\n",
       "      <td>0.105</td>\n",
       "    </tr>\n",
       "    <tr>\n",
       "      <th>4</th>\n",
       "      <td>alabama</td>\n",
       "      <td>AL-500</td>\n",
       "      <td>2011</td>\n",
       "      <td>862556.0</td>\n",
       "      <td>108846.0</td>\n",
       "      <td>3708.0</td>\n",
       "      <td>2257.0</td>\n",
       "      <td>27532</td>\n",
       "      <td>1459</td>\n",
       "      <td>26073</td>\n",
       "      <td>...</td>\n",
       "      <td>7.765</td>\n",
       "      <td>28.960</td>\n",
       "      <td>64.905</td>\n",
       "      <td>26.950</td>\n",
       "      <td>4.82</td>\n",
       "      <td>0.230</td>\n",
       "      <td>1.800</td>\n",
       "      <td>0.025</td>\n",
       "      <td>1.105</td>\n",
       "      <td>0.165</td>\n",
       "    </tr>\n",
       "  </tbody>\n",
       "</table>\n",
       "<p>5 rows × 30 columns</p>\n",
       "</div>"
      ],
      "text/plain": [
       "     state  number  year  population  renter-occupied-households  \\\n",
       "0  alabama  AL-500  2007    845208.0                    104742.0   \n",
       "1  alabama  AL-500  2008    845208.0                    105612.0   \n",
       "2  alabama  AL-500  2009    845208.0                    106482.0   \n",
       "3  alabama  AL-500  2010    853551.0                    107353.0   \n",
       "4  alabama  AL-500  2011    862556.0                    108846.0   \n",
       "\n",
       "   eviction-filings  evictions  total_ssi  aged_ssi  disbl_ssi  ...  \\\n",
       "0            3203.0      656.0      25480      1839      23641  ...   \n",
       "1            2172.0      976.0      25762      1722      24040  ...   \n",
       "2            1785.0      945.0      26244      1615      24629  ...   \n",
       "3            2486.0     1605.0      27098      1525      25573  ...   \n",
       "4            3708.0     2257.0      27532      1459      26073  ...   \n",
       "\n",
       "   unemploy_rate  pct-renter-occupied  pct-white  pct-af-am  pct-hispanic  \\\n",
       "0          3.230               26.345     68.865     25.145          3.43   \n",
       "1          4.555               26.345     68.865     25.145          3.43   \n",
       "2          9.270               26.345     68.865     25.145          3.43   \n",
       "3          8.720               27.615     65.915     26.200          4.90   \n",
       "4          7.765               28.960     64.905     26.950          4.82   \n",
       "\n",
       "   pct-am-ind  pct-asian  pct-nh-pi  pct-multiple  pct-other  \n",
       "0       0.195      1.435      0.030         0.770      0.120  \n",
       "1       0.195      1.435      0.030         0.770      0.120  \n",
       "2       0.195      1.435      0.030         0.770      0.120  \n",
       "3       0.225      1.640      0.025         0.990      0.105  \n",
       "4       0.230      1.800      0.025         1.105      0.165  \n",
       "\n",
       "[5 rows x 30 columns]"
      ]
     },
     "execution_count": 95,
     "metadata": {},
     "output_type": "execute_result"
    }
   ],
   "source": [
    "df.head()"
   ]
  },
  {
   "cell_type": "markdown",
   "metadata": {},
   "source": [
    "## HUD Homeless Counts"
   ]
  },
  {
   "cell_type": "code",
   "execution_count": 96,
   "metadata": {},
   "outputs": [],
   "source": [
    "hud_df = pd.read_csv('homeless_counts.csv') "
   ]
  },
  {
   "cell_type": "code",
   "execution_count": 97,
   "metadata": {},
   "outputs": [],
   "source": [
    "hud_df.drop('Unnamed: 0', axis=1, inplace=True)"
   ]
  },
  {
   "cell_type": "code",
   "execution_count": 98,
   "metadata": {},
   "outputs": [
    {
     "data": {
      "text/html": [
       "<div>\n",
       "<style scoped>\n",
       "    .dataframe tbody tr th:only-of-type {\n",
       "        vertical-align: middle;\n",
       "    }\n",
       "\n",
       "    .dataframe tbody tr th {\n",
       "        vertical-align: top;\n",
       "    }\n",
       "\n",
       "    .dataframe thead th {\n",
       "        text-align: right;\n",
       "    }\n",
       "</style>\n",
       "<table border=\"1\" class=\"dataframe\">\n",
       "  <thead>\n",
       "    <tr style=\"text-align: right;\">\n",
       "      <th></th>\n",
       "      <th>num</th>\n",
       "      <th>homeless_count</th>\n",
       "      <th>yr</th>\n",
       "    </tr>\n",
       "  </thead>\n",
       "  <tbody>\n",
       "    <tr>\n",
       "      <th>0</th>\n",
       "      <td>AK-500</td>\n",
       "      <td>1105</td>\n",
       "      <td>2016</td>\n",
       "    </tr>\n",
       "    <tr>\n",
       "      <th>1</th>\n",
       "      <td>AK-501</td>\n",
       "      <td>835</td>\n",
       "      <td>2016</td>\n",
       "    </tr>\n",
       "    <tr>\n",
       "      <th>2</th>\n",
       "      <td>AL-500</td>\n",
       "      <td>1228</td>\n",
       "      <td>2016</td>\n",
       "    </tr>\n",
       "    <tr>\n",
       "      <th>3</th>\n",
       "      <td>AL-501</td>\n",
       "      <td>623</td>\n",
       "      <td>2016</td>\n",
       "    </tr>\n",
       "    <tr>\n",
       "      <th>4</th>\n",
       "      <td>AL-502</td>\n",
       "      <td>337</td>\n",
       "      <td>2016</td>\n",
       "    </tr>\n",
       "  </tbody>\n",
       "</table>\n",
       "</div>"
      ],
      "text/plain": [
       "      num homeless_count    yr\n",
       "0  AK-500           1105  2016\n",
       "1  AK-501            835  2016\n",
       "2  AL-500           1228  2016\n",
       "3  AL-501            623  2016\n",
       "4  AL-502            337  2016"
      ]
     },
     "execution_count": 98,
     "metadata": {},
     "output_type": "execute_result"
    }
   ],
   "source": [
    "hud_df.head()"
   ]
  },
  {
   "cell_type": "code",
   "execution_count": 99,
   "metadata": {},
   "outputs": [],
   "source": [
    "df2 = pd.merge(df, hud_df, how='inner', left_on=('number','year'), right_on=('num','yr'))"
   ]
  },
  {
   "cell_type": "code",
   "execution_count": 100,
   "metadata": {},
   "outputs": [
    {
     "data": {
      "text/plain": [
       "(3157, 33)"
      ]
     },
     "execution_count": 100,
     "metadata": {},
     "output_type": "execute_result"
    }
   ],
   "source": [
    "df2.shape"
   ]
  },
  {
   "cell_type": "code",
   "execution_count": 101,
   "metadata": {},
   "outputs": [],
   "source": [
    "#df2.to_csv('clean_data_set.csv')"
   ]
  },
  {
   "cell_type": "code",
   "execution_count": null,
   "metadata": {},
   "outputs": [],
   "source": []
  }
 ],
 "metadata": {
  "kernelspec": {
   "display_name": "Python 3",
   "language": "python",
   "name": "python3"
  },
  "language_info": {
   "codemirror_mode": {
    "name": "ipython",
    "version": 3
   },
   "file_extension": ".py",
   "mimetype": "text/x-python",
   "name": "python",
   "nbconvert_exporter": "python",
   "pygments_lexer": "ipython3",
   "version": "3.7.3"
  }
 },
 "nbformat": 4,
 "nbformat_minor": 2
}
