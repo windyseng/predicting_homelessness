{
 "cells": [
  {
   "cell_type": "markdown",
   "metadata": {},
   "source": [
    "# PREDICTING HOMELESSNESS IN AMERICA\n"
   ]
  },
  {
   "cell_type": "code",
   "execution_count": 5,
   "metadata": {},
   "outputs": [],
   "source": [
    "import pandas as pd\n",
    "import numpy as np\n",
    "from matplotlib import pyplot as plt\n",
    "%matplotlib inline\n",
    "import seaborn as sns\n",
    "sns.set(style=\"whitegrid\")\n",
    "from sklearn.model_selection import train_test_split\n",
    "from sklearn import linear_model\n",
    "from sklearn.linear_model import LinearRegression\n",
    "from sklearn.metrics import mean_squared_error, r2_score\n",
    "import statsmodels.api as sm\n",
    "from statsmodels.formula.api import ols\n",
    "import scipy.stats as stats"
   ]
  },
  {
   "cell_type": "markdown",
   "metadata": {},
   "source": [
    "## Exploratory Data Analysis"
   ]
  },
  {
   "cell_type": "code",
   "execution_count": 6,
   "metadata": {},
   "outputs": [],
   "source": [
    "df = pd.read_csv('clean_data_set.csv')"
   ]
  },
  {
   "cell_type": "code",
   "execution_count": 7,
   "metadata": {},
   "outputs": [
    {
     "name": "stdout",
     "output_type": "stream",
     "text": [
      "<class 'pandas.core.frame.DataFrame'>\n",
      "RangeIndex: 3157 entries, 0 to 3156\n",
      "Data columns (total 34 columns):\n",
      "Unnamed: 0                    3157 non-null int64\n",
      "state                         3157 non-null object\n",
      "number                        3157 non-null object\n",
      "year                          3157 non-null int64\n",
      "population                    3157 non-null float64\n",
      "renter-occupied-households    3157 non-null float64\n",
      "eviction-filings              3157 non-null float64\n",
      "evictions                     3157 non-null float64\n",
      "total_ssi                     3157 non-null int64\n",
      "aged_ssi                      3157 non-null int64\n",
      "disbl_ssi                     3157 non-null int64\n",
      "18_und_ssi                    3157 non-null int64\n",
      "18_64_ssi                     3157 non-null int64\n",
      "65_ovr_ssi                    3157 non-null int64\n",
      "poverty-rate                  3157 non-null float64\n",
      "median-gross-rent             3157 non-null float64\n",
      "median-household-income       3157 non-null float64\n",
      "median-property-value         3157 non-null float64\n",
      "rent-burden                   3157 non-null float64\n",
      "eviction-rate                 2652 non-null float64\n",
      "eviction-filing-rate          2709 non-null float64\n",
      "unemploy_rate                 3157 non-null float64\n",
      "pct-renter-occupied           3157 non-null float64\n",
      "pct-white                     3157 non-null float64\n",
      "pct-af-am                     3157 non-null float64\n",
      "pct-hispanic                  3157 non-null float64\n",
      "pct-am-ind                    3157 non-null float64\n",
      "pct-asian                     3157 non-null float64\n",
      "pct-nh-pi                     3157 non-null float64\n",
      "pct-multiple                  3157 non-null float64\n",
      "pct-other                     3157 non-null float64\n",
      "num                           3157 non-null object\n",
      "homeless_count                3157 non-null float64\n",
      "yr                            3157 non-null int64\n",
      "dtypes: float64(22), int64(9), object(3)\n",
      "memory usage: 838.7+ KB\n"
     ]
    }
   ],
   "source": [
    "df.info()"
   ]
  },
  {
   "cell_type": "code",
   "execution_count": 8,
   "metadata": {
    "scrolled": false
   },
   "outputs": [
    {
     "data": {
      "text/html": [
       "<div>\n",
       "<style scoped>\n",
       "    .dataframe tbody tr th:only-of-type {\n",
       "        vertical-align: middle;\n",
       "    }\n",
       "\n",
       "    .dataframe tbody tr th {\n",
       "        vertical-align: top;\n",
       "    }\n",
       "\n",
       "    .dataframe thead th {\n",
       "        text-align: right;\n",
       "    }\n",
       "</style>\n",
       "<table border=\"1\" class=\"dataframe\">\n",
       "  <thead>\n",
       "    <tr style=\"text-align: right;\">\n",
       "      <th></th>\n",
       "      <th>Unnamed: 0</th>\n",
       "      <th>state</th>\n",
       "      <th>number</th>\n",
       "      <th>year</th>\n",
       "      <th>population</th>\n",
       "      <th>renter-occupied-households</th>\n",
       "      <th>eviction-filings</th>\n",
       "      <th>evictions</th>\n",
       "      <th>total_ssi</th>\n",
       "      <th>aged_ssi</th>\n",
       "      <th>...</th>\n",
       "      <th>pct-af-am</th>\n",
       "      <th>pct-hispanic</th>\n",
       "      <th>pct-am-ind</th>\n",
       "      <th>pct-asian</th>\n",
       "      <th>pct-nh-pi</th>\n",
       "      <th>pct-multiple</th>\n",
       "      <th>pct-other</th>\n",
       "      <th>num</th>\n",
       "      <th>homeless_count</th>\n",
       "      <th>yr</th>\n",
       "    </tr>\n",
       "  </thead>\n",
       "  <tbody>\n",
       "    <tr>\n",
       "      <th>0</th>\n",
       "      <td>0</td>\n",
       "      <td>alabama</td>\n",
       "      <td>AL-500</td>\n",
       "      <td>2007</td>\n",
       "      <td>845208.0</td>\n",
       "      <td>104742.0</td>\n",
       "      <td>3203.0</td>\n",
       "      <td>656.0</td>\n",
       "      <td>25480</td>\n",
       "      <td>1839</td>\n",
       "      <td>...</td>\n",
       "      <td>25.145</td>\n",
       "      <td>3.43</td>\n",
       "      <td>0.195</td>\n",
       "      <td>1.435</td>\n",
       "      <td>0.030</td>\n",
       "      <td>0.770</td>\n",
       "      <td>0.120</td>\n",
       "      <td>AL-500</td>\n",
       "      <td>2104.0</td>\n",
       "      <td>2007</td>\n",
       "    </tr>\n",
       "    <tr>\n",
       "      <th>1</th>\n",
       "      <td>1</td>\n",
       "      <td>alabama</td>\n",
       "      <td>AL-500</td>\n",
       "      <td>2008</td>\n",
       "      <td>845208.0</td>\n",
       "      <td>105612.0</td>\n",
       "      <td>2172.0</td>\n",
       "      <td>976.0</td>\n",
       "      <td>25762</td>\n",
       "      <td>1722</td>\n",
       "      <td>...</td>\n",
       "      <td>25.145</td>\n",
       "      <td>3.43</td>\n",
       "      <td>0.195</td>\n",
       "      <td>1.435</td>\n",
       "      <td>0.030</td>\n",
       "      <td>0.770</td>\n",
       "      <td>0.120</td>\n",
       "      <td>AL-500</td>\n",
       "      <td>2104.0</td>\n",
       "      <td>2008</td>\n",
       "    </tr>\n",
       "    <tr>\n",
       "      <th>2</th>\n",
       "      <td>2</td>\n",
       "      <td>alabama</td>\n",
       "      <td>AL-500</td>\n",
       "      <td>2009</td>\n",
       "      <td>845208.0</td>\n",
       "      <td>106482.0</td>\n",
       "      <td>1785.0</td>\n",
       "      <td>945.0</td>\n",
       "      <td>26244</td>\n",
       "      <td>1615</td>\n",
       "      <td>...</td>\n",
       "      <td>25.145</td>\n",
       "      <td>3.43</td>\n",
       "      <td>0.195</td>\n",
       "      <td>1.435</td>\n",
       "      <td>0.030</td>\n",
       "      <td>0.770</td>\n",
       "      <td>0.120</td>\n",
       "      <td>AL-500</td>\n",
       "      <td>2273.0</td>\n",
       "      <td>2009</td>\n",
       "    </tr>\n",
       "    <tr>\n",
       "      <th>3</th>\n",
       "      <td>3</td>\n",
       "      <td>alabama</td>\n",
       "      <td>AL-500</td>\n",
       "      <td>2010</td>\n",
       "      <td>853551.0</td>\n",
       "      <td>107353.0</td>\n",
       "      <td>2486.0</td>\n",
       "      <td>1605.0</td>\n",
       "      <td>27098</td>\n",
       "      <td>1525</td>\n",
       "      <td>...</td>\n",
       "      <td>26.200</td>\n",
       "      <td>4.90</td>\n",
       "      <td>0.225</td>\n",
       "      <td>1.640</td>\n",
       "      <td>0.025</td>\n",
       "      <td>0.990</td>\n",
       "      <td>0.105</td>\n",
       "      <td>AL-500</td>\n",
       "      <td>2273.0</td>\n",
       "      <td>2010</td>\n",
       "    </tr>\n",
       "    <tr>\n",
       "      <th>4</th>\n",
       "      <td>4</td>\n",
       "      <td>alabama</td>\n",
       "      <td>AL-500</td>\n",
       "      <td>2011</td>\n",
       "      <td>862556.0</td>\n",
       "      <td>108846.0</td>\n",
       "      <td>3708.0</td>\n",
       "      <td>2257.0</td>\n",
       "      <td>27532</td>\n",
       "      <td>1459</td>\n",
       "      <td>...</td>\n",
       "      <td>26.950</td>\n",
       "      <td>4.82</td>\n",
       "      <td>0.230</td>\n",
       "      <td>1.800</td>\n",
       "      <td>0.025</td>\n",
       "      <td>1.105</td>\n",
       "      <td>0.165</td>\n",
       "      <td>AL-500</td>\n",
       "      <td>1950.0</td>\n",
       "      <td>2011</td>\n",
       "    </tr>\n",
       "  </tbody>\n",
       "</table>\n",
       "<p>5 rows × 34 columns</p>\n",
       "</div>"
      ],
      "text/plain": [
       "   Unnamed: 0    state  number  year  population  renter-occupied-households  \\\n",
       "0           0  alabama  AL-500  2007    845208.0                    104742.0   \n",
       "1           1  alabama  AL-500  2008    845208.0                    105612.0   \n",
       "2           2  alabama  AL-500  2009    845208.0                    106482.0   \n",
       "3           3  alabama  AL-500  2010    853551.0                    107353.0   \n",
       "4           4  alabama  AL-500  2011    862556.0                    108846.0   \n",
       "\n",
       "   eviction-filings  evictions  total_ssi  aged_ssi  ...  pct-af-am  \\\n",
       "0            3203.0      656.0      25480      1839  ...     25.145   \n",
       "1            2172.0      976.0      25762      1722  ...     25.145   \n",
       "2            1785.0      945.0      26244      1615  ...     25.145   \n",
       "3            2486.0     1605.0      27098      1525  ...     26.200   \n",
       "4            3708.0     2257.0      27532      1459  ...     26.950   \n",
       "\n",
       "   pct-hispanic  pct-am-ind  pct-asian  pct-nh-pi  pct-multiple  pct-other  \\\n",
       "0          3.43       0.195      1.435      0.030         0.770      0.120   \n",
       "1          3.43       0.195      1.435      0.030         0.770      0.120   \n",
       "2          3.43       0.195      1.435      0.030         0.770      0.120   \n",
       "3          4.90       0.225      1.640      0.025         0.990      0.105   \n",
       "4          4.82       0.230      1.800      0.025         1.105      0.165   \n",
       "\n",
       "      num  homeless_count    yr  \n",
       "0  AL-500          2104.0  2007  \n",
       "1  AL-500          2104.0  2008  \n",
       "2  AL-500          2273.0  2009  \n",
       "3  AL-500          2273.0  2010  \n",
       "4  AL-500          1950.0  2011  \n",
       "\n",
       "[5 rows x 34 columns]"
      ]
     },
     "execution_count": 8,
     "metadata": {},
     "output_type": "execute_result"
    }
   ],
   "source": [
    "df.head()"
   ]
  },
  {
   "cell_type": "code",
   "execution_count": 9,
   "metadata": {},
   "outputs": [
    {
     "data": {
      "text/plain": [
       "Index(['Unnamed: 0', 'state', 'number', 'year', 'population',\n",
       "       'renter-occupied-households', 'eviction-filings', 'evictions',\n",
       "       'total_ssi', 'aged_ssi', 'disbl_ssi', '18_und_ssi', '18_64_ssi',\n",
       "       '65_ovr_ssi', 'poverty-rate', 'median-gross-rent',\n",
       "       'median-household-income', 'median-property-value', 'rent-burden',\n",
       "       'eviction-rate', 'eviction-filing-rate', 'unemploy_rate',\n",
       "       'pct-renter-occupied', 'pct-white', 'pct-af-am', 'pct-hispanic',\n",
       "       'pct-am-ind', 'pct-asian', 'pct-nh-pi', 'pct-multiple', 'pct-other',\n",
       "       'num', 'homeless_count', 'yr'],\n",
       "      dtype='object')"
      ]
     },
     "execution_count": 9,
     "metadata": {},
     "output_type": "execute_result"
    }
   ],
   "source": [
    "df.columns"
   ]
  },
  {
   "cell_type": "code",
   "execution_count": 10,
   "metadata": {},
   "outputs": [],
   "source": [
    "df.rename({'poverty-rate':'poverty_rate', 'renter-occupied-households':'renter_occupied_households',\n",
    "          'pct-renter-occupied':'pct_renter_occupied','median-gross-rent':'median_gross_rent', 'median-household-income':'median_household_income',\n",
    "           'median-property-value':'median_property_value','rent-burden':'avg_rent_burden',\n",
    "           'pct-white':'pct_white', 'pct-af-am':'pct_af_am', 'pct-hispanic':'pct_hispanic',\n",
    "           'pct-am-ind':'pct_am_ind','pct-asian':'pct_asian', 'pct-nh-pi':'pct_nh_pi', \n",
    "           'pct-multiple': 'pct_multiple', 'pct-other':'pct_other','eviction-filings':'eviction_filings','eviction-rate':'eviction_rate',\n",
    "           'eviction-filing-rate': 'eviction_filing_rate'}, axis=1, inplace=True)"
   ]
  },
  {
   "cell_type": "code",
   "execution_count": 11,
   "metadata": {},
   "outputs": [],
   "source": [
    "df.drop(['Unnamed: 0','num','yr'], axis=1, inplace=True)"
   ]
  },
  {
   "cell_type": "code",
   "execution_count": 12,
   "metadata": {},
   "outputs": [
    {
     "data": {
      "text/html": [
       "<div>\n",
       "<style scoped>\n",
       "    .dataframe tbody tr th:only-of-type {\n",
       "        vertical-align: middle;\n",
       "    }\n",
       "\n",
       "    .dataframe tbody tr th {\n",
       "        vertical-align: top;\n",
       "    }\n",
       "\n",
       "    .dataframe thead th {\n",
       "        text-align: right;\n",
       "    }\n",
       "</style>\n",
       "<table border=\"1\" class=\"dataframe\">\n",
       "  <thead>\n",
       "    <tr style=\"text-align: right;\">\n",
       "      <th></th>\n",
       "      <th>year</th>\n",
       "      <th>population</th>\n",
       "      <th>renter_occupied_households</th>\n",
       "      <th>eviction_filings</th>\n",
       "      <th>evictions</th>\n",
       "      <th>total_ssi</th>\n",
       "      <th>aged_ssi</th>\n",
       "      <th>disbl_ssi</th>\n",
       "      <th>18_und_ssi</th>\n",
       "      <th>18_64_ssi</th>\n",
       "      <th>65_ovr_ssi</th>\n",
       "      <th>poverty_rate</th>\n",
       "      <th>median_gross_rent</th>\n",
       "      <th>median_household_income</th>\n",
       "      <th>median_property_value</th>\n",
       "      <th>avg_rent_burden</th>\n",
       "      <th>eviction_rate</th>\n",
       "      <th>eviction_filing_rate</th>\n",
       "      <th>unemploy_rate</th>\n",
       "      <th>pct_renter_occupied</th>\n",
       "      <th>pct_white</th>\n",
       "      <th>pct_af_am</th>\n",
       "      <th>pct_hispanic</th>\n",
       "      <th>pct_am_ind</th>\n",
       "      <th>pct_asian</th>\n",
       "      <th>pct_nh_pi</th>\n",
       "      <th>pct_multiple</th>\n",
       "      <th>pct_other</th>\n",
       "      <th>homeless_count</th>\n",
       "    </tr>\n",
       "  </thead>\n",
       "  <tbody>\n",
       "    <tr>\n",
       "      <th>count</th>\n",
       "      <td>3157.000000</td>\n",
       "      <td>3.157000e+03</td>\n",
       "      <td>3.157000e+03</td>\n",
       "      <td>3157.000000</td>\n",
       "      <td>3157.000000</td>\n",
       "      <td>3.157000e+03</td>\n",
       "      <td>3157.000000</td>\n",
       "      <td>3157.000000</td>\n",
       "      <td>3157.000000</td>\n",
       "      <td>3157.000000</td>\n",
       "      <td>3157.000000</td>\n",
       "      <td>3157.000000</td>\n",
       "      <td>3157.000000</td>\n",
       "      <td>3157.000000</td>\n",
       "      <td>3157.000000</td>\n",
       "      <td>3157.000000</td>\n",
       "      <td>2652.000000</td>\n",
       "      <td>2709.000000</td>\n",
       "      <td>3157.000000</td>\n",
       "      <td>3157.000000</td>\n",
       "      <td>3157.000000</td>\n",
       "      <td>3157.000000</td>\n",
       "      <td>3157.000000</td>\n",
       "      <td>3157.000000</td>\n",
       "      <td>3157.000000</td>\n",
       "      <td>3157.000000</td>\n",
       "      <td>3157.000000</td>\n",
       "      <td>3157.000000</td>\n",
       "      <td>3157.000000</td>\n",
       "    </tr>\n",
       "    <tr>\n",
       "      <th>mean</th>\n",
       "      <td>2011.561609</td>\n",
       "      <td>1.133319e+06</td>\n",
       "      <td>1.604497e+05</td>\n",
       "      <td>8130.104846</td>\n",
       "      <td>2790.368071</td>\n",
       "      <td>2.874804e+04</td>\n",
       "      <td>4535.561926</td>\n",
       "      <td>24109.090909</td>\n",
       "      <td>4188.866012</td>\n",
       "      <td>16543.141590</td>\n",
       "      <td>7999.343364</td>\n",
       "      <td>10.207520</td>\n",
       "      <td>862.082436</td>\n",
       "      <td>55318.655623</td>\n",
       "      <td>213638.198333</td>\n",
       "      <td>30.229545</td>\n",
       "      <td>2.506533</td>\n",
       "      <td>5.842634</td>\n",
       "      <td>7.123237</td>\n",
       "      <td>32.099638</td>\n",
       "      <td>72.249196</td>\n",
       "      <td>9.481370</td>\n",
       "      <td>11.508706</td>\n",
       "      <td>0.837831</td>\n",
       "      <td>3.594905</td>\n",
       "      <td>0.100130</td>\n",
       "      <td>2.048753</td>\n",
       "      <td>0.178996</td>\n",
       "      <td>1548.975610</td>\n",
       "    </tr>\n",
       "    <tr>\n",
       "      <th>std</th>\n",
       "      <td>2.870199</td>\n",
       "      <td>2.685035e+06</td>\n",
       "      <td>4.732926e+05</td>\n",
       "      <td>31017.259646</td>\n",
       "      <td>6859.976926</td>\n",
       "      <td>8.161966e+04</td>\n",
       "      <td>18770.904877</td>\n",
       "      <td>63791.956530</td>\n",
       "      <td>10614.063139</td>\n",
       "      <td>41290.193028</td>\n",
       "      <td>31613.717836</td>\n",
       "      <td>3.971800</td>\n",
       "      <td>259.411250</td>\n",
       "      <td>15278.970082</td>\n",
       "      <td>133574.406944</td>\n",
       "      <td>2.740652</td>\n",
       "      <td>2.332347</td>\n",
       "      <td>7.893657</td>\n",
       "      <td>2.799745</td>\n",
       "      <td>8.521690</td>\n",
       "      <td>17.843141</td>\n",
       "      <td>10.590134</td>\n",
       "      <td>12.902517</td>\n",
       "      <td>1.907531</td>\n",
       "      <td>4.651623</td>\n",
       "      <td>0.189632</td>\n",
       "      <td>1.119248</td>\n",
       "      <td>0.206276</td>\n",
       "      <td>4246.236415</td>\n",
       "    </tr>\n",
       "    <tr>\n",
       "      <th>min</th>\n",
       "      <td>2007.000000</td>\n",
       "      <td>2.963100e+04</td>\n",
       "      <td>2.696000e+03</td>\n",
       "      <td>0.000000</td>\n",
       "      <td>0.000000</td>\n",
       "      <td>2.850000e+02</td>\n",
       "      <td>12.000000</td>\n",
       "      <td>270.000000</td>\n",
       "      <td>32.000000</td>\n",
       "      <td>217.000000</td>\n",
       "      <td>29.000000</td>\n",
       "      <td>1.430000</td>\n",
       "      <td>430.923077</td>\n",
       "      <td>30511.750000</td>\n",
       "      <td>61525.000000</td>\n",
       "      <td>21.164151</td>\n",
       "      <td>0.000000</td>\n",
       "      <td>0.000000</td>\n",
       "      <td>1.950000</td>\n",
       "      <td>12.560000</td>\n",
       "      <td>12.590000</td>\n",
       "      <td>0.210909</td>\n",
       "      <td>0.590000</td>\n",
       "      <td>0.020000</td>\n",
       "      <td>0.040000</td>\n",
       "      <td>0.000000</td>\n",
       "      <td>0.575000</td>\n",
       "      <td>0.000000</td>\n",
       "      <td>7.000000</td>\n",
       "    </tr>\n",
       "    <tr>\n",
       "      <th>25%</th>\n",
       "      <td>2009.000000</td>\n",
       "      <td>2.478300e+05</td>\n",
       "      <td>3.174600e+04</td>\n",
       "      <td>272.000000</td>\n",
       "      <td>80.000000</td>\n",
       "      <td>5.073000e+03</td>\n",
       "      <td>407.000000</td>\n",
       "      <td>4560.000000</td>\n",
       "      <td>754.000000</td>\n",
       "      <td>3259.000000</td>\n",
       "      <td>894.000000</td>\n",
       "      <td>7.437500</td>\n",
       "      <td>668.985294</td>\n",
       "      <td>44369.000000</td>\n",
       "      <td>119950.000000</td>\n",
       "      <td>28.600000</td>\n",
       "      <td>0.942500</td>\n",
       "      <td>1.590000</td>\n",
       "      <td>5.110000</td>\n",
       "      <td>26.040000</td>\n",
       "      <td>62.335000</td>\n",
       "      <td>2.161818</td>\n",
       "      <td>3.305000</td>\n",
       "      <td>0.156667</td>\n",
       "      <td>0.791000</td>\n",
       "      <td>0.018261</td>\n",
       "      <td>1.357170</td>\n",
       "      <td>0.070000</td>\n",
       "      <td>313.000000</td>\n",
       "    </tr>\n",
       "    <tr>\n",
       "      <th>50%</th>\n",
       "      <td>2012.000000</td>\n",
       "      <td>5.065290e+05</td>\n",
       "      <td>6.160300e+04</td>\n",
       "      <td>1842.000000</td>\n",
       "      <td>930.000000</td>\n",
       "      <td>1.027600e+04</td>\n",
       "      <td>935.000000</td>\n",
       "      <td>9063.000000</td>\n",
       "      <td>1600.000000</td>\n",
       "      <td>6452.000000</td>\n",
       "      <td>1933.000000</td>\n",
       "      <td>9.748462</td>\n",
       "      <td>794.000000</td>\n",
       "      <td>50747.000000</td>\n",
       "      <td>167400.000000</td>\n",
       "      <td>30.100000</td>\n",
       "      <td>1.830000</td>\n",
       "      <td>3.560000</td>\n",
       "      <td>6.665500</td>\n",
       "      <td>30.440000</td>\n",
       "      <td>76.030000</td>\n",
       "      <td>5.560000</td>\n",
       "      <td>6.340000</td>\n",
       "      <td>0.260000</td>\n",
       "      <td>2.010000</td>\n",
       "      <td>0.030000</td>\n",
       "      <td>1.760000</td>\n",
       "      <td>0.126667</td>\n",
       "      <td>676.000000</td>\n",
       "    </tr>\n",
       "    <tr>\n",
       "      <th>75%</th>\n",
       "      <td>2014.000000</td>\n",
       "      <td>1.010790e+06</td>\n",
       "      <td>1.338320e+05</td>\n",
       "      <td>6020.000000</td>\n",
       "      <td>2892.000000</td>\n",
       "      <td>2.481400e+04</td>\n",
       "      <td>2462.000000</td>\n",
       "      <td>21346.000000</td>\n",
       "      <td>3639.000000</td>\n",
       "      <td>15336.000000</td>\n",
       "      <td>5250.000000</td>\n",
       "      <td>13.000000</td>\n",
       "      <td>999.000000</td>\n",
       "      <td>62117.000000</td>\n",
       "      <td>263700.000000</td>\n",
       "      <td>31.900000</td>\n",
       "      <td>3.380000</td>\n",
       "      <td>7.530000</td>\n",
       "      <td>8.630000</td>\n",
       "      <td>37.180000</td>\n",
       "      <td>86.845000</td>\n",
       "      <td>13.340000</td>\n",
       "      <td>14.030000</td>\n",
       "      <td>0.560000</td>\n",
       "      <td>4.320000</td>\n",
       "      <td>0.090000</td>\n",
       "      <td>2.370000</td>\n",
       "      <td>0.210000</td>\n",
       "      <td>1475.000000</td>\n",
       "    </tr>\n",
       "    <tr>\n",
       "      <th>max</th>\n",
       "      <td>2016.000000</td>\n",
       "      <td>3.530385e+07</td>\n",
       "      <td>5.734557e+06</td>\n",
       "      <td>575012.000000</td>\n",
       "      <td>118676.000000</td>\n",
       "      <td>1.049300e+06</td>\n",
       "      <td>250118.000000</td>\n",
       "      <td>805762.000000</td>\n",
       "      <td>132525.000000</td>\n",
       "      <td>483498.000000</td>\n",
       "      <td>438722.000000</td>\n",
       "      <td>23.730833</td>\n",
       "      <td>1827.000000</td>\n",
       "      <td>123453.000000</td>\n",
       "      <td>880000.000000</td>\n",
       "      <td>43.600000</td>\n",
       "      <td>17.150000</td>\n",
       "      <td>118.620000</td>\n",
       "      <td>29.010000</td>\n",
       "      <td>70.699091</td>\n",
       "      <td>97.850000</td>\n",
       "      <td>63.520000</td>\n",
       "      <td>82.200000</td>\n",
       "      <td>18.214444</td>\n",
       "      <td>33.530000</td>\n",
       "      <td>1.500000</td>\n",
       "      <td>9.686000</td>\n",
       "      <td>2.350000</td>\n",
       "      <td>75323.000000</td>\n",
       "    </tr>\n",
       "  </tbody>\n",
       "</table>\n",
       "</div>"
      ],
      "text/plain": [
       "              year    population  renter_occupied_households  \\\n",
       "count  3157.000000  3.157000e+03                3.157000e+03   \n",
       "mean   2011.561609  1.133319e+06                1.604497e+05   \n",
       "std       2.870199  2.685035e+06                4.732926e+05   \n",
       "min    2007.000000  2.963100e+04                2.696000e+03   \n",
       "25%    2009.000000  2.478300e+05                3.174600e+04   \n",
       "50%    2012.000000  5.065290e+05                6.160300e+04   \n",
       "75%    2014.000000  1.010790e+06                1.338320e+05   \n",
       "max    2016.000000  3.530385e+07                5.734557e+06   \n",
       "\n",
       "       eviction_filings      evictions     total_ssi       aged_ssi  \\\n",
       "count       3157.000000    3157.000000  3.157000e+03    3157.000000   \n",
       "mean        8130.104846    2790.368071  2.874804e+04    4535.561926   \n",
       "std        31017.259646    6859.976926  8.161966e+04   18770.904877   \n",
       "min            0.000000       0.000000  2.850000e+02      12.000000   \n",
       "25%          272.000000      80.000000  5.073000e+03     407.000000   \n",
       "50%         1842.000000     930.000000  1.027600e+04     935.000000   \n",
       "75%         6020.000000    2892.000000  2.481400e+04    2462.000000   \n",
       "max       575012.000000  118676.000000  1.049300e+06  250118.000000   \n",
       "\n",
       "           disbl_ssi     18_und_ssi      18_64_ssi     65_ovr_ssi  \\\n",
       "count    3157.000000    3157.000000    3157.000000    3157.000000   \n",
       "mean    24109.090909    4188.866012   16543.141590    7999.343364   \n",
       "std     63791.956530   10614.063139   41290.193028   31613.717836   \n",
       "min       270.000000      32.000000     217.000000      29.000000   \n",
       "25%      4560.000000     754.000000    3259.000000     894.000000   \n",
       "50%      9063.000000    1600.000000    6452.000000    1933.000000   \n",
       "75%     21346.000000    3639.000000   15336.000000    5250.000000   \n",
       "max    805762.000000  132525.000000  483498.000000  438722.000000   \n",
       "\n",
       "       poverty_rate  median_gross_rent  median_household_income  \\\n",
       "count   3157.000000        3157.000000              3157.000000   \n",
       "mean      10.207520         862.082436             55318.655623   \n",
       "std        3.971800         259.411250             15278.970082   \n",
       "min        1.430000         430.923077             30511.750000   \n",
       "25%        7.437500         668.985294             44369.000000   \n",
       "50%        9.748462         794.000000             50747.000000   \n",
       "75%       13.000000         999.000000             62117.000000   \n",
       "max       23.730833        1827.000000            123453.000000   \n",
       "\n",
       "       median_property_value  avg_rent_burden  eviction_rate  \\\n",
       "count            3157.000000      3157.000000    2652.000000   \n",
       "mean           213638.198333        30.229545       2.506533   \n",
       "std            133574.406944         2.740652       2.332347   \n",
       "min             61525.000000        21.164151       0.000000   \n",
       "25%            119950.000000        28.600000       0.942500   \n",
       "50%            167400.000000        30.100000       1.830000   \n",
       "75%            263700.000000        31.900000       3.380000   \n",
       "max            880000.000000        43.600000      17.150000   \n",
       "\n",
       "       eviction_filing_rate  unemploy_rate  pct_renter_occupied    pct_white  \\\n",
       "count           2709.000000    3157.000000          3157.000000  3157.000000   \n",
       "mean               5.842634       7.123237            32.099638    72.249196   \n",
       "std                7.893657       2.799745             8.521690    17.843141   \n",
       "min                0.000000       1.950000            12.560000    12.590000   \n",
       "25%                1.590000       5.110000            26.040000    62.335000   \n",
       "50%                3.560000       6.665500            30.440000    76.030000   \n",
       "75%                7.530000       8.630000            37.180000    86.845000   \n",
       "max              118.620000      29.010000            70.699091    97.850000   \n",
       "\n",
       "         pct_af_am  pct_hispanic   pct_am_ind    pct_asian    pct_nh_pi  \\\n",
       "count  3157.000000   3157.000000  3157.000000  3157.000000  3157.000000   \n",
       "mean      9.481370     11.508706     0.837831     3.594905     0.100130   \n",
       "std      10.590134     12.902517     1.907531     4.651623     0.189632   \n",
       "min       0.210909      0.590000     0.020000     0.040000     0.000000   \n",
       "25%       2.161818      3.305000     0.156667     0.791000     0.018261   \n",
       "50%       5.560000      6.340000     0.260000     2.010000     0.030000   \n",
       "75%      13.340000     14.030000     0.560000     4.320000     0.090000   \n",
       "max      63.520000     82.200000    18.214444    33.530000     1.500000   \n",
       "\n",
       "       pct_multiple    pct_other  homeless_count  \n",
       "count   3157.000000  3157.000000     3157.000000  \n",
       "mean       2.048753     0.178996     1548.975610  \n",
       "std        1.119248     0.206276     4246.236415  \n",
       "min        0.575000     0.000000        7.000000  \n",
       "25%        1.357170     0.070000      313.000000  \n",
       "50%        1.760000     0.126667      676.000000  \n",
       "75%        2.370000     0.210000     1475.000000  \n",
       "max        9.686000     2.350000    75323.000000  "
      ]
     },
     "execution_count": 12,
     "metadata": {},
     "output_type": "execute_result"
    }
   ],
   "source": [
    "pd.set_option('display.max_columns', 100)\n",
    "df.describe()"
   ]
  },
  {
   "cell_type": "code",
   "execution_count": 13,
   "metadata": {
    "scrolled": false
   },
   "outputs": [
    {
     "data": {
      "text/plain": [
       "Index(['state', 'number', 'year', 'population', 'renter_occupied_households',\n",
       "       'eviction_filings', 'evictions', 'total_ssi', 'aged_ssi', 'disbl_ssi',\n",
       "       '18_und_ssi', '18_64_ssi', '65_ovr_ssi', 'poverty_rate',\n",
       "       'median_gross_rent', 'median_household_income', 'median_property_value',\n",
       "       'avg_rent_burden', 'eviction_rate', 'eviction_filing_rate',\n",
       "       'unemploy_rate', 'pct_renter_occupied', 'pct_white', 'pct_af_am',\n",
       "       'pct_hispanic', 'pct_am_ind', 'pct_asian', 'pct_nh_pi', 'pct_multiple',\n",
       "       'pct_other', 'homeless_count'],\n",
       "      dtype='object')"
      ]
     },
     "execution_count": 13,
     "metadata": {},
     "output_type": "execute_result"
    }
   ],
   "source": [
    "df.columns #change data types and round percentage pts"
   ]
  },
  {
   "cell_type": "code",
   "execution_count": 14,
   "metadata": {},
   "outputs": [
    {
     "data": {
      "text/plain": [
       "Text(0.5, 1.0, 'HOMELESS PER COC')"
      ]
     },
     "execution_count": 14,
     "metadata": {},
     "output_type": "execute_result"
    },
    {
     "data": {
      "image/png": "[encoded data removed]",
      "text/plain": [
       "<Figure size 288x288 with 1 Axes>"
      ]
     },
     "metadata": {
      "needs_background": "light"
     },
     "output_type": "display_data"
    }
   ],
   "source": [
    "fig = plt.figure(figsize=(4,4))\n",
    "sns.set(style=\"whitegrid\")\n",
    "sns.lineplot(x = df['number'], y = df['homeless_count'], color ='red' ).set_title('HOMELESS PER COC')"
   ]
  },
  {
   "cell_type": "code",
   "execution_count": 15,
   "metadata": {},
   "outputs": [
    {
     "data": {
      "text/plain": [
       "<matplotlib.axes._subplots.AxesSubplot at 0x11c9aedd8>"
      ]
     },
     "execution_count": 15,
     "metadata": {},
     "output_type": "execute_result"
    },
    {
     "data": {
      "image/png": "[encoded data removed]",
      "text/plain": [
       "<Figure size 432x432 with 1 Axes>"
      ]
     },
     "metadata": {},
     "output_type": "display_data"
    }
   ],
   "source": [
    "fig = plt.figure(figsize=(6,6))\n",
    "sns.scatterplot(x= df['homeless_count'], y= df['population'], color='red')"
   ]
  },
  {
   "cell_type": "code",
   "execution_count": 16,
   "metadata": {},
   "outputs": [
    {
     "data": {
      "text/plain": [
       "array(['CA-600', 'NY-600'], dtype=object)"
      ]
     },
     "execution_count": 16,
     "metadata": {},
     "output_type": "execute_result"
    }
   ],
   "source": [
    "df[df.homeless_count >= 30000].number.unique() #determine outliers and remove"
   ]
  },
  {
   "cell_type": "code",
   "execution_count": 17,
   "metadata": {},
   "outputs": [
    {
     "data": {
      "text/plain": [
       "array(['CA-600', 'CA-603', 'NY-600', 'TX-607', 'TX-700'], dtype=object)"
      ]
     },
     "execution_count": 17,
     "metadata": {},
     "output_type": "execute_result"
    }
   ],
   "source": [
    "df[df.population >= 10000000].number.unique()"
   ]
  },
  {
   "cell_type": "code",
   "execution_count": 18,
   "metadata": {},
   "outputs": [],
   "source": [
    "df = df[df.number != 'NY-600'] #dropping NYC\n",
    "df = df[df.number != 'CA-600'] #dropping LA\n",
    "df = df[df.number != 'CA-603'] #dropping Santa Barbara\n",
    "df = df[df.number != 'TX-607'] #dropping Texas balance of state\n",
    "df = df[df.number != 'TX-700'] #dropping Houston area"
   ]
  },
  {
   "cell_type": "code",
   "execution_count": 19,
   "metadata": {},
   "outputs": [
    {
     "name": "stdout",
     "output_type": "stream",
     "text": [
      "False    3111\n",
      "Name: state, dtype: int64\n",
      "False    3111\n",
      "Name: number, dtype: int64\n",
      "False    3111\n",
      "Name: year, dtype: int64\n",
      "False    3111\n",
      "Name: population, dtype: int64\n",
      "False    3111\n",
      "Name: renter_occupied_households, dtype: int64\n",
      "False    3111\n",
      "Name: eviction_filings, dtype: int64\n",
      "False    3111\n",
      "Name: evictions, dtype: int64\n",
      "False    3111\n",
      "Name: total_ssi, dtype: int64\n",
      "False    3111\n",
      "Name: aged_ssi, dtype: int64\n",
      "False    3111\n",
      "Name: disbl_ssi, dtype: int64\n",
      "False    3111\n",
      "Name: 18_und_ssi, dtype: int64\n",
      "False    3111\n",
      "Name: 18_64_ssi, dtype: int64\n",
      "False    3111\n",
      "Name: 65_ovr_ssi, dtype: int64\n",
      "False    3111\n",
      "Name: poverty_rate, dtype: int64\n",
      "False    3111\n",
      "Name: median_gross_rent, dtype: int64\n",
      "False    3111\n",
      "Name: median_household_income, dtype: int64\n",
      "False    3111\n",
      "Name: median_property_value, dtype: int64\n",
      "False    3111\n",
      "Name: avg_rent_burden, dtype: int64\n",
      "False    2613\n",
      "True      498\n",
      "Name: eviction_rate, dtype: int64\n",
      "False    2670\n",
      "True      441\n",
      "Name: eviction_filing_rate, dtype: int64\n",
      "False    3111\n",
      "Name: unemploy_rate, dtype: int64\n",
      "False    3111\n",
      "Name: pct_renter_occupied, dtype: int64\n",
      "False    3111\n",
      "Name: pct_white, dtype: int64\n",
      "False    3111\n",
      "Name: pct_af_am, dtype: int64\n",
      "False    3111\n",
      "Name: pct_hispanic, dtype: int64\n",
      "False    3111\n",
      "Name: pct_am_ind, dtype: int64\n",
      "False    3111\n",
      "Name: pct_asian, dtype: int64\n",
      "False    3111\n",
      "Name: pct_nh_pi, dtype: int64\n",
      "False    3111\n",
      "Name: pct_multiple, dtype: int64\n",
      "False    3111\n",
      "Name: pct_other, dtype: int64\n",
      "False    3111\n",
      "Name: homeless_count, dtype: int64\n"
     ]
    }
   ],
   "source": [
    "cols = list(df.columns) #check for NaN's\n",
    "for col in cols:\n",
    "    print(df[col].isna().value_counts())"
   ]
  },
  {
   "cell_type": "code",
   "execution_count": 20,
   "metadata": {},
   "outputs": [
    {
     "name": "stdout",
     "output_type": "stream",
     "text": [
      "False    2613\n",
      "True      498\n",
      "Name: eviction_rate, dtype: int64\n",
      "AVERAGE:  2.5188828055676504\n"
     ]
    }
   ],
   "source": [
    "print(df.eviction_rate.isna().value_counts())\n",
    "print('AVERAGE: ',df.eviction_rate.mean())"
   ]
  },
  {
   "cell_type": "code",
   "execution_count": 21,
   "metadata": {},
   "outputs": [],
   "source": [
    "df.eviction_rate = df.eviction_rate.fillna(2.52) #fill in missing data for eviction rate with mean"
   ]
  },
  {
   "cell_type": "code",
   "execution_count": 22,
   "metadata": {},
   "outputs": [
    {
     "name": "stdout",
     "output_type": "stream",
     "text": [
      "False    2670\n",
      "True      441\n",
      "Name: eviction_filing_rate, dtype: int64\n",
      "AVERAGE:  5.8716986793553945\n"
     ]
    }
   ],
   "source": [
    "print(df.eviction_filing_rate.isna().value_counts())\n",
    "print('AVERAGE: ', df.eviction_filing_rate.mean())"
   ]
  },
  {
   "cell_type": "code",
   "execution_count": 23,
   "metadata": {},
   "outputs": [],
   "source": [
    "df.eviction_filing_rate = df.eviction_filing_rate.fillna(5.87) "
   ]
  },
  {
   "cell_type": "code",
   "execution_count": 24,
   "metadata": {},
   "outputs": [],
   "source": [
    "whole_numbers = ['year', 'population', 'renter_occupied_households',\n",
    "       'eviction_filings', 'evictions', 'total_ssi', 'aged_ssi', 'disbl_ssi',\n",
    "       '18_und_ssi', '18_64_ssi', '65_ovr_ssi','homeless_count']"
   ]
  },
  {
   "cell_type": "code",
   "execution_count": 25,
   "metadata": {},
   "outputs": [],
   "source": [
    "for num in whole_numbers:\n",
    "    df[num]= df[num].astype(int)\n",
    "    "
   ]
  },
  {
   "cell_type": "code",
   "execution_count": 26,
   "metadata": {},
   "outputs": [],
   "source": [
    "floating_nums= ['poverty_rate','pct_renter_occupied', 'median_gross_rent',\n",
    "                'median_household_income','median_property_value', 'avg_rent_burden', \n",
    "                'pct_white', 'pct_af_am','pct_hispanic', 'pct_am_ind', 'pct_asian',\n",
    "                'pct_nh_pi', 'pct_multiple','pct_other', 'eviction_rate',\n",
    "                'eviction_filing_rate', 'unemploy_rate']"
   ]
  },
  {
   "cell_type": "code",
   "execution_count": 27,
   "metadata": {},
   "outputs": [],
   "source": [
    "for flo in floating_nums:\n",
    "    df[flo] = df[flo].astype(float).round(2)"
   ]
  },
  {
   "cell_type": "code",
   "execution_count": 28,
   "metadata": {},
   "outputs": [],
   "source": [
    "def no_infinite(x):\n",
    "    if x <= 0:\n",
    "        x = 0.0000000001\n",
    "    return x"
   ]
  },
  {
   "cell_type": "code",
   "execution_count": 29,
   "metadata": {},
   "outputs": [],
   "source": [
    "zero_mins= ['eviction_filings', 'evictions','pct_nh_pi','pct_other', 'eviction_rate', 'eviction_filing_rate']"
   ]
  },
  {
   "cell_type": "code",
   "execution_count": 30,
   "metadata": {},
   "outputs": [],
   "source": [
    "for item in zero_mins:\n",
    "    df[item] = df[item].apply(lambda x: no_infinite(x))"
   ]
  },
  {
   "cell_type": "code",
   "execution_count": 31,
   "metadata": {},
   "outputs": [],
   "source": [
    "df.eviction_filings = df.eviction_filings.astype(int)"
   ]
  },
  {
   "cell_type": "code",
   "execution_count": 32,
   "metadata": {},
   "outputs": [],
   "source": [
    "df.evictions = df.evictions.astype(int)"
   ]
  },
  {
   "cell_type": "code",
   "execution_count": 33,
   "metadata": {
    "scrolled": true
   },
   "outputs": [
    {
     "data": {
      "text/plain": [
       "(3111, 31)"
      ]
     },
     "execution_count": 33,
     "metadata": {},
     "output_type": "execute_result"
    }
   ],
   "source": [
    "df.shape"
   ]
  },
  {
   "cell_type": "code",
   "execution_count": 34,
   "metadata": {
    "scrolled": true
   },
   "outputs": [
    {
     "data": {
      "image/png": "[encoded data removed]",
      "text/plain": [
       "<Figure size 1440x1440 with 2 Axes>"
      ]
     },
     "metadata": {},
     "output_type": "display_data"
    }
   ],
   "source": [
    "corr = df.corr()\n",
    "fig, ax = plt.subplots(figsize=(20,20))\n",
    "\n",
    "ax = sns.heatmap(corr, annot = True,cmap = sns.diverging_palette(10, 220, sep=80, n=7))"
   ]
  },
  {
   "cell_type": "code",
   "execution_count": 35,
   "metadata": {},
   "outputs": [
    {
     "ename": "SyntaxError",
     "evalue": "unexpected EOF while parsing (<ipython-input-35-7d230d999402>, line 13)",
     "output_type": "error",
     "traceback": [
      "\u001b[0;36m  File \u001b[0;32m\"<ipython-input-35-7d230d999402>\"\u001b[0;36m, line \u001b[0;32m13\u001b[0m\n\u001b[0;31m    vis9 = sns.distplot(df[\"eviction_rate\"],bins=20,color='red', hist_kws=dict(edgecolor=\"k\", linewidth=2),ax=ax[2][2]\u001b[0m\n\u001b[0m                                                                                                                      ^\u001b[0m\n\u001b[0;31mSyntaxError\u001b[0m\u001b[0;31m:\u001b[0m unexpected EOF while parsing\n"
     ]
    }
   ],
   "source": [
    "sns.set_style('darkgrid',{'axes.edgecolor': '.9'},)\n",
    "f, ax = plt.subplots(3,3,figsize = (20,16))\n",
    "plt.rcParams[\"patch.force_edgecolor\"] = True\n",
    "\n",
    "vis1 = sns.distplot(df[\"homeless_count\"],bins=20, color='red',hist_kws=dict(edgecolor=\"k\", linewidth=2),ax= ax[0][0])\n",
    "vis2 = sns.distplot(df[\"population\"],bins=20, color ='red',hist_kws=dict(edgecolor=\"k\", linewidth=2), ax=ax[0][1])\n",
    "vis3 = sns.distplot(df[\"poverty_rate\"],bins=20, color='red',hist_kws=dict(edgecolor=\"k\", linewidth=2), ax=ax[0][2])\n",
    "vis4 = sns.distplot(df[\"unemploy_rate\"],bins=20,color='red',hist_kws=dict(edgecolor=\"k\", linewidth=2), ax=ax[1][0])\n",
    "vis5 = sns.distplot(df[\"total_ssi\"],bins=20,color='red', hist_kws=dict(edgecolor=\"k\", linewidth=2),ax=ax[1][1])\n",
    "vis6 = sns.distplot(df[\"disbl_ssi\"],bins=20, color='red',hist_kws=dict(edgecolor=\"k\", linewidth=2), ax=ax[1][2])\n",
    "vis7 = sns.distplot(df[\"median_gross_rent\"],bins=20,color='red', hist_kws=dict(edgecolor=\"k\", linewidth=2),ax=ax[2][0])\n",
    "vis8 = sns.distplot(df[\"median_household_income\"],bins=20,color='red', hist_kws=dict(edgecolor=\"k\", linewidth=2),ax=ax[2][1])\n",
    "vis9 = sns.distplot(df[\"eviction_rate\"],bins=20,color='red', hist_kws=dict(edgecolor=\"k\", linewidth=2),ax=ax[2][2]"
   ]
  },
  {
   "cell_type": "markdown",
   "metadata": {},
   "source": [
    "## Initial Linear Regression Model"
   ]
  },
  {
   "cell_type": "code",
   "execution_count": 34,
   "metadata": {},
   "outputs": [],
   "source": [
    "target = df['homeless_count']\n",
    "features = df.drop(['homeless_count','number','state','year'], axis=1)\n",
    "X_train, X_test, y_train, y_test = train_test_split(features, target, random_state= 27,test_size=0.2)"
   ]
  },
  {
   "cell_type": "code",
   "execution_count": 35,
   "metadata": {},
   "outputs": [],
   "source": [
    "regr = linear_model.LinearRegression()"
   ]
  },
  {
   "cell_type": "code",
   "execution_count": 36,
   "metadata": {},
   "outputs": [
    {
     "data": {
      "text/plain": [
       "LinearRegression(copy_X=True, fit_intercept=True, n_jobs=None, normalize=False)"
      ]
     },
     "execution_count": 36,
     "metadata": {},
     "output_type": "execute_result"
    }
   ],
   "source": [
    "regr.fit(X_train,y_train)"
   ]
  },
  {
   "cell_type": "code",
   "execution_count": 37,
   "metadata": {},
   "outputs": [],
   "source": [
    "y_train_pred = regr.predict(X_train)"
   ]
  },
  {
   "cell_type": "code",
   "execution_count": 38,
   "metadata": {},
   "outputs": [],
   "source": [
    "y_test_pred = regr.predict(X_test)"
   ]
  },
  {
   "cell_type": "code",
   "execution_count": 39,
   "metadata": {
    "scrolled": false
   },
   "outputs": [
    {
     "name": "stdout",
     "output_type": "stream",
     "text": [
      "R2: 0.44\n",
      "R2: 0.41\n"
     ]
    }
   ],
   "source": [
    "print(\"R2: %.2f\" % r2_score(y_train, y_train_pred))\n",
    "print(\"R2: %.2f\" % r2_score(y_test, y_test_pred))"
   ]
  },
  {
   "cell_type": "markdown",
   "metadata": {},
   "source": [
    "## Feature Engineering"
   ]
  },
  {
   "cell_type": "code",
   "execution_count": 40,
   "metadata": {},
   "outputs": [],
   "source": [
    "# Adding state mental health budget by CoC area"
   ]
  },
  {
   "cell_type": "code",
   "execution_count": 41,
   "metadata": {},
   "outputs": [],
   "source": [
    "h_df = df[['state', 'number', 'year', 'population']] "
   ]
  },
  {
   "cell_type": "code",
   "execution_count": 42,
   "metadata": {
    "scrolled": true
   },
   "outputs": [
    {
     "data": {
      "text/html": [
       "<div>\n",
       "<style scoped>\n",
       "    .dataframe tbody tr th:only-of-type {\n",
       "        vertical-align: middle;\n",
       "    }\n",
       "\n",
       "    .dataframe tbody tr th {\n",
       "        vertical-align: top;\n",
       "    }\n",
       "\n",
       "    .dataframe thead th {\n",
       "        text-align: right;\n",
       "    }\n",
       "</style>\n",
       "<table border=\"1\" class=\"dataframe\">\n",
       "  <thead>\n",
       "    <tr style=\"text-align: right;\">\n",
       "      <th></th>\n",
       "      <th>Unnamed: 0</th>\n",
       "      <th>2004</th>\n",
       "      <th>2005</th>\n",
       "      <th>2006</th>\n",
       "      <th>2007</th>\n",
       "      <th>2008</th>\n",
       "      <th>2009</th>\n",
       "      <th>2010</th>\n",
       "      <th>2011</th>\n",
       "      <th>2012</th>\n",
       "      <th>2013</th>\n",
       "    </tr>\n",
       "  </thead>\n",
       "  <tbody>\n",
       "    <tr>\n",
       "      <th>0</th>\n",
       "      <td>Alabama</td>\n",
       "      <td>58.78</td>\n",
       "      <td>60.31</td>\n",
       "      <td>64.43</td>\n",
       "      <td>74.03</td>\n",
       "      <td>79.39</td>\n",
       "      <td>77.89</td>\n",
       "      <td>78.19</td>\n",
       "      <td>78.33</td>\n",
       "      <td>76.27</td>\n",
       "      <td>72.64</td>\n",
       "    </tr>\n",
       "    <tr>\n",
       "      <th>1</th>\n",
       "      <td>Alaska</td>\n",
       "      <td>287.56</td>\n",
       "      <td>269.64</td>\n",
       "      <td>278.63</td>\n",
       "      <td>293.16</td>\n",
       "      <td>277.03</td>\n",
       "      <td>289.71</td>\n",
       "      <td>310.01</td>\n",
       "      <td>380.33</td>\n",
       "      <td>335.36</td>\n",
       "      <td>341.08</td>\n",
       "    </tr>\n",
       "    <tr>\n",
       "      <th>2</th>\n",
       "      <td>Arizona</td>\n",
       "      <td>135.64</td>\n",
       "      <td>146.22</td>\n",
       "      <td>156.78</td>\n",
       "      <td>158.07</td>\n",
       "      <td>173.85</td>\n",
       "      <td>196.13</td>\n",
       "      <td>221.27</td>\n",
       "      <td>214.48</td>\n",
       "      <td>209.44</td>\n",
       "      <td>205.23</td>\n",
       "    </tr>\n",
       "    <tr>\n",
       "      <th>3</th>\n",
       "      <td>Arkansas</td>\n",
       "      <td>32.95</td>\n",
       "      <td>35.60</td>\n",
       "      <td>38.58</td>\n",
       "      <td>39.72</td>\n",
       "      <td>40.53</td>\n",
       "      <td>42.77</td>\n",
       "      <td>42.02</td>\n",
       "      <td>NaN</td>\n",
       "      <td>45.05</td>\n",
       "      <td>45.56</td>\n",
       "    </tr>\n",
       "    <tr>\n",
       "      <th>4</th>\n",
       "      <td>California</td>\n",
       "      <td>113.61</td>\n",
       "      <td>118.65</td>\n",
       "      <td>122.98</td>\n",
       "      <td>134.94</td>\n",
       "      <td>150.34</td>\n",
       "      <td>157.62</td>\n",
       "      <td>152.60</td>\n",
       "      <td>162.00</td>\n",
       "      <td>169.65</td>\n",
       "      <td>160.50</td>\n",
       "    </tr>\n",
       "  </tbody>\n",
       "</table>\n",
       "</div>"
      ],
      "text/plain": [
       "   Unnamed: 0    2004    2005    2006    2007    2008    2009    2010    2011  \\\n",
       "0     Alabama   58.78   60.31   64.43   74.03   79.39   77.89   78.19   78.33   \n",
       "1      Alaska  287.56  269.64  278.63  293.16  277.03  289.71  310.01  380.33   \n",
       "2     Arizona  135.64  146.22  156.78  158.07  173.85  196.13  221.27  214.48   \n",
       "3    Arkansas   32.95   35.60   38.58   39.72   40.53   42.77   42.02     NaN   \n",
       "4  California  113.61  118.65  122.98  134.94  150.34  157.62  152.60  162.00   \n",
       "\n",
       "     2012    2013  \n",
       "0   76.27   72.64  \n",
       "1  335.36  341.08  \n",
       "2  209.44  205.23  \n",
       "3   45.05   45.56  \n",
       "4  169.65  160.50  "
      ]
     },
     "execution_count": 42,
     "metadata": {},
     "output_type": "execute_result"
    }
   ],
   "source": [
    "m_df = pd.read_csv('SMHA.csv')\n",
    "m_df.head()"
   ]
  },
  {
   "cell_type": "code",
   "execution_count": 43,
   "metadata": {},
   "outputs": [
    {
     "name": "stdout",
     "output_type": "stream",
     "text": [
      "<class 'pandas.core.frame.DataFrame'>\n",
      "RangeIndex: 51 entries, 0 to 50\n",
      "Data columns (total 11 columns):\n",
      "Unnamed: 0    51 non-null object\n",
      "2004          51 non-null float64\n",
      "2005          51 non-null float64\n",
      "2006          51 non-null float64\n",
      "2007          50 non-null float64\n",
      "2008          51 non-null float64\n",
      "2009          51 non-null float64\n",
      "2010          50 non-null float64\n",
      "2011          50 non-null float64\n",
      "2012          51 non-null float64\n",
      "2013          49 non-null float64\n",
      "dtypes: float64(10), object(1)\n",
      "memory usage: 4.5+ KB\n"
     ]
    }
   ],
   "source": [
    "m_df.info()"
   ]
  },
  {
   "cell_type": "code",
   "execution_count": 44,
   "metadata": {},
   "outputs": [],
   "source": [
    "m_df.rename({'Unnamed: 0': 'state'}, axis=1, inplace=True)"
   ]
  },
  {
   "cell_type": "code",
   "execution_count": 45,
   "metadata": {},
   "outputs": [
    {
     "data": {
      "text/html": [
       "<div>\n",
       "<style scoped>\n",
       "    .dataframe tbody tr th:only-of-type {\n",
       "        vertical-align: middle;\n",
       "    }\n",
       "\n",
       "    .dataframe tbody tr th {\n",
       "        vertical-align: top;\n",
       "    }\n",
       "\n",
       "    .dataframe thead th {\n",
       "        text-align: right;\n",
       "    }\n",
       "</style>\n",
       "<table border=\"1\" class=\"dataframe\">\n",
       "  <thead>\n",
       "    <tr style=\"text-align: right;\">\n",
       "      <th></th>\n",
       "      <th>state</th>\n",
       "      <th>2004</th>\n",
       "      <th>2005</th>\n",
       "      <th>2006</th>\n",
       "      <th>2007</th>\n",
       "      <th>2008</th>\n",
       "      <th>2009</th>\n",
       "      <th>2010</th>\n",
       "      <th>2011</th>\n",
       "      <th>2012</th>\n",
       "      <th>2013</th>\n",
       "    </tr>\n",
       "  </thead>\n",
       "  <tbody>\n",
       "    <tr>\n",
       "      <th>3</th>\n",
       "      <td>Arkansas</td>\n",
       "      <td>32.95</td>\n",
       "      <td>35.60</td>\n",
       "      <td>38.58</td>\n",
       "      <td>39.72</td>\n",
       "      <td>40.53</td>\n",
       "      <td>42.77</td>\n",
       "      <td>42.02</td>\n",
       "      <td>NaN</td>\n",
       "      <td>45.05</td>\n",
       "      <td>45.56</td>\n",
       "    </tr>\n",
       "    <tr>\n",
       "      <th>8</th>\n",
       "      <td>District of Columbia</td>\n",
       "      <td>409.92</td>\n",
       "      <td>404.40</td>\n",
       "      <td>394.10</td>\n",
       "      <td>392.27</td>\n",
       "      <td>381.90</td>\n",
       "      <td>388.83</td>\n",
       "      <td>NaN</td>\n",
       "      <td>307.45</td>\n",
       "      <td>305.37</td>\n",
       "      <td>306.87</td>\n",
       "    </tr>\n",
       "    <tr>\n",
       "      <th>9</th>\n",
       "      <td>Florida</td>\n",
       "      <td>35.96</td>\n",
       "      <td>36.56</td>\n",
       "      <td>38.17</td>\n",
       "      <td>39.87</td>\n",
       "      <td>42.11</td>\n",
       "      <td>40.90</td>\n",
       "      <td>39.55</td>\n",
       "      <td>39.04</td>\n",
       "      <td>37.28</td>\n",
       "      <td>NaN</td>\n",
       "    </tr>\n",
       "    <tr>\n",
       "      <th>11</th>\n",
       "      <td>Hawaii</td>\n",
       "      <td>147.99</td>\n",
       "      <td>156.67</td>\n",
       "      <td>135.75</td>\n",
       "      <td>NaN</td>\n",
       "      <td>207.58</td>\n",
       "      <td>212.15</td>\n",
       "      <td>169.99</td>\n",
       "      <td>126.63</td>\n",
       "      <td>131.16</td>\n",
       "      <td>131.77</td>\n",
       "    </tr>\n",
       "    <tr>\n",
       "      <th>31</th>\n",
       "      <td>New Mexico</td>\n",
       "      <td>27.78</td>\n",
       "      <td>24.23</td>\n",
       "      <td>25.58</td>\n",
       "      <td>97.61</td>\n",
       "      <td>95.98</td>\n",
       "      <td>93.51</td>\n",
       "      <td>93.37</td>\n",
       "      <td>138.20</td>\n",
       "      <td>131.44</td>\n",
       "      <td>NaN</td>\n",
       "    </tr>\n",
       "  </tbody>\n",
       "</table>\n",
       "</div>"
      ],
      "text/plain": [
       "                   state    2004    2005    2006    2007    2008    2009  \\\n",
       "3               Arkansas   32.95   35.60   38.58   39.72   40.53   42.77   \n",
       "8   District of Columbia  409.92  404.40  394.10  392.27  381.90  388.83   \n",
       "9                Florida   35.96   36.56   38.17   39.87   42.11   40.90   \n",
       "11                Hawaii  147.99  156.67  135.75     NaN  207.58  212.15   \n",
       "31            New Mexico   27.78   24.23   25.58   97.61   95.98   93.51   \n",
       "\n",
       "      2010    2011    2012    2013  \n",
       "3    42.02     NaN   45.05   45.56  \n",
       "8      NaN  307.45  305.37  306.87  \n",
       "9    39.55   39.04   37.28     NaN  \n",
       "11  169.99  126.63  131.16  131.77  \n",
       "31   93.37  138.20  131.44     NaN  "
      ]
     },
     "execution_count": 45,
     "metadata": {},
     "output_type": "execute_result"
    }
   ],
   "source": [
    "m_df[m_df.isnull().any(axis=1) == True] #fill missing data with averages for the state"
   ]
  },
  {
   "cell_type": "code",
   "execution_count": 46,
   "metadata": {
    "scrolled": true
   },
   "outputs": [
    {
     "data": {
      "text/plain": [
       "3      40.308889\n",
       "8     365.678889\n",
       "9      38.826667\n",
       "11    157.743333\n",
       "31     80.855556\n",
       "dtype: float64"
      ]
     },
     "execution_count": 46,
     "metadata": {},
     "output_type": "execute_result"
    }
   ],
   "source": [
    "m_df[m_df.isnull().any(axis=1) == True].mean(axis=1)"
   ]
  },
  {
   "cell_type": "code",
   "execution_count": 47,
   "metadata": {},
   "outputs": [],
   "source": [
    "m_df.loc[3] = m_df.loc[3].fillna(40.31)\n",
    "m_df.loc[8] = m_df.loc[8].fillna(365.68)\n",
    "m_df.loc[9] = m_df.loc[9].fillna(38.83)\n",
    "m_df.loc[11] = m_df.loc[11].fillna(157.74)\n",
    "m_df.loc[31] = m_df.loc[31].fillna(80.86)"
   ]
  },
  {
   "cell_type": "code",
   "execution_count": 48,
   "metadata": {},
   "outputs": [],
   "source": [
    "m_df.state = m_df.state.apply(lambda x: str(x).lower().strip())"
   ]
  },
  {
   "cell_type": "code",
   "execution_count": 49,
   "metadata": {
    "scrolled": false
   },
   "outputs": [
    {
     "data": {
      "text/html": [
       "<div>\n",
       "<style scoped>\n",
       "    .dataframe tbody tr th:only-of-type {\n",
       "        vertical-align: middle;\n",
       "    }\n",
       "\n",
       "    .dataframe tbody tr th {\n",
       "        vertical-align: top;\n",
       "    }\n",
       "\n",
       "    .dataframe thead th {\n",
       "        text-align: right;\n",
       "    }\n",
       "</style>\n",
       "<table border=\"1\" class=\"dataframe\">\n",
       "  <thead>\n",
       "    <tr style=\"text-align: right;\">\n",
       "      <th></th>\n",
       "      <th>state</th>\n",
       "      <th>2004</th>\n",
       "      <th>2005</th>\n",
       "      <th>2006</th>\n",
       "      <th>2007</th>\n",
       "      <th>2008</th>\n",
       "      <th>2009</th>\n",
       "      <th>2010</th>\n",
       "      <th>2011</th>\n",
       "      <th>2012</th>\n",
       "      <th>2013</th>\n",
       "    </tr>\n",
       "  </thead>\n",
       "  <tbody>\n",
       "    <tr>\n",
       "      <th>0</th>\n",
       "      <td>alabama</td>\n",
       "      <td>58.78</td>\n",
       "      <td>60.31</td>\n",
       "      <td>64.43</td>\n",
       "      <td>74.03</td>\n",
       "      <td>79.39</td>\n",
       "      <td>77.89</td>\n",
       "      <td>78.19</td>\n",
       "      <td>78.33</td>\n",
       "      <td>76.27</td>\n",
       "      <td>72.64</td>\n",
       "    </tr>\n",
       "    <tr>\n",
       "      <th>1</th>\n",
       "      <td>alaska</td>\n",
       "      <td>287.56</td>\n",
       "      <td>269.64</td>\n",
       "      <td>278.63</td>\n",
       "      <td>293.16</td>\n",
       "      <td>277.03</td>\n",
       "      <td>289.71</td>\n",
       "      <td>310.01</td>\n",
       "      <td>380.33</td>\n",
       "      <td>335.36</td>\n",
       "      <td>341.08</td>\n",
       "    </tr>\n",
       "    <tr>\n",
       "      <th>2</th>\n",
       "      <td>arizona</td>\n",
       "      <td>135.64</td>\n",
       "      <td>146.22</td>\n",
       "      <td>156.78</td>\n",
       "      <td>158.07</td>\n",
       "      <td>173.85</td>\n",
       "      <td>196.13</td>\n",
       "      <td>221.27</td>\n",
       "      <td>214.48</td>\n",
       "      <td>209.44</td>\n",
       "      <td>205.23</td>\n",
       "    </tr>\n",
       "    <tr>\n",
       "      <th>3</th>\n",
       "      <td>arkansas</td>\n",
       "      <td>32.95</td>\n",
       "      <td>35.60</td>\n",
       "      <td>38.58</td>\n",
       "      <td>39.72</td>\n",
       "      <td>40.53</td>\n",
       "      <td>42.77</td>\n",
       "      <td>42.02</td>\n",
       "      <td>40.31</td>\n",
       "      <td>45.05</td>\n",
       "      <td>45.56</td>\n",
       "    </tr>\n",
       "    <tr>\n",
       "      <th>4</th>\n",
       "      <td>california</td>\n",
       "      <td>113.61</td>\n",
       "      <td>118.65</td>\n",
       "      <td>122.98</td>\n",
       "      <td>134.94</td>\n",
       "      <td>150.34</td>\n",
       "      <td>157.62</td>\n",
       "      <td>152.60</td>\n",
       "      <td>162.00</td>\n",
       "      <td>169.65</td>\n",
       "      <td>160.50</td>\n",
       "    </tr>\n",
       "  </tbody>\n",
       "</table>\n",
       "</div>"
      ],
      "text/plain": [
       "        state    2004    2005    2006    2007    2008    2009    2010    2011  \\\n",
       "0     alabama   58.78   60.31   64.43   74.03   79.39   77.89   78.19   78.33   \n",
       "1      alaska  287.56  269.64  278.63  293.16  277.03  289.71  310.01  380.33   \n",
       "2     arizona  135.64  146.22  156.78  158.07  173.85  196.13  221.27  214.48   \n",
       "3    arkansas   32.95   35.60   38.58   39.72   40.53   42.77   42.02   40.31   \n",
       "4  california  113.61  118.65  122.98  134.94  150.34  157.62  152.60  162.00   \n",
       "\n",
       "     2012    2013  \n",
       "0   76.27   72.64  \n",
       "1  335.36  341.08  \n",
       "2  209.44  205.23  \n",
       "3   45.05   45.56  \n",
       "4  169.65  160.50  "
      ]
     },
     "execution_count": 49,
     "metadata": {},
     "output_type": "execute_result"
    }
   ],
   "source": [
    "m_df.head()"
   ]
  },
  {
   "cell_type": "code",
   "execution_count": 50,
   "metadata": {},
   "outputs": [
    {
     "name": "stdout",
     "output_type": "stream",
     "text": [
      "<class 'pandas.core.frame.DataFrame'>\n",
      "RangeIndex: 51 entries, 0 to 50\n",
      "Data columns (total 11 columns):\n",
      "state    51 non-null object\n",
      "2004     51 non-null float64\n",
      "2005     51 non-null float64\n",
      "2006     51 non-null float64\n",
      "2007     51 non-null float64\n",
      "2008     51 non-null float64\n",
      "2009     51 non-null float64\n",
      "2010     51 non-null float64\n",
      "2011     51 non-null float64\n",
      "2012     51 non-null float64\n",
      "2013     51 non-null float64\n",
      "dtypes: float64(10), object(1)\n",
      "memory usage: 4.5+ KB\n"
     ]
    }
   ],
   "source": [
    "m_df.info()"
   ]
  },
  {
   "cell_type": "code",
   "execution_count": 51,
   "metadata": {},
   "outputs": [],
   "source": [
    "m_df['2011']=m_df['2011'].astype(float) #change data type\n",
    "m_df['2013']=m_df['2013'].astype(float)"
   ]
  },
  {
   "cell_type": "code",
   "execution_count": 52,
   "metadata": {},
   "outputs": [
    {
     "name": "stderr",
     "output_type": "stream",
     "text": [
      "/anaconda3/lib/python3.7/site-packages/pandas/core/frame.py:4025: SettingWithCopyWarning: \n",
      "A value is trying to be set on a copy of a slice from a DataFrame\n",
      "\n",
      "See the caveats in the documentation: http://pandas.pydata.org/pandas-docs/stable/indexing.html#indexing-view-versus-copy\n",
      "  return super(DataFrame, self).rename(**kwargs)\n"
     ]
    }
   ],
   "source": [
    "d= {}\n",
    "for year in range(2007,2014):\n",
    "    yearstr = str(year)\n",
    "    \n",
    "    df1 = m_df[['state', yearstr]]\n",
    "    \n",
    "    df1.rename({yearstr:'smha_per_capita'}, axis=1, inplace=True)\n",
    "    \n",
    "    df2 = h_df[h_df['year'] == year]\n",
    "    \n",
    "    df3 = pd.merge(df1, df2, how='inner', on='state')\n",
    "    \n",
    "    d[yearstr] = df3\n"
   ]
  },
  {
   "cell_type": "code",
   "execution_count": 53,
   "metadata": {},
   "outputs": [],
   "source": [
    "smha = pd.concat(d, axis=0)"
   ]
  },
  {
   "cell_type": "code",
   "execution_count": 54,
   "metadata": {},
   "outputs": [
    {
     "data": {
      "text/html": [
       "<div>\n",
       "<style scoped>\n",
       "    .dataframe tbody tr th:only-of-type {\n",
       "        vertical-align: middle;\n",
       "    }\n",
       "\n",
       "    .dataframe tbody tr th {\n",
       "        vertical-align: top;\n",
       "    }\n",
       "\n",
       "    .dataframe thead th {\n",
       "        text-align: right;\n",
       "    }\n",
       "</style>\n",
       "<table border=\"1\" class=\"dataframe\">\n",
       "  <thead>\n",
       "    <tr style=\"text-align: right;\">\n",
       "      <th></th>\n",
       "      <th></th>\n",
       "      <th>state</th>\n",
       "      <th>smha_per_capita</th>\n",
       "      <th>number</th>\n",
       "      <th>year</th>\n",
       "      <th>population</th>\n",
       "    </tr>\n",
       "  </thead>\n",
       "  <tbody>\n",
       "    <tr>\n",
       "      <th rowspan=\"5\" valign=\"top\">2007</th>\n",
       "      <th>0</th>\n",
       "      <td>alabama</td>\n",
       "      <td>74.03</td>\n",
       "      <td>AL-500</td>\n",
       "      <td>2007</td>\n",
       "      <td>845208</td>\n",
       "    </tr>\n",
       "    <tr>\n",
       "      <th>1</th>\n",
       "      <td>alabama</td>\n",
       "      <td>74.03</td>\n",
       "      <td>AL-501</td>\n",
       "      <td>2007</td>\n",
       "      <td>577328</td>\n",
       "    </tr>\n",
       "    <tr>\n",
       "      <th>2</th>\n",
       "      <td>alabama</td>\n",
       "      <td>74.03</td>\n",
       "      <td>AL-502</td>\n",
       "      <td>2007</td>\n",
       "      <td>203358</td>\n",
       "    </tr>\n",
       "    <tr>\n",
       "      <th>3</th>\n",
       "      <td>alabama</td>\n",
       "      <td>74.03</td>\n",
       "      <td>AL-503</td>\n",
       "      <td>2007</td>\n",
       "      <td>786262</td>\n",
       "    </tr>\n",
       "    <tr>\n",
       "      <th>4</th>\n",
       "      <td>alabama</td>\n",
       "      <td>74.03</td>\n",
       "      <td>AL-504</td>\n",
       "      <td>2007</td>\n",
       "      <td>224369</td>\n",
       "    </tr>\n",
       "  </tbody>\n",
       "</table>\n",
       "</div>"
      ],
      "text/plain": [
       "          state  smha_per_capita  number  year  population\n",
       "2007 0  alabama            74.03  AL-500  2007      845208\n",
       "     1  alabama            74.03  AL-501  2007      577328\n",
       "     2  alabama            74.03  AL-502  2007      203358\n",
       "     3  alabama            74.03  AL-503  2007      786262\n",
       "     4  alabama            74.03  AL-504  2007      224369"
      ]
     },
     "execution_count": 54,
     "metadata": {},
     "output_type": "execute_result"
    }
   ],
   "source": [
    "smha.head()"
   ]
  },
  {
   "cell_type": "code",
   "execution_count": 55,
   "metadata": {},
   "outputs": [],
   "source": [
    "smha.reset_index(inplace=True)"
   ]
  },
  {
   "cell_type": "code",
   "execution_count": 56,
   "metadata": {},
   "outputs": [],
   "source": [
    "smha.drop(['level_0','level_1'], axis=1, inplace=True)"
   ]
  },
  {
   "cell_type": "code",
   "execution_count": 57,
   "metadata": {},
   "outputs": [],
   "source": [
    "smha.year = smha.year.apply(lambda x: int(x))"
   ]
  },
  {
   "cell_type": "code",
   "execution_count": 58,
   "metadata": {
    "scrolled": true
   },
   "outputs": [
    {
     "data": {
      "text/html": [
       "<div>\n",
       "<style scoped>\n",
       "    .dataframe tbody tr th:only-of-type {\n",
       "        vertical-align: middle;\n",
       "    }\n",
       "\n",
       "    .dataframe tbody tr th {\n",
       "        vertical-align: top;\n",
       "    }\n",
       "\n",
       "    .dataframe thead th {\n",
       "        text-align: right;\n",
       "    }\n",
       "</style>\n",
       "<table border=\"1\" class=\"dataframe\">\n",
       "  <thead>\n",
       "    <tr style=\"text-align: right;\">\n",
       "      <th></th>\n",
       "      <th></th>\n",
       "      <th>smha_per_capita</th>\n",
       "      <th>year</th>\n",
       "      <th>population</th>\n",
       "    </tr>\n",
       "    <tr>\n",
       "      <th>number</th>\n",
       "      <th>state</th>\n",
       "      <th></th>\n",
       "      <th></th>\n",
       "      <th></th>\n",
       "    </tr>\n",
       "  </thead>\n",
       "  <tbody>\n",
       "    <tr>\n",
       "      <th>AL-500</th>\n",
       "      <th>alabama</th>\n",
       "      <td>76.677143</td>\n",
       "      <td>2010.0</td>\n",
       "      <td>853834.714286</td>\n",
       "    </tr>\n",
       "    <tr>\n",
       "      <th>AL-501</th>\n",
       "      <th>alabama</th>\n",
       "      <td>76.677143</td>\n",
       "      <td>2010.0</td>\n",
       "      <td>593622.428571</td>\n",
       "    </tr>\n",
       "    <tr>\n",
       "      <th>AL-502</th>\n",
       "      <th>alabama</th>\n",
       "      <td>76.677143</td>\n",
       "      <td>2010.0</td>\n",
       "      <td>206756.714286</td>\n",
       "    </tr>\n",
       "    <tr>\n",
       "      <th>AL-503</th>\n",
       "      <th>alabama</th>\n",
       "      <td>76.677143</td>\n",
       "      <td>2010.0</td>\n",
       "      <td>816406.000000</td>\n",
       "    </tr>\n",
       "    <tr>\n",
       "      <th>AL-504</th>\n",
       "      <th>alabama</th>\n",
       "      <td>76.677143</td>\n",
       "      <td>2010.0</td>\n",
       "      <td>226697.714286</td>\n",
       "    </tr>\n",
       "  </tbody>\n",
       "</table>\n",
       "</div>"
      ],
      "text/plain": [
       "                smha_per_capita    year     population\n",
       "number state                                          \n",
       "AL-500 alabama        76.677143  2010.0  853834.714286\n",
       "AL-501 alabama        76.677143  2010.0  593622.428571\n",
       "AL-502 alabama        76.677143  2010.0  206756.714286\n",
       "AL-503 alabama        76.677143  2010.0  816406.000000\n",
       "AL-504 alabama        76.677143  2010.0  226697.714286"
      ]
     },
     "execution_count": 58,
     "metadata": {},
     "output_type": "execute_result"
    }
   ],
   "source": [
    "# adding averages to the missing yrs data 2014-2016\n",
    "av_df = smha.groupby(['number','state']).mean()\n",
    "\n",
    "av_df.head()"
   ]
  },
  {
   "cell_type": "code",
   "execution_count": 59,
   "metadata": {},
   "outputs": [],
   "source": [
    "av_df.reset_index(inplace=True)"
   ]
  },
  {
   "cell_type": "code",
   "execution_count": 60,
   "metadata": {},
   "outputs": [],
   "source": [
    "av_df.drop('year', axis=1, inplace=True)"
   ]
  },
  {
   "cell_type": "code",
   "execution_count": 61,
   "metadata": {},
   "outputs": [],
   "source": [
    "dat = {}\n",
    "\n",
    "for year in range(2014,2017):\n",
    "    year_str = str(year)\n",
    "    df_x = av_df.copy()\n",
    "    df_x['year'] = year\n",
    "    dat[year_str] = df_x\n",
    "    \n",
    "    \n",
    "avg_data = pd.concat(dat, axis=0)"
   ]
  },
  {
   "cell_type": "code",
   "execution_count": 62,
   "metadata": {},
   "outputs": [
    {
     "data": {
      "text/html": [
       "<div>\n",
       "<style scoped>\n",
       "    .dataframe tbody tr th:only-of-type {\n",
       "        vertical-align: middle;\n",
       "    }\n",
       "\n",
       "    .dataframe tbody tr th {\n",
       "        vertical-align: top;\n",
       "    }\n",
       "\n",
       "    .dataframe thead th {\n",
       "        text-align: right;\n",
       "    }\n",
       "</style>\n",
       "<table border=\"1\" class=\"dataframe\">\n",
       "  <thead>\n",
       "    <tr style=\"text-align: right;\">\n",
       "      <th></th>\n",
       "      <th></th>\n",
       "      <th>number</th>\n",
       "      <th>state</th>\n",
       "      <th>smha_per_capita</th>\n",
       "      <th>population</th>\n",
       "      <th>year</th>\n",
       "    </tr>\n",
       "  </thead>\n",
       "  <tbody>\n",
       "    <tr>\n",
       "      <th rowspan=\"5\" valign=\"top\">2014</th>\n",
       "      <th>0</th>\n",
       "      <td>AL-500</td>\n",
       "      <td>alabama</td>\n",
       "      <td>76.677143</td>\n",
       "      <td>853834.714286</td>\n",
       "      <td>2014</td>\n",
       "    </tr>\n",
       "    <tr>\n",
       "      <th>1</th>\n",
       "      <td>AL-501</td>\n",
       "      <td>alabama</td>\n",
       "      <td>76.677143</td>\n",
       "      <td>593622.428571</td>\n",
       "      <td>2014</td>\n",
       "    </tr>\n",
       "    <tr>\n",
       "      <th>2</th>\n",
       "      <td>AL-502</td>\n",
       "      <td>alabama</td>\n",
       "      <td>76.677143</td>\n",
       "      <td>206756.714286</td>\n",
       "      <td>2014</td>\n",
       "    </tr>\n",
       "    <tr>\n",
       "      <th>3</th>\n",
       "      <td>AL-503</td>\n",
       "      <td>alabama</td>\n",
       "      <td>76.677143</td>\n",
       "      <td>816406.000000</td>\n",
       "      <td>2014</td>\n",
       "    </tr>\n",
       "    <tr>\n",
       "      <th>4</th>\n",
       "      <td>AL-504</td>\n",
       "      <td>alabama</td>\n",
       "      <td>76.677143</td>\n",
       "      <td>226697.714286</td>\n",
       "      <td>2014</td>\n",
       "    </tr>\n",
       "  </tbody>\n",
       "</table>\n",
       "</div>"
      ],
      "text/plain": [
       "        number    state  smha_per_capita     population  year\n",
       "2014 0  AL-500  alabama        76.677143  853834.714286  2014\n",
       "     1  AL-501  alabama        76.677143  593622.428571  2014\n",
       "     2  AL-502  alabama        76.677143  206756.714286  2014\n",
       "     3  AL-503  alabama        76.677143  816406.000000  2014\n",
       "     4  AL-504  alabama        76.677143  226697.714286  2014"
      ]
     },
     "execution_count": 62,
     "metadata": {},
     "output_type": "execute_result"
    }
   ],
   "source": [
    "avg_data.head()"
   ]
  },
  {
   "cell_type": "code",
   "execution_count": 78,
   "metadata": {},
   "outputs": [
    {
     "data": {
      "text/plain": [
       "array([2014, 2015, 2016])"
      ]
     },
     "execution_count": 78,
     "metadata": {},
     "output_type": "execute_result"
    }
   ],
   "source": [
    "avg_data.year.unique()"
   ]
  },
  {
   "cell_type": "code",
   "execution_count": 63,
   "metadata": {},
   "outputs": [],
   "source": [
    "smha = smha[['number','state', 'smha_per_capita', 'population', 'year']]"
   ]
  },
  {
   "cell_type": "code",
   "execution_count": 64,
   "metadata": {},
   "outputs": [],
   "source": [
    "both = [smha, avg_data]"
   ]
  },
  {
   "cell_type": "code",
   "execution_count": 65,
   "metadata": {},
   "outputs": [],
   "source": [
    "smha = pd.concat(both, axis=0)"
   ]
  },
  {
   "cell_type": "code",
   "execution_count": 66,
   "metadata": {},
   "outputs": [],
   "source": [
    "smha.reset_index(inplace=True)"
   ]
  },
  {
   "cell_type": "code",
   "execution_count": 67,
   "metadata": {},
   "outputs": [],
   "source": [
    "smha.drop('index', axis=1, inplace=True)"
   ]
  },
  {
   "cell_type": "code",
   "execution_count": 68,
   "metadata": {},
   "outputs": [],
   "source": [
    "new_df = pd.merge(df, smha, how='inner', on=['year','number'])"
   ]
  },
  {
   "cell_type": "code",
   "execution_count": 69,
   "metadata": {},
   "outputs": [
    {
     "data": {
      "text/html": [
       "<div>\n",
       "<style scoped>\n",
       "    .dataframe tbody tr th:only-of-type {\n",
       "        vertical-align: middle;\n",
       "    }\n",
       "\n",
       "    .dataframe tbody tr th {\n",
       "        vertical-align: top;\n",
       "    }\n",
       "\n",
       "    .dataframe thead th {\n",
       "        text-align: right;\n",
       "    }\n",
       "</style>\n",
       "<table border=\"1\" class=\"dataframe\">\n",
       "  <thead>\n",
       "    <tr style=\"text-align: right;\">\n",
       "      <th></th>\n",
       "      <th>state_x</th>\n",
       "      <th>number</th>\n",
       "      <th>year</th>\n",
       "      <th>population_x</th>\n",
       "      <th>renter_occupied_households</th>\n",
       "      <th>eviction_filings</th>\n",
       "      <th>evictions</th>\n",
       "      <th>total_ssi</th>\n",
       "      <th>aged_ssi</th>\n",
       "      <th>disbl_ssi</th>\n",
       "      <th>18_und_ssi</th>\n",
       "      <th>18_64_ssi</th>\n",
       "      <th>65_ovr_ssi</th>\n",
       "      <th>poverty_rate</th>\n",
       "      <th>median_gross_rent</th>\n",
       "      <th>median_household_income</th>\n",
       "      <th>median_property_value</th>\n",
       "      <th>avg_rent_burden</th>\n",
       "      <th>eviction_rate</th>\n",
       "      <th>eviction_filing_rate</th>\n",
       "      <th>unemploy_rate</th>\n",
       "      <th>pct_renter_occupied</th>\n",
       "      <th>pct_white</th>\n",
       "      <th>pct_af_am</th>\n",
       "      <th>pct_hispanic</th>\n",
       "      <th>pct_am_ind</th>\n",
       "      <th>pct_asian</th>\n",
       "      <th>pct_nh_pi</th>\n",
       "      <th>pct_multiple</th>\n",
       "      <th>pct_other</th>\n",
       "      <th>homeless_count</th>\n",
       "      <th>state_y</th>\n",
       "      <th>smha_per_capita</th>\n",
       "      <th>population_y</th>\n",
       "    </tr>\n",
       "  </thead>\n",
       "  <tbody>\n",
       "    <tr>\n",
       "      <th>0</th>\n",
       "      <td>alabama</td>\n",
       "      <td>AL-500</td>\n",
       "      <td>2007</td>\n",
       "      <td>845208</td>\n",
       "      <td>104742</td>\n",
       "      <td>3203</td>\n",
       "      <td>656</td>\n",
       "      <td>25480</td>\n",
       "      <td>1839</td>\n",
       "      <td>23641</td>\n",
       "      <td>5652</td>\n",
       "      <td>15899</td>\n",
       "      <td>3929</td>\n",
       "      <td>7.88</td>\n",
       "      <td>766.5</td>\n",
       "      <td>56126.0</td>\n",
       "      <td>160350.0</td>\n",
       "      <td>28.0</td>\n",
       "      <td>0.63</td>\n",
       "      <td>2.72</td>\n",
       "      <td>3.23</td>\n",
       "      <td>26.34</td>\n",
       "      <td>68.87</td>\n",
       "      <td>25.15</td>\n",
       "      <td>3.43</td>\n",
       "      <td>0.20</td>\n",
       "      <td>1.44</td>\n",
       "      <td>0.03</td>\n",
       "      <td>0.77</td>\n",
       "      <td>0.12</td>\n",
       "      <td>2104</td>\n",
       "      <td>alabama</td>\n",
       "      <td>74.03</td>\n",
       "      <td>845208.0</td>\n",
       "    </tr>\n",
       "    <tr>\n",
       "      <th>1</th>\n",
       "      <td>alabama</td>\n",
       "      <td>AL-500</td>\n",
       "      <td>2008</td>\n",
       "      <td>845208</td>\n",
       "      <td>105612</td>\n",
       "      <td>2172</td>\n",
       "      <td>976</td>\n",
       "      <td>25762</td>\n",
       "      <td>1722</td>\n",
       "      <td>24040</td>\n",
       "      <td>5659</td>\n",
       "      <td>16269</td>\n",
       "      <td>3834</td>\n",
       "      <td>7.88</td>\n",
       "      <td>766.5</td>\n",
       "      <td>56126.0</td>\n",
       "      <td>160350.0</td>\n",
       "      <td>28.0</td>\n",
       "      <td>0.80</td>\n",
       "      <td>1.87</td>\n",
       "      <td>4.56</td>\n",
       "      <td>26.34</td>\n",
       "      <td>68.87</td>\n",
       "      <td>25.15</td>\n",
       "      <td>3.43</td>\n",
       "      <td>0.20</td>\n",
       "      <td>1.44</td>\n",
       "      <td>0.03</td>\n",
       "      <td>0.77</td>\n",
       "      <td>0.12</td>\n",
       "      <td>2104</td>\n",
       "      <td>alabama</td>\n",
       "      <td>79.39</td>\n",
       "      <td>845208.0</td>\n",
       "    </tr>\n",
       "    <tr>\n",
       "      <th>2</th>\n",
       "      <td>alabama</td>\n",
       "      <td>AL-500</td>\n",
       "      <td>2009</td>\n",
       "      <td>845208</td>\n",
       "      <td>106482</td>\n",
       "      <td>1785</td>\n",
       "      <td>945</td>\n",
       "      <td>26244</td>\n",
       "      <td>1615</td>\n",
       "      <td>24629</td>\n",
       "      <td>5767</td>\n",
       "      <td>16724</td>\n",
       "      <td>3753</td>\n",
       "      <td>7.88</td>\n",
       "      <td>766.5</td>\n",
       "      <td>56126.0</td>\n",
       "      <td>160350.0</td>\n",
       "      <td>28.0</td>\n",
       "      <td>0.82</td>\n",
       "      <td>1.52</td>\n",
       "      <td>9.27</td>\n",
       "      <td>26.34</td>\n",
       "      <td>68.87</td>\n",
       "      <td>25.15</td>\n",
       "      <td>3.43</td>\n",
       "      <td>0.20</td>\n",
       "      <td>1.44</td>\n",
       "      <td>0.03</td>\n",
       "      <td>0.77</td>\n",
       "      <td>0.12</td>\n",
       "      <td>2273</td>\n",
       "      <td>alabama</td>\n",
       "      <td>77.89</td>\n",
       "      <td>845208.0</td>\n",
       "    </tr>\n",
       "    <tr>\n",
       "      <th>3</th>\n",
       "      <td>alabama</td>\n",
       "      <td>AL-500</td>\n",
       "      <td>2010</td>\n",
       "      <td>853551</td>\n",
       "      <td>107353</td>\n",
       "      <td>2486</td>\n",
       "      <td>1605</td>\n",
       "      <td>27098</td>\n",
       "      <td>1525</td>\n",
       "      <td>25573</td>\n",
       "      <td>5792</td>\n",
       "      <td>17596</td>\n",
       "      <td>3710</td>\n",
       "      <td>9.48</td>\n",
       "      <td>837.0</td>\n",
       "      <td>57397.0</td>\n",
       "      <td>169150.0</td>\n",
       "      <td>29.8</td>\n",
       "      <td>1.60</td>\n",
       "      <td>2.62</td>\n",
       "      <td>8.72</td>\n",
       "      <td>27.62</td>\n",
       "      <td>65.91</td>\n",
       "      <td>26.20</td>\n",
       "      <td>4.90</td>\n",
       "      <td>0.22</td>\n",
       "      <td>1.64</td>\n",
       "      <td>0.02</td>\n",
       "      <td>0.99</td>\n",
       "      <td>0.10</td>\n",
       "      <td>2273</td>\n",
       "      <td>alabama</td>\n",
       "      <td>78.19</td>\n",
       "      <td>853551.0</td>\n",
       "    </tr>\n",
       "    <tr>\n",
       "      <th>4</th>\n",
       "      <td>alabama</td>\n",
       "      <td>AL-500</td>\n",
       "      <td>2011</td>\n",
       "      <td>862556</td>\n",
       "      <td>108846</td>\n",
       "      <td>3708</td>\n",
       "      <td>2257</td>\n",
       "      <td>27532</td>\n",
       "      <td>1459</td>\n",
       "      <td>26073</td>\n",
       "      <td>5743</td>\n",
       "      <td>18117</td>\n",
       "      <td>3672</td>\n",
       "      <td>10.32</td>\n",
       "      <td>877.0</td>\n",
       "      <td>57898.5</td>\n",
       "      <td>168100.0</td>\n",
       "      <td>29.6</td>\n",
       "      <td>1.68</td>\n",
       "      <td>2.72</td>\n",
       "      <td>7.77</td>\n",
       "      <td>28.96</td>\n",
       "      <td>64.90</td>\n",
       "      <td>26.95</td>\n",
       "      <td>4.82</td>\n",
       "      <td>0.23</td>\n",
       "      <td>1.80</td>\n",
       "      <td>0.02</td>\n",
       "      <td>1.10</td>\n",
       "      <td>0.16</td>\n",
       "      <td>1950</td>\n",
       "      <td>alabama</td>\n",
       "      <td>78.33</td>\n",
       "      <td>862556.0</td>\n",
       "    </tr>\n",
       "  </tbody>\n",
       "</table>\n",
       "</div>"
      ],
      "text/plain": [
       "   state_x  number  year  population_x  renter_occupied_households  \\\n",
       "0  alabama  AL-500  2007        845208                      104742   \n",
       "1  alabama  AL-500  2008        845208                      105612   \n",
       "2  alabama  AL-500  2009        845208                      106482   \n",
       "3  alabama  AL-500  2010        853551                      107353   \n",
       "4  alabama  AL-500  2011        862556                      108846   \n",
       "\n",
       "   eviction_filings  evictions  total_ssi  aged_ssi  disbl_ssi  18_und_ssi  \\\n",
       "0              3203        656      25480      1839      23641        5652   \n",
       "1              2172        976      25762      1722      24040        5659   \n",
       "2              1785        945      26244      1615      24629        5767   \n",
       "3              2486       1605      27098      1525      25573        5792   \n",
       "4              3708       2257      27532      1459      26073        5743   \n",
       "\n",
       "   18_64_ssi  65_ovr_ssi  poverty_rate  median_gross_rent  \\\n",
       "0      15899        3929          7.88              766.5   \n",
       "1      16269        3834          7.88              766.5   \n",
       "2      16724        3753          7.88              766.5   \n",
       "3      17596        3710          9.48              837.0   \n",
       "4      18117        3672         10.32              877.0   \n",
       "\n",
       "   median_household_income  median_property_value  avg_rent_burden  \\\n",
       "0                  56126.0               160350.0             28.0   \n",
       "1                  56126.0               160350.0             28.0   \n",
       "2                  56126.0               160350.0             28.0   \n",
       "3                  57397.0               169150.0             29.8   \n",
       "4                  57898.5               168100.0             29.6   \n",
       "\n",
       "   eviction_rate  eviction_filing_rate  unemploy_rate  pct_renter_occupied  \\\n",
       "0           0.63                  2.72           3.23                26.34   \n",
       "1           0.80                  1.87           4.56                26.34   \n",
       "2           0.82                  1.52           9.27                26.34   \n",
       "3           1.60                  2.62           8.72                27.62   \n",
       "4           1.68                  2.72           7.77                28.96   \n",
       "\n",
       "   pct_white  pct_af_am  pct_hispanic  pct_am_ind  pct_asian  pct_nh_pi  \\\n",
       "0      68.87      25.15          3.43        0.20       1.44       0.03   \n",
       "1      68.87      25.15          3.43        0.20       1.44       0.03   \n",
       "2      68.87      25.15          3.43        0.20       1.44       0.03   \n",
       "3      65.91      26.20          4.90        0.22       1.64       0.02   \n",
       "4      64.90      26.95          4.82        0.23       1.80       0.02   \n",
       "\n",
       "   pct_multiple  pct_other  homeless_count  state_y  smha_per_capita  \\\n",
       "0          0.77       0.12            2104  alabama            74.03   \n",
       "1          0.77       0.12            2104  alabama            79.39   \n",
       "2          0.77       0.12            2273  alabama            77.89   \n",
       "3          0.99       0.10            2273  alabama            78.19   \n",
       "4          1.10       0.16            1950  alabama            78.33   \n",
       "\n",
       "   population_y  \n",
       "0      845208.0  \n",
       "1      845208.0  \n",
       "2      845208.0  \n",
       "3      853551.0  \n",
       "4      862556.0  "
      ]
     },
     "execution_count": 69,
     "metadata": {},
     "output_type": "execute_result"
    }
   ],
   "source": [
    "new_df.head()"
   ]
  },
  {
   "cell_type": "code",
   "execution_count": 70,
   "metadata": {},
   "outputs": [],
   "source": [
    "new_df.drop(['population_y', 'state_y'], axis=1, inplace=True)"
   ]
  },
  {
   "cell_type": "code",
   "execution_count": 71,
   "metadata": {},
   "outputs": [],
   "source": [
    "new_df.rename({'state_x':'state', 'population_x':'population'}, axis=1, inplace=True)"
   ]
  },
  {
   "cell_type": "code",
   "execution_count": 72,
   "metadata": {},
   "outputs": [
    {
     "data": {
      "text/plain": [
       "array([2007, 2008, 2009, 2010, 2011, 2012, 2013, 2014, 2015, 2016])"
      ]
     },
     "execution_count": 72,
     "metadata": {},
     "output_type": "execute_result"
    }
   ],
   "source": [
    "new_df.year.unique()"
   ]
  },
  {
   "cell_type": "code",
   "execution_count": 73,
   "metadata": {},
   "outputs": [
    {
     "data": {
      "text/plain": [
       "(3203, 32)"
      ]
     },
     "execution_count": 73,
     "metadata": {},
     "output_type": "execute_result"
    }
   ],
   "source": [
    "new_df.shape"
   ]
  },
  {
   "cell_type": "code",
   "execution_count": 74,
   "metadata": {},
   "outputs": [],
   "source": [
    "new_df['mental_health_budget'] = new_df['smha_per_capita'] * new_df['population']"
   ]
  },
  {
   "cell_type": "code",
   "execution_count": 75,
   "metadata": {},
   "outputs": [],
   "source": [
    "new_df['mental_health_budget'] = new_df['mental_health_budget'].apply(lambda x: round(x))"
   ]
  },
  {
   "cell_type": "code",
   "execution_count": 76,
   "metadata": {},
   "outputs": [],
   "source": [
    "new_df.drop('smha_per_capita', axis=1, inplace=True)"
   ]
  },
  {
   "cell_type": "code",
   "execution_count": 77,
   "metadata": {
    "scrolled": false
   },
   "outputs": [
    {
     "data": {
      "text/plain": [
       "<matplotlib.axes._subplots.AxesSubplot at 0x114f7ca58>"
      ]
     },
     "execution_count": 77,
     "metadata": {},
     "output_type": "execute_result"
    },
    {
     "data": {
      "image/png": "[encoded data removed]",
      "text/plain": [
       "<Figure size 576x576 with 1 Axes>"
      ]
     },
     "metadata": {},
     "output_type": "display_data"
    }
   ],
   "source": [
    "fig = plt.figure(figsize=(8,8))\n",
    "sns.scatterplot(x=new_df['mental_health_budget'], y=new_df['homeless_count'], color='orangered' )"
   ]
  },
  {
   "cell_type": "code",
   "execution_count": 195,
   "metadata": {},
   "outputs": [],
   "source": [
    "#new_df.to_csv('feat_data.csv')"
   ]
  },
  {
   "cell_type": "code",
   "execution_count": null,
   "metadata": {},
   "outputs": [],
   "source": []
  }
 ],
 "metadata": {
  "kernelspec": {
   "display_name": "Python 3",
   "language": "python",
   "name": "python3"
  },
  "language_info": {
   "codemirror_mode": {
    "name": "ipython",
    "version": 3
   },
   "file_extension": ".py",
   "mimetype": "text/x-python",
   "name": "python",
   "nbconvert_exporter": "python",
   "pygments_lexer": "ipython3",
   "version": "3.7.3"
  }
 },
 "nbformat": 4,
 "nbformat_minor": 2
}
